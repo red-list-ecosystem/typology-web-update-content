{
 "cells": [
  {
   "cell_type": "markdown",
   "id": "8f0c2e4c-9a06-42f1-8a7b-486564e3c1e7",
   "metadata": {},
   "source": [
    "# Update map information from repository\n",
    "\n",
    "A simple R script to read from the configuration file in json format and update information in database regarding valid maps.\n"
   ]
  },
  {
   "cell_type": "markdown",
   "id": "1eda773f-c310-4870-a6f8-80936a4fa341",
   "metadata": {},
   "source": [
    "## Set-up\n",
    "Load libraries"
   ]
  },
  {
   "cell_type": "code",
   "execution_count": 1,
   "id": "6365ac8d-70b9-453f-89d8-0b7386c8c50c",
   "metadata": {},
   "outputs": [
    {
     "name": "stderr",
     "output_type": "stream",
     "text": [
      "Loading required package: RPostgreSQL\n",
      "\n",
      "Loading required package: DBI\n",
      "\n",
      "Loading required package: jsonlite\n",
      "\n"
     ]
    }
   ],
   "source": [
    "require(\"RPostgreSQL\")\n",
    "require(jsonlite)\n",
    "drv <- dbDriver(\"PostgreSQL\") ## remember to update .pgpass file"
   ]
  },
  {
   "cell_type": "markdown",
   "id": "e14bc833-b612-428b-9635-647c91efa745",
   "metadata": {},
   "source": [
    "Connect to the database using information in programming environment:"
   ]
  },
  {
   "cell_type": "code",
   "execution_count": 2,
   "id": "3172d4c5-ac08-4ca6-b090-448666a2f610",
   "metadata": {},
   "outputs": [],
   "source": [
    "con <- dbConnect(drv, dbname = Sys.getenv(\"DBNAME\"),\n",
    "              host = Sys.getenv(\"DBHOST\"),\n",
    "              port = Sys.getenv(\"DBPORT\"),\n",
    "              user = Sys.getenv(\"DBUSER\"))"
   ]
  },
  {
   "cell_type": "markdown",
   "id": "41f079d1-5136-446d-9048-8bfa24c1367c",
   "metadata": {},
   "source": [
    "## Read information on layers used in the webapp\n",
    "\n",
    "First read json file"
   ]
  },
  {
   "cell_type": "code",
   "execution_count": 3,
   "id": "dc547bcb-045b-4772-80aa-249efd5e147d",
   "metadata": {},
   "outputs": [],
   "source": [
    "config.json <- read_json(sprintf(\"%s/data/config/groups.json\", Sys.getenv(\"WEBDATAREPO\")))\n"
   ]
  },
  {
   "cell_type": "markdown",
   "id": "84e28467-0797-413a-8da5-b10180863485",
   "metadata": {},
   "source": [
    "Loop through the items in the `json` file, extract the layer component, prepare and execute the `INSERT` query."
   ]
  },
  {
   "cell_type": "code",
   "execution_count": 4,
   "id": "2d2ef7c5-b68d-46bc-babe-18e09b421500",
   "metadata": {},
   "outputs": [],
   "source": [
    "qrystr <- \"INSERT INTO map_files(map_code,map_version,map_file,file_description,file_comments) \n",
    "values('%s','%s','%s','%s','%s') ON CONFLICT DO NOTHING\"\n",
    "\n",
    "for (j in config.json) {\n",
    "    if (\"layer\" %in% names(j)) {\n",
    "        if (j$layer$source == 'github') {\n",
    "            layername <- strsplit(j$layer$path,\"/\")[[1]][2]\n",
    "            mapinfo <- strsplit(layername,\"_\",fixed = 3)[[1]]\n",
    "            qry = sprintf(qrystr,mapinfo[1],mapinfo[2],j$layer$path,j$layer$source,j$layer$type)\n",
    "            #print(qry)\n",
    "            dbSendQuery(con,qry)\n",
    "            \n",
    "        } else {\n",
    "            ## print(j$id)\n",
    "            ## print(j$layer$tileset)\n",
    "        }\n",
    "    }\n",
    "}"
   ]
  },
  {
   "cell_type": "code",
   "execution_count": 5,
   "id": "49be9dc8-5044-44d2-87e2-8a81f424aba3",
   "metadata": {},
   "outputs": [
    {
     "name": "stdout",
     "output_type": "stream",
     "text": [
      "[1] \"INSERT INTO map_files(map_code,map_version,map_file,file_description,file_comments) \\nvalues('TF1.7.web.orig','v1.0','layers/TF1.7.web.orig_v1.0_topo.json','github','topojson') ON CONFLICT DO NOTHING\"\n"
     ]
    }
   ],
   "source": [
    "print(qry)"
   ]
  },
  {
   "cell_type": "markdown",
   "id": "fd4f4bec-21e9-4ffb-bcf9-cc3c1f5d63ea",
   "metadata": {},
   "source": [
    "Disconnect from database"
   ]
  },
  {
   "cell_type": "code",
   "execution_count": 6,
   "id": "388841fb-aaae-4778-9daf-a08133d6c35d",
   "metadata": {},
   "outputs": [
    {
     "data": {
      "text/html": [
       "TRUE"
      ],
      "text/latex": [
       "TRUE"
      ],
      "text/markdown": [
       "TRUE"
      ],
      "text/plain": [
       "[1] TRUE"
      ]
     },
     "metadata": {},
     "output_type": "display_data"
    }
   ],
   "source": [
    "dbDisconnect(con)"
   ]
  },
  {
   "cell_type": "code",
   "execution_count": null,
   "id": "940d5ad6-a575-4480-8f4c-9b25ab92c8aa",
   "metadata": {},
   "outputs": [],
   "source": []
  }
 ],
 "metadata": {
  "kernelspec": {
   "display_name": "R",
   "language": "R",
   "name": "ir"
  },
  "language_info": {
   "codemirror_mode": "r",
   "file_extension": ".r",
   "mimetype": "text/x-r-source",
   "name": "R",
   "pygments_lexer": "r",
   "version": "4.1.2"
  }
 },
 "nbformat": 4,
 "nbformat_minor": 5
}

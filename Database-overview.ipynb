{
 "cells": [
  {
   "cell_type": "markdown",
   "id": "37f08ce8-010c-48ef-b85c-d599dfde5ad1",
   "metadata": {},
   "source": [
    "## Set up"
   ]
  },
  {
   "cell_type": "markdown",
   "id": "a9a1bc47-b4f6-4e8b-87a5-249bf866aded",
   "metadata": {},
   "source": [
    "### Import modules"
   ]
  },
  {
   "cell_type": "code",
   "execution_count": 13,
   "id": "32e60ec0-69ca-4b1a-a81b-2d5e916ec262",
   "metadata": {},
   "outputs": [],
   "source": [
    "import os\n",
    "from pathlib import Path\n",
    "#import re\n",
    "from datetime import date,datetime\n",
    "from configparser import ConfigParser\n",
    "import psycopg2\n",
    "#from psycopg2.extensions import AsIs\n",
    "import pandas as pd"
   ]
  },
  {
   "cell_type": "markdown",
   "id": "d495d11b-e689-479e-a3c0-541e5de2eb33",
   "metadata": {},
   "source": [
    "### Working dir and relative paths"
   ]
  },
  {
   "cell_type": "code",
   "execution_count": 2,
   "id": "36767f2c-f200-496e-8fdd-d16b950f0eb8",
   "metadata": {},
   "outputs": [],
   "source": [
    "import pyprojroot\n",
    "repodir = pyprojroot.find_root(pyprojroot.has_dir(\".git\"))"
   ]
  },
  {
   "cell_type": "markdown",
   "id": "e7e5351c-92ef-4768-b0a9-b140e12773f9",
   "metadata": {},
   "source": [
    "### Database connection"
   ]
  },
  {
   "cell_type": "code",
   "execution_count": 4,
   "id": "24cdcc41-7782-453e-a324-677483126061",
   "metadata": {},
   "outputs": [],
   "source": [
    "filename = Path(os.path.expanduser('~')) / \".database.ini\"\n",
    "section = 'psqlawseco'\n",
    "\n",
    "parser = ConfigParser()\n",
    "parser.read(filename)\n",
    "db = {}\n",
    "if parser.has_section(section):\n",
    "    params = parser.items(section)\n",
    "    for param in params:\n",
    "        db[param[0]] = param[1]\n",
    "else:\n",
    "    raise Exception('Section {0} not found in the {1} file'.format(section, filename))\n",
    "\n",
    "params = db"
   ]
  },
  {
   "cell_type": "markdown",
   "id": "cf2cb839-0645-4fcb-a221-da01a9041c40",
   "metadata": {},
   "source": [
    "## Database queries"
   ]
  },
  {
   "cell_type": "code",
   "execution_count": 7,
   "id": "7e70626d-ef40-4330-80e1-8076d6b48ced",
   "metadata": {},
   "outputs": [],
   "source": [
    "conn = psycopg2.connect(**db)\n",
    "cur = conn.cursor()"
   ]
  },
  {
   "cell_type": "code",
   "execution_count": 8,
   "id": "86f69b0a-bc8d-4c64-ba54-6addaf344b66",
   "metadata": {},
   "outputs": [],
   "source": [
    "qry = \"\"\"\n",
    "SELECT version, language, COUNT(distinct code) as n,\n",
    "    MIN(DATE(update)) as date1, MAX(DATE(update)) as date2 \n",
    "FROM efg_distribution \n",
    "GROUP BY version, language \n",
    "ORDER BY date1;\n",
    "\"\"\""
   ]
  },
  {
   "cell_type": "code",
   "execution_count": 9,
   "id": "3a721cce-261c-491d-b471-a4e352a87e8c",
   "metadata": {},
   "outputs": [],
   "source": [
    "cur.execute(qry )\n",
    "versions = cur.fetchall()"
   ]
  },
  {
   "cell_type": "code",
   "execution_count": 11,
   "id": "c79f89a3-a2dc-4e94-8e39-bff4f4ca6f2b",
   "metadata": {},
   "outputs": [
    {
     "name": "stdout",
     "output_type": "stream",
     "text": [
      "Database connection closed.\n"
     ]
    }
   ],
   "source": [
    "cur.close()\n",
    "conn.commit()\n",
    "if conn is not None:\n",
    "    conn.close()\n",
    "    print('Database connection closed.')"
   ]
  },
  {
   "cell_type": "markdown",
   "id": "95c89da1-9222-4df0-9c72-e663e4d18823",
   "metadata": {},
   "source": [
    "## View data"
   ]
  },
  {
   "cell_type": "code",
   "execution_count": 14,
   "id": "52175f28-13c9-4a97-8a0f-3e12ea98e95b",
   "metadata": {},
   "outputs": [],
   "source": [
    "short_table_df = pd.DataFrame(versions,\n",
    "                           columns=(\"version\",\"language\", \"n\", \"date1\", \"date2\"))"
   ]
  },
  {
   "cell_type": "code",
   "execution_count": 15,
   "id": "87933096-8bbb-4c12-a17a-485dc0a231c3",
   "metadata": {},
   "outputs": [
    {
     "data": {
      "text/html": [
       "<div>\n",
       "<style scoped>\n",
       "    .dataframe tbody tr th:only-of-type {\n",
       "        vertical-align: middle;\n",
       "    }\n",
       "\n",
       "    .dataframe tbody tr th {\n",
       "        vertical-align: top;\n",
       "    }\n",
       "\n",
       "    .dataframe thead th {\n",
       "        text-align: right;\n",
       "    }\n",
       "</style>\n",
       "<table border=\"1\" class=\"dataframe\">\n",
       "  <thead>\n",
       "    <tr style=\"text-align: right;\">\n",
       "      <th></th>\n",
       "      <th>version</th>\n",
       "      <th>language</th>\n",
       "      <th>n</th>\n",
       "      <th>date1</th>\n",
       "      <th>date2</th>\n",
       "    </tr>\n",
       "  </thead>\n",
       "  <tbody>\n",
       "    <tr>\n",
       "      <th>0</th>\n",
       "      <td>v1.0</td>\n",
       "      <td>en</td>\n",
       "      <td>104</td>\n",
       "      <td>2020-01-20</td>\n",
       "      <td>2020-05-31</td>\n",
       "    </tr>\n",
       "    <tr>\n",
       "      <th>1</th>\n",
       "      <td>v1.01</td>\n",
       "      <td>en</td>\n",
       "      <td>1</td>\n",
       "      <td>2020-02-21</td>\n",
       "      <td>2020-02-21</td>\n",
       "    </tr>\n",
       "    <tr>\n",
       "      <th>2</th>\n",
       "      <td>v1.2</td>\n",
       "      <td>en</td>\n",
       "      <td>1</td>\n",
       "      <td>2020-05-14</td>\n",
       "      <td>2020-05-14</td>\n",
       "    </tr>\n",
       "    <tr>\n",
       "      <th>3</th>\n",
       "      <td>v2.0</td>\n",
       "      <td>en</td>\n",
       "      <td>108</td>\n",
       "      <td>2020-05-24</td>\n",
       "      <td>2020-09-04</td>\n",
       "    </tr>\n",
       "    <tr>\n",
       "      <th>4</th>\n",
       "      <td>v2.01</td>\n",
       "      <td>en</td>\n",
       "      <td>108</td>\n",
       "      <td>2021-12-31</td>\n",
       "      <td>2021-12-31</td>\n",
       "    </tr>\n",
       "    <tr>\n",
       "      <th>5</th>\n",
       "      <td>v2.1</td>\n",
       "      <td>en</td>\n",
       "      <td>110</td>\n",
       "      <td>2022-04-06</td>\n",
       "      <td>2022-06-29</td>\n",
       "    </tr>\n",
       "    <tr>\n",
       "      <th>6</th>\n",
       "      <td>v2.1</td>\n",
       "      <td>es</td>\n",
       "      <td>110</td>\n",
       "      <td>2024-12-18</td>\n",
       "      <td>2025-02-19</td>\n",
       "    </tr>\n",
       "  </tbody>\n",
       "</table>\n",
       "</div>"
      ],
      "text/plain": [
       "  version language    n       date1       date2\n",
       "0    v1.0       en  104  2020-01-20  2020-05-31\n",
       "1   v1.01       en    1  2020-02-21  2020-02-21\n",
       "2    v1.2       en    1  2020-05-14  2020-05-14\n",
       "3    v2.0       en  108  2020-05-24  2020-09-04\n",
       "4   v2.01       en  108  2021-12-31  2021-12-31\n",
       "5    v2.1       en  110  2022-04-06  2022-06-29\n",
       "6    v2.1       es  110  2024-12-18  2025-02-19"
      ]
     },
     "execution_count": 15,
     "metadata": {},
     "output_type": "execute_result"
    }
   ],
   "source": [
    "short_table_df"
   ]
  },
  {
   "cell_type": "code",
   "execution_count": null,
   "id": "3d3909b7-6184-4050-92ff-805bb29595ea",
   "metadata": {},
   "outputs": [],
   "source": []
  }
 ],
 "metadata": {
  "kernelspec": {
   "display_name": "Python 3 (ipykernel)",
   "language": "python",
   "name": "python3"
  },
  "language_info": {
   "codemirror_mode": {
    "name": "ipython",
    "version": 3
   },
   "file_extension": ".py",
   "mimetype": "text/x-python",
   "name": "python",
   "nbconvert_exporter": "python",
   "pygments_lexer": "ipython3",
   "version": "3.11.3"
  }
 },
 "nbformat": 4,
 "nbformat_minor": 5
}

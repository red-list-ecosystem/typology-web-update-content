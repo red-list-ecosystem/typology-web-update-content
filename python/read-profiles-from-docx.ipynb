{
 "cells": [
  {
   "cell_type": "markdown",
   "id": "a9c43a08-cc31-4cd2-8378-f2fb776fcdcc",
   "metadata": {},
   "source": [
    "# Update profiles for functional groups of the IUCN Global Ecosystem typology\n",
    "\n",
    "Scripts by José R. Ferrer-Paris\n",
    "\n",
    "The scripts described in this document are used to:\n",
    "\n",
    "- Read from document in `docx` format\n",
    "- Update content in database"
   ]
  },
  {
   "cell_type": "markdown",
   "id": "122c81d0-8061-44d9-9acc-e4a7fcfee02c",
   "metadata": {
    "tags": []
   },
   "source": [
    "## Set-up\n",
    "Load all the libraries we will need in this script:"
   ]
  },
  {
   "cell_type": "code",
   "execution_count": 205,
   "id": "f36cd05c-698d-4bdd-a471-36e5eed0f512",
   "metadata": {},
   "outputs": [],
   "source": [
    "import docx\n",
    "from docx import Document\n",
    "import os\n",
    "from pathlib import Path\n",
    "import re\n",
    "from datetime import datetime\n",
    "from configparser import ConfigParser\n",
    "import psycopg2\n",
    "from psycopg2.extensions import AsIs\n",
    "import docx2txt\n"
   ]
  },
  {
   "cell_type": "markdown",
   "id": "cb70926c-bb83-4420-a7b7-8898aa10ef2c",
   "metadata": {},
   "source": [
    "Initially, when I ran this code, the text from paragraphs did not include hyperlinks to biomes and efgs.\n",
    "Here I add a hack from https://github.com/python-openxml/python-docx/issues/85 to extract text and hyperlinks as a single text element."
   ]
  },
  {
   "cell_type": "code",
   "execution_count": 3,
   "id": "11d29015-1067-44a6-bed7-e62dea30ac6f",
   "metadata": {},
   "outputs": [],
   "source": [
    "from docx.text.paragraph import Paragraph\n",
    "\n",
    "Paragraph.text = property(lambda self: GetParagraphText(self))\n",
    "\n",
    "def GetParagraphText(paragraph):\n",
    "\n",
    "    def GetTag(element):\n",
    "        return \"%s:%s\" % (element.prefix, re.match(\"{.*}(.*)\", element.tag).group(1))\n",
    "\n",
    "    text = ''\n",
    "    runCount = 0\n",
    "    for child in paragraph._p:\n",
    "        tag = GetTag(child)\n",
    "        if tag == \"w:r\":\n",
    "            text += paragraph.runs[runCount].text\n",
    "            runCount += 1\n",
    "        if tag == \"w:hyperlink\":\n",
    "            for subChild in child:\n",
    "                if GetTag(subChild) == \"w:r\":\n",
    "                    text += subChild.text\n",
    "    return text"
   ]
  },
  {
   "cell_type": "markdown",
   "id": "10069ffb-4e08-4257-8b58-961f85ebc7c0",
   "metadata": {},
   "source": [
    "Read configuration parameters for the connection to the current version of the database:"
   ]
  },
  {
   "cell_type": "code",
   "execution_count": 4,
   "id": "43e7f4c2-925c-445f-aab1-9ace0df82604",
   "metadata": {},
   "outputs": [],
   "source": [
    "filename = Path(os.path.expanduser('~')) / \".database.ini\"\n",
    "section = 'psqlaws'\n",
    "\n",
    "parser = ConfigParser()\n",
    "parser.read(filename)\n",
    "db = {}\n",
    "if parser.has_section(section):\n",
    "    params = parser.items(section)\n",
    "    for param in params:\n",
    "        db[param[0]] = param[1]\n",
    "else:\n",
    "    raise Exception('Section {0} not found in the {1} file'.format(section, filename))\n",
    "\n",
    "params = db"
   ]
  },
  {
   "cell_type": "markdown",
   "id": "3fcd4a94-0b02-466a-80b8-529d3e05035b",
   "metadata": {},
   "source": [
    "Declare path for inputdir and filename: "
   ]
  },
  {
   "cell_type": "code",
   "execution_count": 5,
   "id": "8402c22c-c94e-4fcc-a538-c0a51c425491",
   "metadata": {},
   "outputs": [],
   "source": [
    "inputdir = Path(os.path.expanduser('~')) / \"tmp\" / \"typology-web-update-content\"\n",
    "filename='Keith_etal_EarthsEcosystems_Appendix S4_3rdrevisions_subm+DK.docx'"
   ]
  },
  {
   "cell_type": "markdown",
   "id": "3a53eacc-57bc-4dbc-b4d3-a6c092b1a47f",
   "metadata": {},
   "source": [
    "## Read content from document"
   ]
  },
  {
   "cell_type": "code",
   "execution_count": 7,
   "id": "10860adc-8fcc-419c-8a5e-f05737aef3a3",
   "metadata": {},
   "outputs": [
    {
     "data": {
      "text/plain": [
       "<docx.document.Document at 0x7f756d07b840>"
      ]
     },
     "execution_count": 7,
     "metadata": {},
     "output_type": "execute_result"
    }
   ],
   "source": [
    "profiles=Document(inputdir / filename)\n",
    "profiles"
   ]
  },
  {
   "cell_type": "markdown",
   "id": "0f2204c9-dd78-49fb-9d0f-04edae853185",
   "metadata": {},
   "source": [
    "Check total number of paragraphs in document"
   ]
  },
  {
   "cell_type": "code",
   "execution_count": 8,
   "id": "d1282b72-4bef-43ba-b399-ccec3271c014",
   "metadata": {},
   "outputs": [
    {
     "data": {
      "text/plain": [
       "1430"
      ]
     },
     "execution_count": 8,
     "metadata": {},
     "output_type": "execute_result"
    }
   ],
   "source": [
    "len(profiles.paragraphs)"
   ]
  },
  {
   "cell_type": "markdown",
   "id": "4854b27a-86d1-4192-992f-3f9e9e4248c7",
   "metadata": {
    "tags": []
   },
   "source": [
    "### Extract Diagrammatic Assembly Models"
   ]
  },
  {
   "cell_type": "markdown",
   "id": "b9a1b428-f828-499b-aed3-f4ccbe082248",
   "metadata": {},
   "source": [
    "This function extracts text and puts all images in an outputdir:"
   ]
  },
  {
   "cell_type": "code",
   "execution_count": 26,
   "id": "9b7ab260-742c-49e2-aabf-da182eb4a04d",
   "metadata": {},
   "outputs": [],
   "source": [
    "\n",
    "\n",
    "# Extract the images to img_folder/\n",
    "outputdir=inputdir / 'img_folder'\n",
    "if not os.path.exists(outputdir):\n",
    "    os.makedirs(outputdir)\n",
    "text = docx2txt.process(inputdir / filename, outputdir)\n"
   ]
  },
  {
   "cell_type": "markdown",
   "id": "173228af-335e-4e70-9e8f-151cdfeb587e",
   "metadata": {},
   "source": [
    "Save all 'rId:filenames' relationships in an dictionary named rels"
   ]
  },
  {
   "cell_type": "code",
   "execution_count": 27,
   "id": "982340d1-c93b-4cc8-821e-aefcbaef5aeb",
   "metadata": {},
   "outputs": [],
   "source": [
    "rels = {}\n",
    "for r in profiles.part.rels.values():\n",
    "    if isinstance(r._target, docx.parts.image.ImagePart):\n",
    "        rels[r.rId] = os.path.basename(r._target.partname)\n"
   ]
  },
  {
   "cell_type": "code",
   "execution_count": null,
   "id": "27802c36-2aa3-46e7-9003-6fa73b83ea05",
   "metadata": {},
   "outputs": [],
   "source": [
    "We can then go through the list of paragraphs and process text or images:"
   ]
  },
  {
   "cell_type": "code",
   "execution_count": 36,
   "id": "45e4596c-169a-4d38-8b5d-9194579ba621",
   "metadata": {
    "tags": []
   },
   "outputs": [],
   "source": [
    "\n",
    "\n",
    "for paragraph in profiles.paragraphs:\n",
    "    # If you find an image\n",
    "    if 'Graphic' in paragraph._p.xml:\n",
    "        # Get the rId of the image\n",
    "        for rId in rels:\n",
    "            if rId in paragraph._p.xml:\n",
    "                # Your image will be in os.path.join(img_path, rels[rId])\n",
    "                target=paragraph\n",
    "    #else:\n",
    "        # It's not an image"
   ]
  },
  {
   "cell_type": "markdown",
   "id": "4751346f-18b9-4fc5-bea8-9866c3b7d9ee",
   "metadata": {},
   "source": [
    "Example of xml content of a paragraph"
   ]
  },
  {
   "cell_type": "code",
   "execution_count": 88,
   "id": "e551e737-738a-4c66-a76e-8f4a2f6875a3",
   "metadata": {},
   "outputs": [
    {
     "data": {
      "text/plain": [
       "'<w:p xmlns:w=\"http://schemas.openxmlformats.org/wordprocessingml/2006/main\" xmlns:w14=\"http://schemas.microsoft.com/office/word/2010/wordml\" xmlns:wpc=\"http://schemas.microsoft.com/office/word/2010/wordprocessingCanvas\" xmlns:cx=\"http://schemas.microsoft.com/office/drawing/2014/chartex\" xmlns:cx1=\"http://schemas.microsoft.com/office/drawing/2015/9/8/chartex\" xmlns:cx2=\"http://schemas.microsoft.com/office/drawing/2015/10/21/chartex\" xmlns:cx3=\"http://schemas.microsoft.com/office/drawing/2016/5/9/chartex\" xmlns:cx4=\"http://schemas.microsoft.com/office/drawing/2016/5/10/chartex\" xmlns:cx5=\"http://schemas.microsoft.com/office/drawing/2016/5/11/chartex\" xmlns:cx6=\"http://schemas.microsoft.com/office/drawing/2016/5/12/chartex\" xmlns:cx7=\"http://schemas.microsoft.com/office/drawing/2016/5/13/chartex\" xmlns:cx8=\"http://schemas.microsoft.com/office/drawing/2016/5/14/chartex\" xmlns:mc=\"http://schemas.openxmlformats.org/markup-compatibility/2006\" xmlns:aink=\"http://schemas.microsoft.com/office/drawing/2016/ink\" xmlns:am3d=\"http://schemas.microsoft.com/office/drawing/2017/model3d\" xmlns:o=\"urn:schemas-microsoft-com:office:office\" xmlns:r=\"http://schemas.openxmlformats.org/officeDocument/2006/relationships\" xmlns:m=\"http://schemas.openxmlformats.org/officeDocument/2006/math\" xmlns:v=\"urn:schemas-microsoft-com:vml\" xmlns:wp14=\"http://schemas.microsoft.com/office/word/2010/wordprocessingDrawing\" xmlns:wp=\"http://schemas.openxmlformats.org/drawingml/2006/wordprocessingDrawing\" xmlns:w10=\"urn:schemas-microsoft-com:office:word\" xmlns:w15=\"http://schemas.microsoft.com/office/word/2012/wordml\" xmlns:w16cex=\"http://schemas.microsoft.com/office/word/2018/wordml/cex\" xmlns:w16cid=\"http://schemas.microsoft.com/office/word/2016/wordml/cid\" xmlns:w16=\"http://schemas.microsoft.com/office/word/2018/wordml\" xmlns:w16sdtdh=\"http://schemas.microsoft.com/office/word/2020/wordml/sdtdatahash\" xmlns:w16se=\"http://schemas.microsoft.com/office/word/2015/wordml/symex\" xmlns:wpg=\"http://schemas.microsoft.com/office/word/2010/wordprocessingGroup\" xmlns:wpi=\"http://schemas.microsoft.com/office/word/2010/wordprocessingInk\" xmlns:wne=\"http://schemas.microsoft.com/office/word/2006/wordml\" xmlns:wps=\"http://schemas.microsoft.com/office/word/2010/wordprocessingShape\" w14:paraId=\"0723157E\" w14:textId=\"77777777\" w:rsidR=\"004E77DA\" w:rsidRDefault=\"004E77DA\" w:rsidP=\"004E77DA\">\\n  <w:pPr>\\n    <w:pStyle w:val=\"Figure\"/>\\n    <w:spacing w:after=\"60\"/>\\n  </w:pPr>\\n  <w:r>\\n    <w:rPr>\\n      <w:noProof/>\\n    </w:rPr>\\n    <w:lastRenderedPageBreak/>\\n    <w:drawing>\\n      <wp:anchor distT=\"0\" distB=\"0\" distL=\"114300\" distR=\"114300\" simplePos=\"0\" relativeHeight=\"251827712\" behindDoc=\"0\" locked=\"0\" layoutInCell=\"1\" allowOverlap=\"1\" wp14:anchorId=\"3231FE98\" wp14:editId=\"02FE9DF0\">\\n        <wp:simplePos x=\"0\" y=\"0\"/>\\n        <wp:positionH relativeFrom=\"column\">\\n          <wp:posOffset>-201295</wp:posOffset>\\n        </wp:positionH>\\n        <wp:positionV relativeFrom=\"paragraph\">\\n          <wp:posOffset>170180</wp:posOffset>\\n        </wp:positionV>\\n        <wp:extent cx=\"3948430\" cy=\"1807845\"/>\\n        <wp:effectExtent l=\"0\" t=\"0\" r=\"0\" b=\"1905\"/>\\n        <wp:wrapSquare wrapText=\"bothSides\"/>\\n        <wp:docPr id=\"349\" name=\"Picture\"/>\\n        <wp:cNvGraphicFramePr/>\\n        <a:graphic xmlns:a=\"http://schemas.openxmlformats.org/drawingml/2006/main\">\\n          <a:graphicData uri=\"http://schemas.openxmlformats.org/drawingml/2006/picture\">\\n            <pic:pic xmlns:pic=\"http://schemas.openxmlformats.org/drawingml/2006/picture\">\\n              <pic:nvPicPr>\\n                <pic:cNvPr id=\"0\" name=\"Picture\" descr=\"MAP/MFT1.3.png\"/>\\n                <pic:cNvPicPr>\\n                  <a:picLocks noChangeAspect=\"1\" noChangeArrowheads=\"1\"/>\\n                </pic:cNvPicPr>\\n              </pic:nvPicPr>\\n              <pic:blipFill rotWithShape=\"1\">\\n                <a:blip r:embed=\"rId686\" cstate=\"print\">\\n                  <a:extLst>\\n                    <a:ext uri=\"{28A0092B-C50C-407E-A947-70E740481C1C}\">\\n                      <a14:useLocalDpi xmlns:a14=\"http://schemas.microsoft.com/office/drawing/2010/main\" val=\"0\"/>\\n                    </a:ext>\\n                  </a:extLst>\\n                </a:blip>\\n                <a:srcRect t=\"2544\" r=\"3382\" b=\"1751\"/>\\n                <a:stretch/>\\n              </pic:blipFill>\\n              <pic:spPr bwMode=\"auto\">\\n                <a:xfrm>\\n                  <a:off x=\"0\" y=\"0\"/>\\n                  <a:ext cx=\"3948430\" cy=\"1807845\"/>\\n                </a:xfrm>\\n                <a:prstGeom prst=\"rect\">\\n                  <a:avLst/>\\n                </a:prstGeom>\\n                <a:noFill/>\\n                <a:ln>\\n                  <a:noFill/>\\n                </a:ln>\\n                <a:extLst>\\n                  <a:ext uri=\"{53640926-AAD7-44D8-BBD7-CCE9431645EC}\">\\n                    <a14:shadowObscured xmlns:a14=\"http://schemas.microsoft.com/office/drawing/2010/main\"/>\\n                  </a:ext>\\n                </a:extLst>\\n              </pic:spPr>\\n            </pic:pic>\\n          </a:graphicData>\\n        </a:graphic>\\n        <wp14:sizeRelH relativeFrom=\"margin\">\\n          <wp14:pctWidth>0</wp14:pctWidth>\\n        </wp14:sizeRelH>\\n        <wp14:sizeRelV relativeFrom=\"margin\">\\n          <wp14:pctHeight>0</wp14:pctHeight>\\n        </wp14:sizeRelV>\\n      </wp:anchor>\\n    </w:drawing>\\n  </w:r>\\n  <w:r>\\n    <w:rPr>\\n      <w:b/>\\n      <w:i/>\\n    </w:rPr>\\n    <w:t>Distribution</w:t>\\n  </w:r>\\n  <w:r>\\n    <w:t xml:space=\"preserve\">: Widely distributed, mostly on low-energy </w:t>\\n  </w:r>\\n  <w:proofErr w:type=\"spellStart\"/>\\n  <w:r>\\n    <w:t>coasts</w:t>\\n  </w:r>\\n  <w:proofErr w:type=\"spellEnd\"/>\\n  <w:r>\\n    <w:t xml:space=\"preserve\"> from arctic to tropical and subantarctic latitudes.</w:t>\\n  </w:r>\\n</w:p>\\n'"
      ]
     },
     "execution_count": 88,
     "metadata": {},
     "output_type": "execute_result"
    }
   ],
   "source": [
    "target._p.xml"
   ]
  },
  {
   "cell_type": "code",
   "execution_count": 97,
   "id": "cf6a623b-e8ae-4ccc-a707-2e0c130705b9",
   "metadata": {},
   "outputs": [
    {
     "data": {
      "text/plain": [
       "['MAP/MFT1.3.png']"
      ]
     },
     "execution_count": 97,
     "metadata": {},
     "output_type": "execute_result"
    }
   ],
   "source": [
    "#target._p.xml.find(\"name=\")\n",
    "re.findall('descr=\"(.+)\"',target._p.xml)"
   ]
  },
  {
   "cell_type": "markdown",
   "id": "c258c585-cd21-4a6e-a007-cfab8ed681e2",
   "metadata": {},
   "source": [
    "But our DAMs are not labelled nicely, we can move the DAMs manually to a different directory and then match the EFG code afterwards, see below."
   ]
  },
  {
   "cell_type": "markdown",
   "id": "f1e1fd22-09a9-425e-9202-efffe4283366",
   "metadata": {},
   "source": [
    "### List of contributors"
   ]
  },
  {
   "cell_type": "markdown",
   "id": "2ed33925-01f2-4e5a-a426-4c7a2dc84699",
   "metadata": {},
   "source": [
    "Read list of contributors from the headers of each section"
   ]
  },
  {
   "cell_type": "code",
   "execution_count": 9,
   "id": "41a3f3bf-07f7-41cd-b9be-9d44e4c09197",
   "metadata": {},
   "outputs": [],
   "source": [
    "contribs=list()\n",
    "for section in profiles.sections:\n",
    "    h = section.header\n",
    "    for p in h.paragraphs:\n",
    "        if re.search(\"^Contributors\",p.text):\n",
    "            m=p.text.split(':')\n",
    "            contribs.append(m[1])"
   ]
  },
  {
   "cell_type": "markdown",
   "id": "28774999-d0b0-47bd-8c8c-b9777117c4be",
   "metadata": {},
   "source": [
    "There should be one element for each profile (110 profiles):"
   ]
  },
  {
   "cell_type": "code",
   "execution_count": 10,
   "id": "ace277ad-d236-4c33-9a41-cb7cc2573c71",
   "metadata": {},
   "outputs": [
    {
     "data": {
      "text/plain": [
       "110"
      ]
     },
     "execution_count": 10,
     "metadata": {},
     "output_type": "execute_result"
    }
   ],
   "source": [
    "len(contribs)"
   ]
  },
  {
   "cell_type": "markdown",
   "id": "ece014df-cfef-4e73-b722-43fccb30e4a5",
   "metadata": {},
   "source": [
    "### Extract profile content"
   ]
  },
  {
   "cell_type": "markdown",
   "id": "82a585a1-e7ac-4066-8ea2-1c310ddfc0cc",
   "metadata": {},
   "source": [
    "Proceed to read content, each profile has three paragraphs of content starting with a title ('Ecosystem properties','Distribution','Biome','Ecological drivers'), other paragraphs are either references or extra content (photo attributions). We will add the list of author matching each profile to the sequence of contributors in the list above (this only work if all profiles have this information in their headers). "
   ]
  },
  {
   "cell_type": "code",
   "execution_count": 98,
   "id": "287cb5a2-c280-4bdd-9cf8-88e739f3c655",
   "metadata": {},
   "outputs": [],
   "source": [
    "item=None\n",
    "items=list()\n",
    "nr=0\n",
    "for k in range(19,len(profiles.paragraphs)):\n",
    "    x=profiles.paragraphs[k]._p.xml            \n",
    "    p=profiles.paragraphs[k].text\n",
    "    if re.search(\"^[TMFS]+[0-9].[0-9]\",p):\n",
    "        if item is not None:\n",
    "            items.append(item)\n",
    "        m = p.split(\" \")\n",
    "        item={'paragraph':k,'Code':m[0],'Name':p,'References':list(),'Extra':list(),'Contributors':list(),'Images':list()}\n",
    "        addref=False\n",
    "        authors=contribs[nr].split(',')\n",
    "        for aut in authors:\n",
    "            item['Contributors'].append(aut.strip(' '))\n",
    "        nr=nr+1\n",
    "    else:\n",
    "        if item is not None:\n",
    "            if 'Graphic' in x:\n",
    "                for rId in rels:\n",
    "                    if rId in x:\n",
    "                    # Your image will be in os.path.join(img_path, rels[rId])\n",
    "                        item['Images'].append({'descr':re.findall('descr=\"(.+)\"',x),'file':rels[rId]})\n",
    "\n",
    "            m=p.split(':')\n",
    "            if m[0] in ('Ecosystem properties','Distribution','Biome','Ecological drivers'):\n",
    "                #print(m[0])\n",
    "                item[m[0]]=\":\".join(m[1:]).strip(\" \")\n",
    "            elif m[0] in ('References'):\n",
    "                addref=True\n",
    "            else:\n",
    "                if addref:\n",
    "                    item['References'].append(p)\n",
    "                else:\n",
    "                    item['Extra'].append(p)\n",
    "items.append(item)\n",
    "#items[1]"
   ]
  },
  {
   "cell_type": "markdown",
   "id": "ce9912f6-420c-4f2b-8354-c33d48790455",
   "metadata": {},
   "source": [
    "We will check that one of the newest profiles is correct:"
   ]
  },
  {
   "cell_type": "code",
   "execution_count": 102,
   "id": "993fc381-5e41-4d1d-9fd2-446be65d1d52",
   "metadata": {
    "tags": []
   },
   "outputs": [
    {
     "data": {
      "text/plain": [
       "{'paragraph': 1358,\n",
       " 'Code': 'MT2.1',\n",
       " 'Name': 'MT2.1 Coastal shrublands and grasslands',\n",
       " 'References': ['van der Maarel E (2001) Dry coastal ecosystems: General aspects. Ecosystems of the world 2C. Elsevier, Amsterdam.'],\n",
       " 'Extra': ['Coastal shrubland, Strait of Magellan, Chile.',\n",
       "  'Credit: David Keith'],\n",
       " 'Contributors': ['DA Keith', 'J Loidi', 'ATR Acosta'],\n",
       " 'Images': [{'descr': ['FOTO/mt_2_1.jpg'], 'file': 'image341.jpg'},\n",
       "  {'descr': [], 'file': 'image342.png'},\n",
       "  {'descr': ['MAP/MT2.1.png'], 'file': 'image343.png'}],\n",
       " 'Ecosystem properties': 'Relatively low productivity grasslands, shrublands, and low forests on exposed coastlines are limited by salt influx, water deficit, and recurring disturbances. Diversity is low across taxa and trophic networks are simple, but virtually all plants and animals have strong dispersal traits and most consumers move between adjacent terrestrial and marine ecosystems. Vegetation and substrates are characterised by strong gradients from sea to land, particularly related to aerosol salt inputs, substrate instability and disturbance associated with sea storms and wave action. Plant traits conferring salt tolerance (e.g. succulent and sub-succulent leaves and salt-excretion organs) are commonly represented. Woody plants with ramulose and/or decumbent growth forms and small (microphyll-nanophyll) leaves reflect mechanisms of persistence under exposure to strong salt-laden winds, while modular and rhizomatous growth forms of woody and non-woody plants promote persistence, regeneration, and expansion under regimes of substrate instability and recurring disturbance. These strong environmental filters promote local adaptation, with specialised genotypes and phenotypes of more widespread taxa commonly represented on the strandline. Fauna are highly mobile, although some taxa such as ground-nesting seabirds may be sedentary for some parts of their lifecycles. Ecosystem dynamics are characterised by disturbance-driven cycles of disruption and renewal, with early phases dominated by colonists and in situ regenerators that often persist during the short intervals between successive disturbances.',\n",
       " 'Ecological drivers': 'Desiccating winds promote an overall water deficit and appreciable exposure to salinity due to aerosol influx and salt spray. Warm to mild temperatures across the tropics to temperate zones and cold temperatures in the cool temperate to boreal zones are moderated by direct maritime influence. Above the regular intertidal zone, these systems are exposed to periodic disturbance from exceptional tides, coastal storm events, wind shear, bioturbation, and aeolian substrate mobility. Consolidated substrates (headlands, cliffs) may differ from unconsolidated dunes in their influence on function and biota. Geomorphological depositional and erosional processes influence substrate stability and local vegetation succession.',\n",
       " 'Distribution': 'Coastal dunes and cliffs throughout tropical, temperate, and boreal latitudes.'}"
      ]
     },
     "execution_count": 102,
     "metadata": {},
     "output_type": "execute_result"
    }
   ],
   "source": [
    "items[104]"
   ]
  },
  {
   "cell_type": "markdown",
   "id": "f3e00897-102a-4ef6-9141-5f9a4cda7afd",
   "metadata": {},
   "source": [
    "Some content from the Biome descriptions has been added in the 'extra' element of the dictionary, but we will ignore those for now."
   ]
  },
  {
   "cell_type": "markdown",
   "id": "44e9c9e8-3ea3-40ac-9608-95f673288d47",
   "metadata": {},
   "source": [
    "Does the text from paragraphs include references to biomes ?"
   ]
  },
  {
   "cell_type": "code",
   "execution_count": 13,
   "id": "b8b36817-bae4-411e-9c5d-d07eb6481ba6",
   "metadata": {},
   "outputs": [
    {
     "name": "stdout",
     "output_type": "stream",
     "text": [
      "555\n"
     ]
    },
    {
     "data": {
      "text/plain": [
       "'Extensive ‘semi-natural’ grasslands and open shrublands exist where woody components of vegetation have been removed or greatly modified for agricultural land uses. Hence they have been ‘derived’ from a range of other ecosystems (mostly from biomes T1, T2, T3, T4, a few from T5). Remaining vegetation includes a substantial component of local indigenous species, as well as an introduced exotic element, providing habitat for a mixed indigenous and non-indigenous fauna. Although structurally simpler at site scales than the systems from which they were derived, spatial complexity may be greater in fragmented landscapes and they often harbour appreciable diversity of native organisms, including some no longer present in ‘natural’ ecosystems. Dominant plant growth forms include tussock or stoloniferous grasses and forbs, with or without non-vascular plants, shrubs and scattered trees. These support microbial decomposers and diverse invertebrate groups that function as detritivores, herbivores and predators, as well as vertebrate herbivores and predators characteristic of open habitats. Energy sources are primarily autochthonous, with varying levels of indirect allochthonous subsidies (e.g. via surface water sheet flows), but few managed inputs (cf. T7.2). Productivity can be low or high, depending on climate and substrate, but is generally lower and more stable than more intensive anthropogenic systems (T7.1-T7.3). Trophic networks include all levels, but complexity and diversity depends on the species pool, legacies from antecedent ecosystems, successional stage, and management regimes. These novel ecosystems may persist in a steady self-maintaining state, or undergo passive transformation (e.g. oldfield succession) unless actively maintained in disequilibrium. For example, removal of domestic herbivores may initiate transition to tree-dominated ecosystems.'"
      ]
     },
     "execution_count": 13,
     "metadata": {},
     "output_type": "execute_result"
    }
   ],
   "source": [
    "print(items[33]['paragraph'])\n",
    "items[33]['Ecosystem properties']"
   ]
  },
  {
   "cell_type": "markdown",
   "id": "8686b536-26d5-4185-9cf3-8a815c8023e8",
   "metadata": {},
   "source": [
    "We whould add the keyword biome, so that it will be consistent with previous version in the database. Also we will remove the map caveats warning if present:"
   ]
  },
  {
   "cell_type": "code",
   "execution_count": 14,
   "id": "f9b5b0dc-365a-4c99-959b-b2728662e34f",
   "metadata": {},
   "outputs": [
    {
     "data": {
      "text/plain": [
       "'Extensive ‘semi-natural’ grasslands and open shrublands exist where woody components of vegetation have been removed or greatly modified for agricultural land uses. Hence they have been ‘derived’ from a range of other ecosystems (mostly from biomes biome T1, biome T2, biome T3, biome T4, a few from biome T5). Remaining vegetation includes a substantial component of local indigenous species, as well as an introduced exotic element, providing habitat for a mixed indigenous and non-indigenous fauna. Although structurally simpler at site scales than the systems from which they were derived, spatial complexity may be greater in fragmented landscapes and they often harbour appreciable diversity of native organisms, including some no longer present in ‘natural’ ecosystems. Dominant plant growth forms include tussock or stoloniferous grasses and forbs, with or without non-vascular plants, shrubs and scattered trees. These support microbial decomposers and diverse invertebrate groups that function as detritivores, herbivores and predators, as well as vertebrate herbivores and predators characteristic of open habitats. Energy sources are primarily autochthonous, with varying levels of indirect allochthonous subsidies (e.g. via surface water sheet flows), but few managed inputs (cf. T7.2). Productivity can be low or high, depending on climate and substrate, but is generally lower and more stable than more intensive anthropogenic systems (T7.1-T7.3). Trophic networks include all levels, but complexity and diversity depends on the species pool, legacies from antecedent ecosystems, successional stage, and management regimes. These novel ecosystems may persist in a steady self-maintaining state, or undergo passive transformation (e.g. oldfield succession) unless actively maintained in disequilibrium. For example, removal of domestic herbivores may initiate transition to tree-dominated ecosystems.'"
      ]
     },
     "execution_count": 14,
     "metadata": {},
     "output_type": "execute_result"
    }
   ],
   "source": [
    "def add_biome_kwd(x):\n",
    "    y=re.sub('([MFTS]+[0-9][ ,\\\\)])','biome \\\\1',x)\n",
    "    y.replace(' See map caveats (Table S4.1).','')\n",
    "    return(y)\n",
    "\n",
    "add_biome_kwd(items[33]['Ecosystem properties'])\n",
    "\n"
   ]
  },
  {
   "cell_type": "markdown",
   "id": "f79f8e71-42e2-4332-a979-4fff529d5189",
   "metadata": {},
   "source": [
    "### DAM again"
   ]
  },
  {
   "cell_type": "code",
   "execution_count": 134,
   "id": "07b68976-1764-40a7-839e-4e611cff1d0b",
   "metadata": {},
   "outputs": [],
   "source": [
    "outputdir = inputdir / 'DAM'\n",
    "DAMfiles = os.listdir(outputdir)\n",
    "content_repo =  Path(os.path.expanduser('~')) / 'proyectos' / 'typology-website' / 'typology-map-content' / 'assets' / 'uploads'\n",
    "#os.listdir(content_repo)"
   ]
  },
  {
   "cell_type": "code",
   "execution_count": 139,
   "id": "a56e7d5c-cf73-457c-9352-9c676e00c3d4",
   "metadata": {},
   "outputs": [
    {
     "name": "stdout",
     "output_type": "stream",
     "text": [
      "copied mft_1_3-diagram.png\n"
     ]
    }
   ],
   "source": [
    "import shutil\n",
    "# construct full file path\n",
    "        \n"
   ]
  },
  {
   "cell_type": "code",
   "execution_count": 152,
   "id": "85f6ed31-7207-40f4-8bd3-46a3578fdf1f",
   "metadata": {},
   "outputs": [
    {
     "name": "stdout",
     "output_type": "stream",
     "text": [
      "copied m_2_4-diagram.png\n",
      "DAM for EFG m_2_4-diagram.png in file image18.png\n",
      "copied m_2_4-diagram.png\n",
      "DAM for EFG m_2_4-diagram.png in file image18.png\n",
      "copied m_2_4-diagram.png\n",
      "DAM for EFG m_2_4-diagram.png in file image291.png\n",
      "copied m_2_4-diagram.png\n",
      "DAM for EFG m_2_4-diagram.png in file image18.png\n"
     ]
    }
   ],
   "source": [
    "for record in items[89:90]:\n",
    "    code = record['Code'].replace('.','_').lower()\n",
    "    code=re.sub(r'([tsmf]+)',r'\\1_',code)\n",
    "    outfile=('%s-diagram.png' % (code))\n",
    "    for img in record['Images']:\n",
    "        if img['file'] in DAMfiles:\n",
    "            source =  inputdir / 'DAM' / img['file']\n",
    "            destination =  content_repo / outfile\n",
    "            # copy only files\n",
    "            if os.path.isfile(source):\n",
    "                shutil.copy(source, destination)\n",
    "             \n",
    "\n",
    "            print(\"DAM for EFG %s-diagram.png in file %s\" % (code,img['file']))\n"
   ]
  },
  {
   "cell_type": "code",
   "execution_count": 157,
   "id": "aa0346a0-54c0-49ef-8b3b-a8bffe3e4499",
   "metadata": {},
   "outputs": [
    {
     "name": "stdout",
     "output_type": "stream",
     "text": [
      "DAM for EFG m_2_4-diagram.png in file image215.png\n",
      "DAM for EFG m_2_4-diagram.png in file image218.png\n",
      "DAM for EFG m_2_4-diagram.png in file image237.png\n",
      "DAM for EFG m_2_4-diagram.png in file image291.png\n",
      "DAM for EFG m_2_4-diagram.png in file image296.png\n",
      "DAM for EFG m_2_4-diagram.png in file image312.png\n",
      "DAM for EFG m_2_4-diagram.png in file image318.png\n",
      "DAM for EFG m_2_4-diagram.png in file image322.png\n",
      "DAM for EFG m_2_4-diagram.png in file image135.png\n",
      "DAM for EFG m_2_4-diagram.png in file image168.png\n"
     ]
    }
   ],
   "source": [
    "# manual edits\n",
    "fixes=({'code':'f_2_8', 'file': 'image215.png'},\n",
    "{'file': 'image218.png', 'code':'f_2_9'},\n",
    "{'file': 'image237.png', 'code':'f_3_5'},\n",
    "{'file': 'image291.png', 'code':'m_2_4'},\n",
    "{'file': 'image296.png', 'code':'m_2_5'},\n",
    "{'file': 'image312.png', 'code':'m_3_5'},\n",
    "#falta M3.6?\n",
    "{'file': 'image318.png', 'code':'m_3_7'},\n",
    "{'file': 'image322.png', 'code':'m_4_1'},\n",
    "{'file': 'image135.png', 'code':'sf_2_2'},\n",
    "{'file': 'image168.png', 'code':'tf_1_7'})\n",
    "\n",
    "for record in fixes:\n",
    "    source =  inputdir / 'DAM' / record['file']\n",
    "    outfile = '%s-diagram.png' % (record['code'])\n",
    "    destination =  content_repo / outfile\n",
    "    if os.path.isfile(source):\n",
    "        shutil.copy(source, destination)\n",
    "        print(\"DAM for EFG %s-diagram.png in file %s\" % (code,record['file']))"
   ]
  },
  {
   "cell_type": "markdown",
   "id": "44dc921f-3d9c-4545-832e-3b4dadd58f9f",
   "metadata": {},
   "source": [
    "## Update content to database\n",
    "We will first open the connection and activate a normal cursor:"
   ]
  },
  {
   "cell_type": "code",
   "execution_count": 158,
   "id": "1f2c8915-73d6-43e9-a63d-963581c0d833",
   "metadata": {},
   "outputs": [],
   "source": [
    "conn = psycopg2.connect(**params)\n",
    "cur = conn.cursor()\n"
   ]
  },
  {
   "cell_type": "markdown",
   "id": "74214097-faae-4311-8002-1751d49e3b03",
   "metadata": {},
   "source": [
    "This code will read from each element in the list `items`, prepare the insert queries for three tables in the database, execute the queries and count the number of affected rows, should be three for each profile:"
   ]
  },
  {
   "cell_type": "code",
   "execution_count": 30,
   "id": "35594044-b33a-4095-a09b-e25e194797b1",
   "metadata": {},
   "outputs": [
    {
     "name": "stdout",
     "output_type": "stream",
     "text": [
      "330\n"
     ]
    }
   ],
   "source": [
    "qrystr_traits=   \"INSERT INTO efg_ecological_traits(code,language,description,contributors,version,update) values %s ON CONFLICT ON CONSTRAINT efg_ecological_traits_pkey DO UPDATE SET description=EXCLUDED.description, contributors=EXCLUDED.contributors, update=CURRENT_TIMESTAMP(0)\"\n",
    "qrystr_drivers=   \"INSERT INTO efg_key_ecological_drivers(code,language,description,contributors,version,update) values %s ON CONFLICT ON CONSTRAINT efg_key_ecological_drivers_pkey DO UPDATE SET description=EXCLUDED.description, contributors=EXCLUDED.contributors, update=CURRENT_TIMESTAMP(0)\"\n",
    "qrystr_dist=   \"INSERT INTO efg_distribution(code,language,description,contributors,version,update) values %s ON CONFLICT ON CONSTRAINT efg_distribution_pkey DO UPDATE SET description=EXCLUDED.description, contributors=EXCLUDED.contributors, update=CURRENT_TIMESTAMP(0)\"\n",
    "\n",
    "affected_rows = 0\n",
    "for item in items:\n",
    "    desc=re.sub('([MFTS]+[0-9][ ,\\\\)])','biome \\\\1',item['Ecosystem properties'])\n",
    "\n",
    "    if 'Ecosystem properties' in item.keys():\n",
    "        values=tuple([item['Code'],'en',add_biome_kwd(item['Ecosystem properties']),item['Contributors'],'v2.1',datetime.today().date()])\n",
    "        cur.execute(qrystr_traits,(values,))\n",
    "        affected_rows=affected_rows+cur.rowcount\n",
    "    if 'Ecological drivers' in item.keys():\n",
    "        values=tuple([item['Code'],'en',add_biome_kwd(item['Ecological drivers']),item['Contributors'],'v2.1',datetime.today().date()])\n",
    "        cur.execute(qrystr_drivers,(values,))\n",
    "        affected_rows=affected_rows+cur.rowcount\n",
    "    if 'Distribution' in item.keys():\n",
    "        values=tuple([item['Code'],'en',add_biome_kwd(item['Distribution']),item['Contributors'],'v2.1',datetime.today().date()])\n",
    "        cur.execute(qrystr_dist,(values,))\n",
    "        affected_rows=affected_rows+cur.rowcount\n",
    "print(affected_rows)"
   ]
  },
  {
   "cell_type": "markdown",
   "id": "5f0778ed-5595-4b80-87da-15a52d00a093",
   "metadata": {},
   "source": [
    "This is a good time to commit the changes:"
   ]
  },
  {
   "cell_type": "code",
   "execution_count": 31,
   "id": "0a3ecc0b-a058-46fa-9609-f141ebbabb18",
   "metadata": {},
   "outputs": [],
   "source": [
    "conn.commit()"
   ]
  },
  {
   "cell_type": "markdown",
   "id": "d1c6bfe9-282a-4e90-ba06-7264fbf27300",
   "metadata": {},
   "source": [
    "Before we close the connection, we will check that all information was correctly loaded:"
   ]
  },
  {
   "cell_type": "code",
   "execution_count": 32,
   "id": "d14e483d-38fe-497f-b683-cfdc70c43267",
   "metadata": {},
   "outputs": [],
   "source": [
    "qry=\" \".join((\"select code,LENGTH(t.description), LENGTH(k.description), LENGTH(d.description)\",\n",
    "\"from efg_ecological_traits t\",\n",
    "\"full join efg_key_ecological_drivers k\",\n",
    "\"USING(code,version,language)\",\n",
    "\"full join efg_distribution d\",\n",
    "\"USING(code,version,language)\",\n",
    "\"where version='v2.1' AND language='en' order by code;\"))\n",
    "cur.execute(qry)\n",
    "updated_codes=cur.fetchall()"
   ]
  },
  {
   "cell_type": "code",
   "execution_count": 33,
   "id": "791b403c-2b93-4a48-bc3c-b283df4669c6",
   "metadata": {
    "collapsed": true,
    "jupyter": {
     "outputs_hidden": true
    },
    "tags": []
   },
   "outputs": [
    {
     "data": {
      "text/plain": [
       "[('F1.1', 1601, 863, 158),\n",
       " ('F1.2', 1597, 1148, 155),\n",
       " ('F1.3', 2014, 848, 119),\n",
       " ('F1.4', 1280, 726, 84),\n",
       " ('F1.5', 1381, 815, 85),\n",
       " ('F1.6', 1944, 1079, 100),\n",
       " ('F1.7', 1501, 967, 152),\n",
       " ('F2.1', 2223, 660, 58),\n",
       " ('F2.10', 2011, 718, 152),\n",
       " ('F2.2', 2250, 800, 79),\n",
       " ('F2.3', 2039, 1111, 135),\n",
       " ('F2.4', 1817, 1029, 129),\n",
       " ('F2.5', 1419, 955, 89),\n",
       " ('F2.6', 1395, 1265, 113),\n",
       " ('F2.7', 1962, 832, 85),\n",
       " ('F2.8', 1522, 881, 165),\n",
       " ('F2.9', 2279, 807, 179),\n",
       " ('F3.1', 1053, 1108, 245),\n",
       " ('F3.2', 1600, 1040, 121),\n",
       " ('F3.3', 1516, 788, 170),\n",
       " ('F3.4', 1538, 1032, 179),\n",
       " ('F3.5', 1143, 1080, 153),\n",
       " ('FM1.1', 2021, 1176, 85),\n",
       " ('FM1.2', 2118, 742, 65),\n",
       " ('FM1.3', 1458, 671, 324),\n",
       " ('M1.1', 1298, 754, 76),\n",
       " ('M1.10', 2378, 601, 147),\n",
       " ('M1.2', 1956, 807, 190),\n",
       " ('M1.3', 1990, 735, 108),\n",
       " ('M1.4', 1772, 942, 211),\n",
       " ('M1.5', 1779, 734, 185),\n",
       " ('M1.6', 2081, 902, 69),\n",
       " ('M1.7', 1550, 682, 58),\n",
       " ('M1.8', 1910, 904, 80),\n",
       " ('M1.9', 1020, 1119, 278),\n",
       " ('M2.1', 2324, 664, 70),\n",
       " ('M2.2', 1643, 908, 87),\n",
       " ('M2.3', 1894, 981, 98),\n",
       " ('M2.4', 1356, 641, 146),\n",
       " ('M2.5', 1596, 820, 182),\n",
       " ('M3.1', 1658, 853, 130),\n",
       " ('M3.2', 1654, 1173, 175),\n",
       " ('M3.3', 2025, 541, 160),\n",
       " ('M3.4', 1672, 1067, 187),\n",
       " ('M3.5', 1729, 783, 139),\n",
       " ('M3.6', 1561, 733, 208),\n",
       " ('M3.7', 1449, 605, 232),\n",
       " ('M4.1', 1392, 1069, 598),\n",
       " ('M4.2', 1997, 819, 160),\n",
       " ('MFT1.1', 1808, 803, 128),\n",
       " ('MFT1.2', 1651, 958, 150),\n",
       " ('MFT1.3', 2209, 969, 99),\n",
       " ('MT1.1', 1379, 1276, 230),\n",
       " ('MT1.2', 1592, 835, 169),\n",
       " ('MT1.3', 1281, 1219, 174),\n",
       " ('MT1.4', 1886, 983, 235),\n",
       " ('MT2.1', 1602, 722, 78),\n",
       " ('MT2.2', 2015, 799, 91),\n",
       " ('MT3.1', 1435, 1296, 133),\n",
       " ('S1.1', 2419, 454, 132),\n",
       " ('S1.2', 1945, 823, 143),\n",
       " ('S2.1', 1892, 635, 103),\n",
       " ('SF1.1', 1723, 748, 128),\n",
       " ('SF1.2', 2097, 722, 84),\n",
       " ('SF2.1', 1770, 952, 193),\n",
       " ('SF2.2', 1374, 1248, 52),\n",
       " ('SM1.1', 1648, 891, 123),\n",
       " ('SM1.2', 1806, 597, 296),\n",
       " ('SM1.3', 1689, 726, 74),\n",
       " ('T1.1', 2111, 837, 166),\n",
       " ('T1.2', 1546, 531, 202),\n",
       " ('T1.3', 1454, 810, 158),\n",
       " ('T1.4', 1232, 909, 201),\n",
       " ('T2.1', 2401, 675, 121),\n",
       " ('T2.2', 2335, 381, 240),\n",
       " ('T2.3', 1626, 804, 367),\n",
       " ('T2.4', 2124, 657, 97),\n",
       " ('T2.5', 2232, 568, 68),\n",
       " ('T2.6', 2058, 502, 74),\n",
       " ('T3.1', 1433, 575, 175),\n",
       " ('T3.2', 2007, 775, 214),\n",
       " ('T3.3', 1651, 625, 222),\n",
       " ('T3.4', 1759, 579, 104),\n",
       " ('T4.1', 1546, 830, 51),\n",
       " ('T4.2', 2149, 494, 83),\n",
       " ('T4.3', 1663, 643, 80),\n",
       " ('T4.4', 1914, 493, 167),\n",
       " ('T4.5', 1880, 512, 201),\n",
       " ('T5.1', 1708, 799, 138),\n",
       " ('T5.2', 1654, 612, 81),\n",
       " ('T5.3', 2060, 614, 72),\n",
       " ('T5.4', 1715, 887, 187),\n",
       " ('T5.5', 1867, 759, 88),\n",
       " ('T6.1', 1629, 1060, 134),\n",
       " ('T6.2', 1116, 640, 162),\n",
       " ('T6.3', 1715, 500, 140),\n",
       " ('T6.4', 1669, 605, 134),\n",
       " ('T6.5', 1623, 1052, 109),\n",
       " ('T7.1', 2254, 659, 177),\n",
       " ('T7.2', 2177, 600, 247),\n",
       " ('T7.3', 2156, 478, 190),\n",
       " ('T7.4', 1949, 886, 303),\n",
       " ('T7.5', 1914, 667, 94),\n",
       " ('TF1.1', 1710, 1023, 133),\n",
       " ('TF1.2', 2009, 919, 82),\n",
       " ('TF1.3', 1780, 828, 66),\n",
       " ('TF1.4', 1781, 1068, 76),\n",
       " ('TF1.5', 1477, 925, 78),\n",
       " ('TF1.6', 2083, 759, 204),\n",
       " ('TF1.7', 1921, 933, 221)]"
      ]
     },
     "execution_count": 33,
     "metadata": {},
     "output_type": "execute_result"
    }
   ],
   "source": [
    "updated_codes\n"
   ]
  },
  {
   "cell_type": "code",
   "execution_count": null,
   "id": "dc0198b0-4fdb-43b2-aafa-6c12a6de3cb5",
   "metadata": {},
   "outputs": [],
   "source": [
    "We have problems with the contributors, but it seems to be a problem in the input word docx:"
   ]
  },
  {
   "cell_type": "code",
   "execution_count": 168,
   "id": "5de0f268-cbc4-4395-9d58-869348fbb880",
   "metadata": {},
   "outputs": [],
   "source": [
    "qry=\"\"\"\n",
    "WITH A AS (SELECT code,version,contributors FROM efg_ecological_traits WHERE version='v1.0'),\n",
    "B AS (SELECT code,version,contributors FROM efg_ecological_traits WHERE version='v2.0'),\n",
    "C AS (SELECT code,version,contributors FROM efg_ecological_traits WHERE version='v2.1')\n",
    "SELECT C.code, array_to_string(A.contributors,', ') AS contribs_v1d0, \n",
    "array_to_string(B.contributors,', ') AS contribs_v2d0, array_to_string(C.contributors,', ') AS contribs_v2d1\n",
    "FROM C \n",
    "LEFT JOIN B USING(code)\n",
    "LEFT JOIN A USING(code)\n",
    "ORDER BY CODE\"\"\";\n",
    "cur.execute(qry)\n",
    "list_contrib=cur.fetchall()"
   ]
  },
  {
   "cell_type": "code",
   "execution_count": 211,
   "id": "ae8e19fc-7438-4501-8d46-edcdfb24bbbc",
   "metadata": {},
   "outputs": [
    {
     "data": {
      "text/html": [
       "<div>\n",
       "<style scoped>\n",
       "    .dataframe tbody tr th:only-of-type {\n",
       "        vertical-align: middle;\n",
       "    }\n",
       "\n",
       "    .dataframe tbody tr th {\n",
       "        vertical-align: top;\n",
       "    }\n",
       "\n",
       "    .dataframe thead th {\n",
       "        text-align: right;\n",
       "    }\n",
       "</style>\n",
       "<table border=\"1\" class=\"dataframe\">\n",
       "  <thead>\n",
       "    <tr style=\"text-align: right;\">\n",
       "      <th></th>\n",
       "      <th>code</th>\n",
       "      <th>v1.0</th>\n",
       "      <th>v2.0</th>\n",
       "      <th>v2.1</th>\n",
       "    </tr>\n",
       "  </thead>\n",
       "  <tbody>\n",
       "    <tr>\n",
       "      <th>0</th>\n",
       "      <td>F1.1</td>\n",
       "      <td>RT Kingsford, RC Mac Nally, DA Keith</td>\n",
       "      <td>RT Kingsford, R Mac Nally, PS Giller, MC Rains...</td>\n",
       "      <td>RT Kingsford, R Mac Nally, PS Giller, MC Rains...</td>\n",
       "    </tr>\n",
       "    <tr>\n",
       "      <th>1</th>\n",
       "      <td>F1.2</td>\n",
       "      <td>RT Kingsford, RC Mac Nally, DA Keith</td>\n",
       "      <td>RT Kingsford, R Mac Nally, PS Giller, MC, Rain...</td>\n",
       "      <td>RT Kingsford, R Mac Nally, PS Giller, MC, Rain...</td>\n",
       "    </tr>\n",
       "    <tr>\n",
       "      <th>2</th>\n",
       "      <td>F1.3</td>\n",
       "      <td>RT Kingsford, DA Keith</td>\n",
       "      <td>RT Kingsford, PS Giller, DA Keith</td>\n",
       "      <td>RT Kingsford, PS Giller, DA Keith</td>\n",
       "    </tr>\n",
       "    <tr>\n",
       "      <th>3</th>\n",
       "      <td>F1.4</td>\n",
       "      <td>RT Kingsford, DA Keith</td>\n",
       "      <td>RT Kingsford, B Robson, PS Giller, AH Arthingt...</td>\n",
       "      <td>RT Kingsford, B Robson, PS Giller, AH Arthingt...</td>\n",
       "    </tr>\n",
       "    <tr>\n",
       "      <th>4</th>\n",
       "      <td>F1.5</td>\n",
       "      <td>RT Kingsford, DA Keith</td>\n",
       "      <td>RT Kingsford, B Robson, PS Giller, AH Arthingt...</td>\n",
       "      <td>RT Kingsford, B Robson, PS Giller, AH Arthingt...</td>\n",
       "    </tr>\n",
       "    <tr>\n",
       "      <th>...</th>\n",
       "      <td>...</td>\n",
       "      <td>...</td>\n",
       "      <td>...</td>\n",
       "      <td>...</td>\n",
       "    </tr>\n",
       "    <tr>\n",
       "      <th>105</th>\n",
       "      <td>TF1.3</td>\n",
       "      <td>RT Kingsford, DA Keith</td>\n",
       "      <td>RT Kingsford, JA Catford, MC Rains, B Robson, ...</td>\n",
       "      <td>RT Kingsford, JA Catford, MC Rains, B Robson, ...</td>\n",
       "    </tr>\n",
       "    <tr>\n",
       "      <th>106</th>\n",
       "      <td>TF1.4</td>\n",
       "      <td>DA Keith, RT Kingsford, RC Mac Nally, KM Rodri...</td>\n",
       "      <td>DA Keith, RT Kingsford, R Mac Nally, B Robson,...</td>\n",
       "      <td>DA Keith, RT Kingsford, R Mac Nally, B Robson,...</td>\n",
       "    </tr>\n",
       "    <tr>\n",
       "      <th>107</th>\n",
       "      <td>TF1.5</td>\n",
       "      <td>RT Kingsford, RC Mac Nally, DA Keith</td>\n",
       "      <td>RT Kingsford, R Mac Nally, AH Arthington, JA C...</td>\n",
       "      <td>RT Kingsford, R Mac Nally, AH Arthington, JA C...</td>\n",
       "    </tr>\n",
       "    <tr>\n",
       "      <th>108</th>\n",
       "      <td>TF1.6</td>\n",
       "      <td>DA Keith, RT Kingsford, F Essl, LJ Jackson, T ...</td>\n",
       "      <td>DA Keith, RT Kingsford, F Essl, LJ Jackson, M ...</td>\n",
       "      <td>DA Keith, RT Kingsford, F Essl, LJ Jackson, M ...</td>\n",
       "    </tr>\n",
       "    <tr>\n",
       "      <th>109</th>\n",
       "      <td>TF1.7</td>\n",
       "      <td>DA Keith, RT Kingsford, F Essl, LJ Jackson, T ...</td>\n",
       "      <td>DA Keith, RT Kingsford, F Essl, LJ Jackson, M ...</td>\n",
       "      <td>DA Keith, RT Kingsford, F Essl, LJ Jackson, M ...</td>\n",
       "    </tr>\n",
       "  </tbody>\n",
       "</table>\n",
       "<p>110 rows × 4 columns</p>\n",
       "</div>"
      ],
      "text/plain": [
       "      code                                               v1.0  \\\n",
       "0     F1.1               RT Kingsford, RC Mac Nally, DA Keith   \n",
       "1     F1.2               RT Kingsford, RC Mac Nally, DA Keith   \n",
       "2     F1.3                             RT Kingsford, DA Keith   \n",
       "3     F1.4                             RT Kingsford, DA Keith   \n",
       "4     F1.5                             RT Kingsford, DA Keith   \n",
       "..     ...                                                ...   \n",
       "105  TF1.3                             RT Kingsford, DA Keith   \n",
       "106  TF1.4  DA Keith, RT Kingsford, RC Mac Nally, KM Rodri...   \n",
       "107  TF1.5               RT Kingsford, RC Mac Nally, DA Keith   \n",
       "108  TF1.6  DA Keith, RT Kingsford, F Essl, LJ Jackson, T ...   \n",
       "109  TF1.7  DA Keith, RT Kingsford, F Essl, LJ Jackson, T ...   \n",
       "\n",
       "                                                  v2.0  \\\n",
       "0    RT Kingsford, R Mac Nally, PS Giller, MC Rains...   \n",
       "1    RT Kingsford, R Mac Nally, PS Giller, MC, Rain...   \n",
       "2                    RT Kingsford, PS Giller, DA Keith   \n",
       "3    RT Kingsford, B Robson, PS Giller, AH Arthingt...   \n",
       "4    RT Kingsford, B Robson, PS Giller, AH Arthingt...   \n",
       "..                                                 ...   \n",
       "105  RT Kingsford, JA Catford, MC Rains, B Robson, ...   \n",
       "106  DA Keith, RT Kingsford, R Mac Nally, B Robson,...   \n",
       "107  RT Kingsford, R Mac Nally, AH Arthington, JA C...   \n",
       "108  DA Keith, RT Kingsford, F Essl, LJ Jackson, M ...   \n",
       "109  DA Keith, RT Kingsford, F Essl, LJ Jackson, M ...   \n",
       "\n",
       "                                                  v2.1  \n",
       "0    RT Kingsford, R Mac Nally, PS Giller, MC Rains...  \n",
       "1    RT Kingsford, R Mac Nally, PS Giller, MC, Rain...  \n",
       "2                    RT Kingsford, PS Giller, DA Keith  \n",
       "3    RT Kingsford, B Robson, PS Giller, AH Arthingt...  \n",
       "4    RT Kingsford, B Robson, PS Giller, AH Arthingt...  \n",
       "..                                                 ...  \n",
       "105  RT Kingsford, JA Catford, MC Rains, B Robson, ...  \n",
       "106  DA Keith, RT Kingsford, R Mac Nally, B Robson,...  \n",
       "107  RT Kingsford, R Mac Nally, AH Arthington, JA C...  \n",
       "108  DA Keith, RT Kingsford, F Essl, LJ Jackson, M ...  \n",
       "109  DA Keith, RT Kingsford, F Essl, LJ Jackson, M ...  \n",
       "\n",
       "[110 rows x 4 columns]"
      ]
     },
     "execution_count": 211,
     "metadata": {},
     "output_type": "execute_result"
    }
   ],
   "source": [
    "import pandas as pd\n",
    "df=pd.DataFrame(list_contrib,columns=['code','v1.0','v2.0','v2.1'])\n",
    "df"
   ]
  },
  {
   "cell_type": "code",
   "execution_count": 172,
   "id": "66793bc3-d498-4af8-a5eb-a16b51ef263d",
   "metadata": {},
   "outputs": [],
   "source": [
    "df.to_csv(inputdir / 'contributors.csv')"
   ]
  },
  {
   "cell_type": "code",
   "execution_count": 212,
   "id": "9fd461d8-bed2-4ddb-aa6f-1f6bf72e03c1",
   "metadata": {},
   "outputs": [],
   "source": [
    "dfx=pd.read_excel(inputdir / 'Check-list-contributors.xlsx', sheet_name='contributors')  \n"
   ]
  },
  {
   "cell_type": "code",
   "execution_count": 213,
   "id": "7190c527-92ec-4a6f-a517-a56eecb92538",
   "metadata": {},
   "outputs": [],
   "source": [
    "tbls=(\"efg_ecological_traits\", \"efg_key_ecological_drivers\", \"efg_distribution\")\n",
    "       \n",
    "for records in dfx.query(\"status=='looks fine'\")[['code','v2.1']].values:\n",
    "    autors=records[1].split(\",\")\n",
    "    auts = [x.strip(' ') for x in autors]\n",
    "    for tbl in tbls:\n",
    "        qry=\"\"\"UPDATE %s SET contributors=%s WHERE code=%s and version='v2.1'\"\"\"\n",
    "        cur.execute(qry,(AsIs(tbl),auts,records[0]))\n",
    "    "
   ]
  },
  {
   "cell_type": "code",
   "execution_count": 214,
   "id": "516e2e52-6deb-49a5-a326-69c8ec5dde5c",
   "metadata": {},
   "outputs": [],
   "source": [
    "conn.commit()"
   ]
  },
  {
   "cell_type": "code",
   "execution_count": 215,
   "id": "78b51e2a-4661-4485-9bfa-b19b73484f79",
   "metadata": {},
   "outputs": [],
   "source": [
    "qry=\"\"\"\n",
    "WITH A AS (SELECT code,version,contributors FROM efg_ecological_traits WHERE version='v1.0'),\n",
    "B AS (SELECT code,version,contributors FROM efg_ecological_traits WHERE version='v2.0'),\n",
    "C AS (SELECT code,version,contributors FROM efg_ecological_traits WHERE version='v2.1')\n",
    "SELECT C.code, array_to_string(A.contributors,', ') AS contribs_v1d0, \n",
    "array_to_string(B.contributors,', ') AS contribs_v2d0, array_to_string(C.contributors,', ') AS contribs_v2d1\n",
    "FROM C \n",
    "LEFT JOIN B USING(code)\n",
    "LEFT JOIN A USING(code)\n",
    "ORDER BY CODE\"\"\";\n",
    "cur.execute(qry)\n",
    "list_contrib=cur.fetchall()"
   ]
  },
  {
   "cell_type": "code",
   "execution_count": 216,
   "id": "9faa6dcb-67e5-4c82-90ac-dcb1dc972e93",
   "metadata": {},
   "outputs": [
    {
     "data": {
      "text/html": [
       "<div>\n",
       "<style scoped>\n",
       "    .dataframe tbody tr th:only-of-type {\n",
       "        vertical-align: middle;\n",
       "    }\n",
       "\n",
       "    .dataframe tbody tr th {\n",
       "        vertical-align: top;\n",
       "    }\n",
       "\n",
       "    .dataframe thead th {\n",
       "        text-align: right;\n",
       "    }\n",
       "</style>\n",
       "<table border=\"1\" class=\"dataframe\">\n",
       "  <thead>\n",
       "    <tr style=\"text-align: right;\">\n",
       "      <th></th>\n",
       "      <th>code</th>\n",
       "      <th>v1.0</th>\n",
       "      <th>v2.0</th>\n",
       "      <th>v2.1</th>\n",
       "    </tr>\n",
       "  </thead>\n",
       "  <tbody>\n",
       "    <tr>\n",
       "      <th>0</th>\n",
       "      <td>F1.1</td>\n",
       "      <td>RT Kingsford, RC Mac Nally, DA Keith</td>\n",
       "      <td>RT Kingsford, R Mac Nally, PS Giller, MC Rains...</td>\n",
       "      <td>RT Kingsford, R Mac Nally, PS Giller, MC Rains...</td>\n",
       "    </tr>\n",
       "    <tr>\n",
       "      <th>1</th>\n",
       "      <td>F1.2</td>\n",
       "      <td>RT Kingsford, RC Mac Nally, DA Keith</td>\n",
       "      <td>RT Kingsford, R Mac Nally, PS Giller, MC, Rain...</td>\n",
       "      <td>RT Kingsford, R Mac Nally, PS Giller, MC, Rain...</td>\n",
       "    </tr>\n",
       "    <tr>\n",
       "      <th>2</th>\n",
       "      <td>F1.3</td>\n",
       "      <td>RT Kingsford, DA Keith</td>\n",
       "      <td>RT Kingsford, PS Giller, DA Keith</td>\n",
       "      <td>RT Kingsford, PS Giller, DA Keith</td>\n",
       "    </tr>\n",
       "    <tr>\n",
       "      <th>3</th>\n",
       "      <td>F1.4</td>\n",
       "      <td>RT Kingsford, DA Keith</td>\n",
       "      <td>RT Kingsford, B Robson, PS Giller, AH Arthingt...</td>\n",
       "      <td>RT Kingsford, B Robson, PS Giller, AH Arthingt...</td>\n",
       "    </tr>\n",
       "    <tr>\n",
       "      <th>4</th>\n",
       "      <td>F1.5</td>\n",
       "      <td>RT Kingsford, DA Keith</td>\n",
       "      <td>RT Kingsford, B Robson, PS Giller, AH Arthingt...</td>\n",
       "      <td>RT Kingsford, B Robson, PS Giller, AH Arthingt...</td>\n",
       "    </tr>\n",
       "    <tr>\n",
       "      <th>...</th>\n",
       "      <td>...</td>\n",
       "      <td>...</td>\n",
       "      <td>...</td>\n",
       "      <td>...</td>\n",
       "    </tr>\n",
       "    <tr>\n",
       "      <th>105</th>\n",
       "      <td>TF1.3</td>\n",
       "      <td>RT Kingsford, DA Keith</td>\n",
       "      <td>RT Kingsford, JA Catford, MC Rains, B Robson, ...</td>\n",
       "      <td>RT Kingsford, JA Catford, MC Rains, B Robson, ...</td>\n",
       "    </tr>\n",
       "    <tr>\n",
       "      <th>106</th>\n",
       "      <td>TF1.4</td>\n",
       "      <td>DA Keith, RT Kingsford, RC Mac Nally, KM Rodri...</td>\n",
       "      <td>DA Keith, RT Kingsford, R Mac Nally, B Robson,...</td>\n",
       "      <td>DA Keith, RT Kingsford, R Mac Nally, B Robson,...</td>\n",
       "    </tr>\n",
       "    <tr>\n",
       "      <th>107</th>\n",
       "      <td>TF1.5</td>\n",
       "      <td>RT Kingsford, RC Mac Nally, DA Keith</td>\n",
       "      <td>RT Kingsford, R Mac Nally, AH Arthington, JA C...</td>\n",
       "      <td>RT Kingsford, R Mac Nally, AH Arthington, JA C...</td>\n",
       "    </tr>\n",
       "    <tr>\n",
       "      <th>108</th>\n",
       "      <td>TF1.6</td>\n",
       "      <td>DA Keith, RT Kingsford, F Essl, LJ Jackson, T ...</td>\n",
       "      <td>DA Keith, RT Kingsford, F Essl, LJ Jackson, M ...</td>\n",
       "      <td>DA Keith, RT Kingsford, F Essl, LJ Jackson, M ...</td>\n",
       "    </tr>\n",
       "    <tr>\n",
       "      <th>109</th>\n",
       "      <td>TF1.7</td>\n",
       "      <td>DA Keith, RT Kingsford, F Essl, LJ Jackson, T ...</td>\n",
       "      <td>DA Keith, RT Kingsford, F Essl, LJ Jackson, M ...</td>\n",
       "      <td>DA Keith, RT Kingsford, F Essl, LJ Jackson, M ...</td>\n",
       "    </tr>\n",
       "  </tbody>\n",
       "</table>\n",
       "<p>110 rows × 4 columns</p>\n",
       "</div>"
      ],
      "text/plain": [
       "      code                                               v1.0  \\\n",
       "0     F1.1               RT Kingsford, RC Mac Nally, DA Keith   \n",
       "1     F1.2               RT Kingsford, RC Mac Nally, DA Keith   \n",
       "2     F1.3                             RT Kingsford, DA Keith   \n",
       "3     F1.4                             RT Kingsford, DA Keith   \n",
       "4     F1.5                             RT Kingsford, DA Keith   \n",
       "..     ...                                                ...   \n",
       "105  TF1.3                             RT Kingsford, DA Keith   \n",
       "106  TF1.4  DA Keith, RT Kingsford, RC Mac Nally, KM Rodri...   \n",
       "107  TF1.5               RT Kingsford, RC Mac Nally, DA Keith   \n",
       "108  TF1.6  DA Keith, RT Kingsford, F Essl, LJ Jackson, T ...   \n",
       "109  TF1.7  DA Keith, RT Kingsford, F Essl, LJ Jackson, T ...   \n",
       "\n",
       "                                                  v2.0  \\\n",
       "0    RT Kingsford, R Mac Nally, PS Giller, MC Rains...   \n",
       "1    RT Kingsford, R Mac Nally, PS Giller, MC, Rain...   \n",
       "2                    RT Kingsford, PS Giller, DA Keith   \n",
       "3    RT Kingsford, B Robson, PS Giller, AH Arthingt...   \n",
       "4    RT Kingsford, B Robson, PS Giller, AH Arthingt...   \n",
       "..                                                 ...   \n",
       "105  RT Kingsford, JA Catford, MC Rains, B Robson, ...   \n",
       "106  DA Keith, RT Kingsford, R Mac Nally, B Robson,...   \n",
       "107  RT Kingsford, R Mac Nally, AH Arthington, JA C...   \n",
       "108  DA Keith, RT Kingsford, F Essl, LJ Jackson, M ...   \n",
       "109  DA Keith, RT Kingsford, F Essl, LJ Jackson, M ...   \n",
       "\n",
       "                                                  v2.1  \n",
       "0    RT Kingsford, R Mac Nally, PS Giller, MC Rains...  \n",
       "1    RT Kingsford, R Mac Nally, PS Giller, MC, Rain...  \n",
       "2                    RT Kingsford, PS Giller, DA Keith  \n",
       "3    RT Kingsford, B Robson, PS Giller, AH Arthingt...  \n",
       "4    RT Kingsford, B Robson, PS Giller, AH Arthingt...  \n",
       "..                                                 ...  \n",
       "105  RT Kingsford, JA Catford, MC Rains, B Robson, ...  \n",
       "106  DA Keith, RT Kingsford, R Mac Nally, B Robson,...  \n",
       "107  RT Kingsford, R Mac Nally, AH Arthington, JA C...  \n",
       "108  DA Keith, RT Kingsford, F Essl, LJ Jackson, M ...  \n",
       "109  DA Keith, RT Kingsford, F Essl, LJ Jackson, M ...  \n",
       "\n",
       "[110 rows x 4 columns]"
      ]
     },
     "execution_count": 216,
     "metadata": {},
     "output_type": "execute_result"
    }
   ],
   "source": [
    "df=pd.DataFrame(list_contrib,columns=['code','v1.0','v2.0','v2.1'])\n",
    "df"
   ]
  },
  {
   "cell_type": "markdown",
   "id": "8ebffa76-341d-42b6-9ba0-5c96c03bd24a",
   "metadata": {},
   "source": [
    "We can now close the database connection:"
   ]
  },
  {
   "cell_type": "code",
   "execution_count": 217,
   "id": "80937f44-bbdc-42a2-b5a3-bc46518eaa24",
   "metadata": {},
   "outputs": [
    {
     "name": "stdout",
     "output_type": "stream",
     "text": [
      "Database connection closed.\n"
     ]
    }
   ],
   "source": [
    "\n",
    "cur.close()\n",
    "        \n",
    "if conn is not None:\n",
    "    conn.close()\n",
    "    print('Database connection closed.')"
   ]
  },
  {
   "cell_type": "markdown",
   "id": "8e17f5e5-4bae-4578-ab18-70382bd4a3ff",
   "metadata": {},
   "source": [
    "# That's it!"
   ]
  }
 ],
 "metadata": {
  "kernelspec": {
   "display_name": "Python 3 (ipykernel)",
   "language": "python",
   "name": "python3"
  },
  "language_info": {
   "codemirror_mode": {
    "name": "ipython",
    "version": 3
   },
   "file_extension": ".py",
   "mimetype": "text/x-python",
   "name": "python",
   "nbconvert_exporter": "python",
   "pygments_lexer": "ipython3",
   "version": "3.10.2"
  }
 },
 "nbformat": 4,
 "nbformat_minor": 5
}

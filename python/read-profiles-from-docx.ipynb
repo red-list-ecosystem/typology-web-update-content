{
 "cells": [
  {
   "cell_type": "markdown",
   "id": "a9c43a08-cc31-4cd2-8378-f2fb776fcdcc",
   "metadata": {},
   "source": [
    "# Update profiles for functional groups of the IUCN Global Ecosystem typology\n",
    "\n",
    "Scripts by José R. Ferrer-Paris\n",
    "\n",
    "The scripts described in this document are used to:\n",
    "\n",
    "- Read from document in `docx` format\n",
    "- Update content in database"
   ]
  },
  {
   "cell_type": "markdown",
   "id": "122c81d0-8061-44d9-9acc-e4a7fcfee02c",
   "metadata": {},
   "source": [
    "## Set-up\n",
    "Load all the libraries we will need in this script:"
   ]
  },
  {
   "cell_type": "code",
   "execution_count": 1,
   "id": "f36cd05c-698d-4bdd-a471-36e5eed0f512",
   "metadata": {},
   "outputs": [],
   "source": [
    "from docx import Document\n",
    "import os\n",
    "from pathlib import Path\n",
    "import re\n",
    "from datetime import datetime\n",
    "from configparser import ConfigParser\n",
    "import psycopg2"
   ]
  },
  {
   "cell_type": "markdown",
   "id": "cb70926c-bb83-4420-a7b7-8898aa10ef2c",
   "metadata": {},
   "source": [
    "Initially, when I ran this code, the text from paragraphs did not include hyperlinks to biomes and efgs.\n",
    "Here I add a hack from https://github.com/python-openxml/python-docx/issues/85 to extract text and hyperlinks as a single text element."
   ]
  },
  {
   "cell_type": "code",
   "execution_count": 2,
   "id": "11d29015-1067-44a6-bed7-e62dea30ac6f",
   "metadata": {},
   "outputs": [],
   "source": [
    "from docx.text.paragraph import Paragraph\n",
    "\n",
    "Paragraph.text = property(lambda self: GetParagraphText(self))\n",
    "\n",
    "def GetParagraphText(paragraph):\n",
    "\n",
    "    def GetTag(element):\n",
    "        return \"%s:%s\" % (element.prefix, re.match(\"{.*}(.*)\", element.tag).group(1))\n",
    "\n",
    "    text = ''\n",
    "    runCount = 0\n",
    "    for child in paragraph._p:\n",
    "        tag = GetTag(child)\n",
    "        if tag == \"w:r\":\n",
    "            text += paragraph.runs[runCount].text\n",
    "            runCount += 1\n",
    "        if tag == \"w:hyperlink\":\n",
    "            for subChild in child:\n",
    "                if GetTag(subChild) == \"w:r\":\n",
    "                    text += subChild.text\n",
    "    return text"
   ]
  },
  {
   "cell_type": "markdown",
   "id": "10069ffb-4e08-4257-8b58-961f85ebc7c0",
   "metadata": {},
   "source": [
    "Read configuration parameters for the connection to the current version of the database:"
   ]
  },
  {
   "cell_type": "code",
   "execution_count": 3,
   "id": "43e7f4c2-925c-445f-aab1-9ace0df82604",
   "metadata": {},
   "outputs": [],
   "source": [
    "filename = Path(os.path.expanduser('~')) / \".database.ini\"\n",
    "section = 'psqlaws'\n",
    "\n",
    "parser = ConfigParser()\n",
    "parser.read(filename)\n",
    "db = {}\n",
    "if parser.has_section(section):\n",
    "    params = parser.items(section)\n",
    "    for param in params:\n",
    "        db[param[0]] = param[1]\n",
    "else:\n",
    "    raise Exception('Section {0} not found in the {1} file'.format(section, filename))\n",
    "\n",
    "params = db"
   ]
  },
  {
   "cell_type": "markdown",
   "id": "3fcd4a94-0b02-466a-80b8-529d3e05035b",
   "metadata": {},
   "source": [
    "Declare path for inputdir and filename: "
   ]
  },
  {
   "cell_type": "code",
   "execution_count": 4,
   "id": "8402c22c-c94e-4fcc-a538-c0a51c425491",
   "metadata": {},
   "outputs": [],
   "source": [
    "inputdir = Path(os.path.expanduser('~')) / \"tmp\" / \"typology-web-update-content\"\n",
    "filename='Keith_etal_EarthsEcosystems_Appendix S4_3rdrevisions_subm+DK.docx'"
   ]
  },
  {
   "cell_type": "markdown",
   "id": "3a53eacc-57bc-4dbc-b4d3-a6c092b1a47f",
   "metadata": {},
   "source": [
    "## Read content from document"
   ]
  },
  {
   "cell_type": "code",
   "execution_count": 5,
   "id": "10860adc-8fcc-419c-8a5e-f05737aef3a3",
   "metadata": {},
   "outputs": [
    {
     "data": {
      "text/plain": [
       "<docx.document.Document at 0x107c5cac0>"
      ]
     },
     "execution_count": 5,
     "metadata": {},
     "output_type": "execute_result"
    }
   ],
   "source": [
    "profiles=Document(inputdir / filename)\n",
    "profiles"
   ]
  },
  {
   "cell_type": "markdown",
   "id": "0f2204c9-dd78-49fb-9d0f-04edae853185",
   "metadata": {},
   "source": [
    "Check total number of paragraphs in document"
   ]
  },
  {
   "cell_type": "code",
   "execution_count": 6,
   "id": "d1282b72-4bef-43ba-b399-ccec3271c014",
   "metadata": {},
   "outputs": [
    {
     "data": {
      "text/plain": [
       "1430"
      ]
     },
     "execution_count": 6,
     "metadata": {},
     "output_type": "execute_result"
    }
   ],
   "source": [
    "len(profiles.paragraphs)"
   ]
  },
  {
   "cell_type": "markdown",
   "id": "2ed33925-01f2-4e5a-a426-4c7a2dc84699",
   "metadata": {},
   "source": [
    "Read list of contributors from the headers of each section"
   ]
  },
  {
   "cell_type": "code",
   "execution_count": 7,
   "id": "41a3f3bf-07f7-41cd-b9be-9d44e4c09197",
   "metadata": {},
   "outputs": [],
   "source": [
    "contribs=list()\n",
    "for section in profiles.sections:\n",
    "    h = section.header\n",
    "    for p in h.paragraphs:\n",
    "        if re.search(\"^Contributors\",p.text):\n",
    "            m=p.text.split(':')\n",
    "            contribs.append(m[1])"
   ]
  },
  {
   "cell_type": "markdown",
   "id": "28774999-d0b0-47bd-8c8c-b9777117c4be",
   "metadata": {},
   "source": [
    "There should be one element for each profile (110 profiles):"
   ]
  },
  {
   "cell_type": "code",
   "execution_count": 8,
   "id": "ace277ad-d236-4c33-9a41-cb7cc2573c71",
   "metadata": {},
   "outputs": [
    {
     "data": {
      "text/plain": [
       "110"
      ]
     },
     "execution_count": 8,
     "metadata": {},
     "output_type": "execute_result"
    }
   ],
   "source": [
    "len(contribs)"
   ]
  },
  {
   "cell_type": "markdown",
   "id": "82a585a1-e7ac-4066-8ea2-1c310ddfc0cc",
   "metadata": {},
   "source": [
    "Proceed to read content, each profile has three paragraphs of content starting with a title ('Ecosystem properties','Distribution','Biome','Ecological drivers'), other paragraphs are either references or extra content (photo attributions). We will add the list of author matching each profile to the sequence of contributors in the list above (this only work if all profiles have this information in their headers). "
   ]
  },
  {
   "cell_type": "code",
   "execution_count": 9,
   "id": "287cb5a2-c280-4bdd-9cf8-88e739f3c655",
   "metadata": {},
   "outputs": [],
   "source": [
    "item=None\n",
    "items=list()\n",
    "nr=0\n",
    "for k in range(19,len(profiles.paragraphs)):\n",
    "    p=profiles.paragraphs[k].text\n",
    "    if re.search(\"^[TMFS]+[0-9].[0-9]\",p):\n",
    "        if item is not None:\n",
    "            items.append(item)\n",
    "        m = p.split(\" \")\n",
    "        item={'paragraph':k,'Code':m[0],'Name':p,'References':list(),'Extra':list(),'Contributors':list()}\n",
    "        addref=False\n",
    "        authors=contribs[nr].split(',')\n",
    "        for aut in authors:\n",
    "            item['Contributors'].append(aut.strip(' '))\n",
    "        nr=nr+1\n",
    "    else:\n",
    "        if item is not None:\n",
    "            m=p.split(':')\n",
    "            if m[0] in ('Ecosystem properties','Distribution','Biome','Ecological drivers'):\n",
    "                #print(m[0])\n",
    "                item[m[0]]=\":\".join(m[1:]).strip(\" \")\n",
    "            elif m[0] in ('References'):\n",
    "                addref=True\n",
    "            else:\n",
    "                if addref:\n",
    "                    item['References'].append(p)\n",
    "                else:\n",
    "                    item['Extra'].append(p)\n",
    "items.append(item)\n",
    "#items[1]"
   ]
  },
  {
   "cell_type": "markdown",
   "id": "ce9912f6-420c-4f2b-8354-c33d48790455",
   "metadata": {},
   "source": [
    "We will check that one of the newest profiles is correct:"
   ]
  },
  {
   "cell_type": "code",
   "execution_count": 10,
   "id": "993fc381-5e41-4d1d-9fd2-446be65d1d52",
   "metadata": {
    "tags": []
   },
   "outputs": [
    {
     "data": {
      "text/plain": [
       "{'paragraph': 1366,\n",
       " 'Code': 'MT2.2',\n",
       " 'Name': 'MT2.2 Large seabird and pinniped colonies',\n",
       " 'References': ['Ellis JC (2005) Marine Birds on land: A review of plant biomass, species richness, and community composition in seabird colonies. Plant Ecology 181, 227–241. ',\n",
       "  'Otero XL, De La Peña-Lastra S,  Pérez-Alberti A, Ferreira TO, Huerta-Diaz MA (2018) Seabird colonies as important global drivers in the nitrogen and phosphorus cycles. Nature Communications 9, 246.',\n",
       "  'Riddick SN, Dragosits U, Blackall TD, Daunt F, Wanless S, Sutton MA (2012) The global distribution of ammonia emissions from seabird colonies. Atmospheric Environment 55, 319e327',\n",
       "  'MT3. Anthropogenic shorelines biome',\n",
       "  'Exmouth Marina, Devon, UK.',\n",
       "  'Credit: Red Zeppelin on Unsplash',\n",
       "  'The Anthropogenic shorelines biome is distributed globally where urbanised and industrial areas adjoin the coast, and includes some more remote structures such as artificial islands. It includes marine interfaces constructed from hard, smooth surfaces, including concrete, timber, lithic blocks, and earthen fill, adjoining, extending or replacing natural shores, or floating in proximity to them.',\n",
       "  'These relatively homogeneous substrates support an opportunistic, cosmopolitan biota with limited diversity and simplified trophic structure compared to other shoreline systems. Vertical surfaces are inhabited by algae and biofouling species but are exposed to strong tidal desiccation regimes that strongly filter potential colonists. Floating structures have downward-facing, usually smooth, surfaces, unlike almost anything in nature, which may be colonised by opportunists.',\n",
       "  'Influx of storm water and effluent enhances nutrient levels and eutrophic algae, which contribute autochthonous energy. Outflows from developed areas are also a major sources of allochthonous energy. Strong bottom-up regulation stems from these resource inputs and from low populations of predators, which are depleted or deterred by human activity.'],\n",
       " 'Extra': ['Chinstrap penguin colony with Skua, South Shetland Islands, Antarctica. Inset: Royal penguin colony with Southern elephant seal, Macquarie Island',\n",
       "  'Credit: David Keith, inset Max Breckenridge'],\n",
       " 'Contributors': ['S Gorta', 'SF Bokhorst', 'JC. Ellis', 'DA Keith'],\n",
       " 'Ecosystem properties': 'Large seabird and pinniped colonies are localised eutrophic terrestrial ecosystems near the ocean interface that receive massive nutrient subsidies from large concentrations of roosting or nesting seabirds and pinnipeds that function as mobile links between land and sea. The marine-derived subsidies and potentially massive physical disturbance to vegetation and soils distinguish these colonies from otherwise similar ecosystems in MT2.1. Subsidies are greatest where seabird body size is typically larger (e.g. penguins) and breeding seasons are longer, particularly the sub-Antarctic and Antarctic. The waters around these ecosystems may be locally depleted in seabird prey due to prolonged predation.  Colonies occupy diverse habitats, from sandy shores to rocky islands and montane forests, with vegetation composition and structure limited by physical disturbance, nutrient input, salt influx and gradient (e.g., sea spray), water deficit, surface and subsurface bioturbation-driven changes in soil condition and pH, avian seed dispersal, unstable substrates, and high exposure, often exhibiting salt tolerance and clonal reproduction. Plant assemblages exist across a gradient, influenced by seabird/pinniped disturbance, nutrient input and climate, whereby high-density colonies can completely suppress plant growth, but where disturbance and nutrient load is lower, vegetation can establish, typically in low richness but high abundance. Trophic networks are characterized high microbial activity and abundant invertebrates in soils which can lead to localised biodiversity hotspots, in contrast to the low richness of plant communities under high nutrient loading. There are typically low densities or a total absence of terrestrial mammalian predators and grazers (limited by dispersal barriers). Vibrant and specialised lichens can be abundant. Plant dispersal linked to bird migration, and nutrient transport between marine foraging areas and terrestrial breeding areas, may occur over long distances.',\n",
       " 'Ecological drivers': 'Marine subsidies of nutrients, excreted by marine-foraging seabirds and pinnipeds, drives eutrophication, resulting in the highest terrestrial concentrations of nitrogen, phosphorus, and other nutrients on Earth’s surface. Nutrients may be derived from sources proximal to, or remote from the colony, and may be continual or pulsed, depending on the colony location, size, constituent species, and seasonal variation in attendance. Substrates vary from sand to soil to rock to ice, and desiccating winds add aerosol salts and limit water availability in coastal colonies. Temperatures vary from warm to mild in tropical/temperate/boreal latitudes to freezing in polar regions. Bioturbation, coastal storms, and unstable substrates influence biotic interactions and colony abundance and distribution.',\n",
       " 'Distribution': 'Scattered globally on islands and coastlines, but most common in polar and subpolar regions'}"
      ]
     },
     "execution_count": 10,
     "metadata": {},
     "output_type": "execute_result"
    }
   ],
   "source": [
    "items[105]"
   ]
  },
  {
   "cell_type": "markdown",
   "id": "f3e00897-102a-4ef6-9141-5f9a4cda7afd",
   "metadata": {},
   "source": [
    "Some content from the Biome descriptions has been added in the 'extra' element of the dictionary, but we will ignore those for now."
   ]
  },
  {
   "cell_type": "markdown",
   "id": "44e9c9e8-3ea3-40ac-9608-95f673288d47",
   "metadata": {},
   "source": [
    "Does the text from paragraphs include references to biomes ?"
   ]
  },
  {
   "cell_type": "code",
   "execution_count": 11,
   "id": "b8b36817-bae4-411e-9c5d-d07eb6481ba6",
   "metadata": {},
   "outputs": [
    {
     "name": "stdout",
     "output_type": "stream",
     "text": [
      "555\n"
     ]
    },
    {
     "data": {
      "text/plain": [
       "'Extensive ‘semi-natural’ grasslands and open shrublands exist where woody components of vegetation have been removed or greatly modified for agricultural land uses. Hence they have been ‘derived’ from a range of other ecosystems (mostly from biomes T1, T2, T3, T4, a few from T5). Remaining vegetation includes a substantial component of local indigenous species, as well as an introduced exotic element, providing habitat for a mixed indigenous and non-indigenous fauna. Although structurally simpler at site scales than the systems from which they were derived, spatial complexity may be greater in fragmented landscapes and they often harbour appreciable diversity of native organisms, including some no longer present in ‘natural’ ecosystems. Dominant plant growth forms include tussock or stoloniferous grasses and forbs, with or without non-vascular plants, shrubs and scattered trees. These support microbial decomposers and diverse invertebrate groups that function as detritivores, herbivores and predators, as well as vertebrate herbivores and predators characteristic of open habitats. Energy sources are primarily autochthonous, with varying levels of indirect allochthonous subsidies (e.g. via surface water sheet flows), but few managed inputs (cf. T7.2). Productivity can be low or high, depending on climate and substrate, but is generally lower and more stable than more intensive anthropogenic systems (T7.1-T7.3). Trophic networks include all levels, but complexity and diversity depends on the species pool, legacies from antecedent ecosystems, successional stage, and management regimes. These novel ecosystems may persist in a steady self-maintaining state, or undergo passive transformation (e.g. oldfield succession) unless actively maintained in disequilibrium. For example, removal of domestic herbivores may initiate transition to tree-dominated ecosystems.'"
      ]
     },
     "execution_count": 11,
     "metadata": {},
     "output_type": "execute_result"
    }
   ],
   "source": [
    "print(items[33]['paragraph'])\n",
    "items[33]['Ecosystem properties']"
   ]
  },
  {
   "cell_type": "markdown",
   "id": "8686b536-26d5-4185-9cf3-8a815c8023e8",
   "metadata": {},
   "source": [
    "We whould add the keyword biome, so that it will be consistent with previous version in the database. Also we will remove the map caveats warning if present:"
   ]
  },
  {
   "cell_type": "code",
   "execution_count": 28,
   "id": "f9b5b0dc-365a-4c99-959b-b2728662e34f",
   "metadata": {},
   "outputs": [
    {
     "data": {
      "text/plain": [
       "'Extensive ‘semi-natural’ grasslands and open shrublands exist where woody components of vegetation have been removed or greatly modified for agricultural land uses. Hence they have been ‘derived’ from a range of other ecosystems (mostly from biomes biome T1, biome T2, biome T3, biome T4, a few from biome T5). Remaining vegetation includes a substantial component of local indigenous species, as well as an introduced exotic element, providing habitat for a mixed indigenous and non-indigenous fauna. Although structurally simpler at site scales than the systems from which they were derived, spatial complexity may be greater in fragmented landscapes and they often harbour appreciable diversity of native organisms, including some no longer present in ‘natural’ ecosystems. Dominant plant growth forms include tussock or stoloniferous grasses and forbs, with or without non-vascular plants, shrubs and scattered trees. These support microbial decomposers and diverse invertebrate groups that function as detritivores, herbivores and predators, as well as vertebrate herbivores and predators characteristic of open habitats. Energy sources are primarily autochthonous, with varying levels of indirect allochthonous subsidies (e.g. via surface water sheet flows), but few managed inputs (cf. T7.2). Productivity can be low or high, depending on climate and substrate, but is generally lower and more stable than more intensive anthropogenic systems (T7.1-T7.3). Trophic networks include all levels, but complexity and diversity depends on the species pool, legacies from antecedent ecosystems, successional stage, and management regimes. These novel ecosystems may persist in a steady self-maintaining state, or undergo passive transformation (e.g. oldfield succession) unless actively maintained in disequilibrium. For example, removal of domestic herbivores may initiate transition to tree-dominated ecosystems.'"
      ]
     },
     "execution_count": 28,
     "metadata": {},
     "output_type": "execute_result"
    }
   ],
   "source": [
    "def add_biome_kwd(x):\n",
    "    y=re.sub('([MFTS]+[0-9][ ,\\\\)])','biome \\\\1',x)\n",
    "    y.replace(' See map caveats (Table S4.1).','')\n",
    "    return(y)\n",
    "\n",
    "add_biome_kwd(items[33]['Ecosystem properties'])\n",
    "\n"
   ]
  },
  {
   "cell_type": "markdown",
   "id": "44dc921f-3d9c-4545-832e-3b4dadd58f9f",
   "metadata": {},
   "source": [
    "## Update content to database\n",
    "We will first open the connection and activate a normal cursor:"
   ]
  },
  {
   "cell_type": "code",
   "execution_count": 29,
   "id": "1f2c8915-73d6-43e9-a63d-963581c0d833",
   "metadata": {},
   "outputs": [],
   "source": [
    "conn = psycopg2.connect(**params)\n",
    "cur = conn.cursor()\n"
   ]
  },
  {
   "cell_type": "markdown",
   "id": "74214097-faae-4311-8002-1751d49e3b03",
   "metadata": {},
   "source": [
    "This code will read from each element in the list `items`, prepare the insert queries for three tables in the database, execute the queries and count the number of affected rows, should be three for each profile:"
   ]
  },
  {
   "cell_type": "code",
   "execution_count": 30,
   "id": "35594044-b33a-4095-a09b-e25e194797b1",
   "metadata": {},
   "outputs": [
    {
     "name": "stdout",
     "output_type": "stream",
     "text": [
      "330\n"
     ]
    }
   ],
   "source": [
    "qrystr_traits=   \"INSERT INTO efg_ecological_traits(code,language,description,contributors,version,update) values %s ON CONFLICT ON CONSTRAINT efg_ecological_traits_pkey DO UPDATE SET description=EXCLUDED.description, contributors=EXCLUDED.contributors, update=CURRENT_TIMESTAMP(0)\"\n",
    "qrystr_drivers=   \"INSERT INTO efg_key_ecological_drivers(code,language,description,contributors,version,update) values %s ON CONFLICT ON CONSTRAINT efg_key_ecological_drivers_pkey DO UPDATE SET description=EXCLUDED.description, contributors=EXCLUDED.contributors, update=CURRENT_TIMESTAMP(0)\"\n",
    "qrystr_dist=   \"INSERT INTO efg_distribution(code,language,description,contributors,version,update) values %s ON CONFLICT ON CONSTRAINT efg_distribution_pkey DO UPDATE SET description=EXCLUDED.description, contributors=EXCLUDED.contributors, update=CURRENT_TIMESTAMP(0)\"\n",
    "\n",
    "affected_rows = 0\n",
    "for item in items:\n",
    "    desc=re.sub('([MFTS]+[0-9][ ,\\\\)])','biome \\\\1',item['Ecosystem properties'])\n",
    "\n",
    "    if 'Ecosystem properties' in item.keys():\n",
    "        values=tuple([item['Code'],'en',add_biome_kwd(item['Ecosystem properties']),item['Contributors'],'v2.1',datetime.today().date()])\n",
    "        cur.execute(qrystr_traits,(values,))\n",
    "        affected_rows=affected_rows+cur.rowcount\n",
    "    if 'Ecological drivers' in item.keys():\n",
    "        values=tuple([item['Code'],'en',add_biome_kwd(item['Ecological drivers']),item['Contributors'],'v2.1',datetime.today().date()])\n",
    "        cur.execute(qrystr_drivers,(values,))\n",
    "        affected_rows=affected_rows+cur.rowcount\n",
    "    if 'Distribution' in item.keys():\n",
    "        values=tuple([item['Code'],'en',add_biome_kwd(item['Distribution']),item['Contributors'],'v2.1',datetime.today().date()])\n",
    "        cur.execute(qrystr_dist,(values,))\n",
    "        affected_rows=affected_rows+cur.rowcount\n",
    "print(affected_rows)"
   ]
  },
  {
   "cell_type": "markdown",
   "id": "5f0778ed-5595-4b80-87da-15a52d00a093",
   "metadata": {},
   "source": [
    "This is a good time to commit the changes:"
   ]
  },
  {
   "cell_type": "code",
   "execution_count": 31,
   "id": "0a3ecc0b-a058-46fa-9609-f141ebbabb18",
   "metadata": {},
   "outputs": [],
   "source": [
    "conn.commit()"
   ]
  },
  {
   "cell_type": "markdown",
   "id": "d1c6bfe9-282a-4e90-ba06-7264fbf27300",
   "metadata": {},
   "source": [
    "Before we close the connection, we will check that all information was correctly loaded:"
   ]
  },
  {
   "cell_type": "code",
   "execution_count": 32,
   "id": "d14e483d-38fe-497f-b683-cfdc70c43267",
   "metadata": {},
   "outputs": [],
   "source": [
    "qry=\" \".join((\"select code,LENGTH(t.description), LENGTH(k.description), LENGTH(d.description)\",\n",
    "\"from efg_ecological_traits t\",\n",
    "\"full join efg_key_ecological_drivers k\",\n",
    "\"USING(code,version,language)\",\n",
    "\"full join efg_distribution d\",\n",
    "\"USING(code,version,language)\",\n",
    "\"where version='v2.1' AND language='en' order by code;\"))\n",
    "cur.execute(qry)\n",
    "updated_codes=cur.fetchall()"
   ]
  },
  {
   "cell_type": "code",
   "execution_count": 33,
   "id": "791b403c-2b93-4a48-bc3c-b283df4669c6",
   "metadata": {
    "collapsed": true,
    "jupyter": {
     "outputs_hidden": true
    },
    "tags": []
   },
   "outputs": [
    {
     "data": {
      "text/plain": [
       "[('F1.1', 1601, 863, 158),\n",
       " ('F1.2', 1597, 1148, 155),\n",
       " ('F1.3', 2014, 848, 119),\n",
       " ('F1.4', 1280, 726, 84),\n",
       " ('F1.5', 1381, 815, 85),\n",
       " ('F1.6', 1944, 1079, 100),\n",
       " ('F1.7', 1501, 967, 152),\n",
       " ('F2.1', 2223, 660, 58),\n",
       " ('F2.10', 2011, 718, 152),\n",
       " ('F2.2', 2250, 800, 79),\n",
       " ('F2.3', 2039, 1111, 135),\n",
       " ('F2.4', 1817, 1029, 129),\n",
       " ('F2.5', 1419, 955, 89),\n",
       " ('F2.6', 1395, 1265, 113),\n",
       " ('F2.7', 1962, 832, 85),\n",
       " ('F2.8', 1522, 881, 165),\n",
       " ('F2.9', 2279, 807, 179),\n",
       " ('F3.1', 1053, 1108, 245),\n",
       " ('F3.2', 1600, 1040, 121),\n",
       " ('F3.3', 1516, 788, 170),\n",
       " ('F3.4', 1538, 1032, 179),\n",
       " ('F3.5', 1143, 1080, 153),\n",
       " ('FM1.1', 2021, 1176, 85),\n",
       " ('FM1.2', 2118, 742, 65),\n",
       " ('FM1.3', 1458, 671, 324),\n",
       " ('M1.1', 1298, 754, 76),\n",
       " ('M1.10', 2378, 601, 147),\n",
       " ('M1.2', 1956, 807, 190),\n",
       " ('M1.3', 1990, 735, 108),\n",
       " ('M1.4', 1772, 942, 211),\n",
       " ('M1.5', 1779, 734, 185),\n",
       " ('M1.6', 2081, 902, 69),\n",
       " ('M1.7', 1550, 682, 58),\n",
       " ('M1.8', 1910, 904, 80),\n",
       " ('M1.9', 1020, 1119, 278),\n",
       " ('M2.1', 2324, 664, 70),\n",
       " ('M2.2', 1643, 908, 87),\n",
       " ('M2.3', 1894, 981, 98),\n",
       " ('M2.4', 1356, 641, 146),\n",
       " ('M2.5', 1596, 820, 182),\n",
       " ('M3.1', 1658, 853, 130),\n",
       " ('M3.2', 1654, 1173, 175),\n",
       " ('M3.3', 2025, 541, 160),\n",
       " ('M3.4', 1672, 1067, 187),\n",
       " ('M3.5', 1729, 783, 139),\n",
       " ('M3.6', 1561, 733, 208),\n",
       " ('M3.7', 1449, 605, 232),\n",
       " ('M4.1', 1392, 1069, 598),\n",
       " ('M4.2', 1997, 819, 160),\n",
       " ('MFT1.1', 1808, 803, 128),\n",
       " ('MFT1.2', 1651, 958, 150),\n",
       " ('MFT1.3', 2209, 969, 99),\n",
       " ('MT1.1', 1379, 1276, 230),\n",
       " ('MT1.2', 1592, 835, 169),\n",
       " ('MT1.3', 1281, 1219, 174),\n",
       " ('MT1.4', 1886, 983, 235),\n",
       " ('MT2.1', 1602, 722, 78),\n",
       " ('MT2.2', 2015, 799, 91),\n",
       " ('MT3.1', 1435, 1296, 133),\n",
       " ('S1.1', 2419, 454, 132),\n",
       " ('S1.2', 1945, 823, 143),\n",
       " ('S2.1', 1892, 635, 103),\n",
       " ('SF1.1', 1723, 748, 128),\n",
       " ('SF1.2', 2097, 722, 84),\n",
       " ('SF2.1', 1770, 952, 193),\n",
       " ('SF2.2', 1374, 1248, 52),\n",
       " ('SM1.1', 1648, 891, 123),\n",
       " ('SM1.2', 1806, 597, 296),\n",
       " ('SM1.3', 1689, 726, 74),\n",
       " ('T1.1', 2111, 837, 166),\n",
       " ('T1.2', 1546, 531, 202),\n",
       " ('T1.3', 1454, 810, 158),\n",
       " ('T1.4', 1232, 909, 201),\n",
       " ('T2.1', 2401, 675, 121),\n",
       " ('T2.2', 2335, 381, 240),\n",
       " ('T2.3', 1626, 804, 367),\n",
       " ('T2.4', 2124, 657, 97),\n",
       " ('T2.5', 2232, 568, 68),\n",
       " ('T2.6', 2058, 502, 74),\n",
       " ('T3.1', 1433, 575, 175),\n",
       " ('T3.2', 2007, 775, 214),\n",
       " ('T3.3', 1651, 625, 222),\n",
       " ('T3.4', 1759, 579, 104),\n",
       " ('T4.1', 1546, 830, 51),\n",
       " ('T4.2', 2149, 494, 83),\n",
       " ('T4.3', 1663, 643, 80),\n",
       " ('T4.4', 1914, 493, 167),\n",
       " ('T4.5', 1880, 512, 201),\n",
       " ('T5.1', 1708, 799, 138),\n",
       " ('T5.2', 1654, 612, 81),\n",
       " ('T5.3', 2060, 614, 72),\n",
       " ('T5.4', 1715, 887, 187),\n",
       " ('T5.5', 1867, 759, 88),\n",
       " ('T6.1', 1629, 1060, 134),\n",
       " ('T6.2', 1116, 640, 162),\n",
       " ('T6.3', 1715, 500, 140),\n",
       " ('T6.4', 1669, 605, 134),\n",
       " ('T6.5', 1623, 1052, 109),\n",
       " ('T7.1', 2254, 659, 177),\n",
       " ('T7.2', 2177, 600, 247),\n",
       " ('T7.3', 2156, 478, 190),\n",
       " ('T7.4', 1949, 886, 303),\n",
       " ('T7.5', 1914, 667, 94),\n",
       " ('TF1.1', 1710, 1023, 133),\n",
       " ('TF1.2', 2009, 919, 82),\n",
       " ('TF1.3', 1780, 828, 66),\n",
       " ('TF1.4', 1781, 1068, 76),\n",
       " ('TF1.5', 1477, 925, 78),\n",
       " ('TF1.6', 2083, 759, 204),\n",
       " ('TF1.7', 1921, 933, 221)]"
      ]
     },
     "execution_count": 33,
     "metadata": {},
     "output_type": "execute_result"
    }
   ],
   "source": [
    "updated_codes\n"
   ]
  },
  {
   "cell_type": "markdown",
   "id": "8ebffa76-341d-42b6-9ba0-5c96c03bd24a",
   "metadata": {},
   "source": [
    "We can now close the database connection:"
   ]
  },
  {
   "cell_type": "code",
   "execution_count": 34,
   "id": "80937f44-bbdc-42a2-b5a3-bc46518eaa24",
   "metadata": {},
   "outputs": [
    {
     "name": "stdout",
     "output_type": "stream",
     "text": [
      "Database connection closed.\n"
     ]
    }
   ],
   "source": [
    "\n",
    "cur.close()\n",
    "        \n",
    "if conn is not None:\n",
    "    conn.close()\n",
    "    print('Database connection closed.')"
   ]
  },
  {
   "cell_type": "markdown",
   "id": "8e17f5e5-4bae-4578-ab18-70382bd4a3ff",
   "metadata": {},
   "source": [
    "# That's it!"
   ]
  }
 ],
 "metadata": {
  "kernelspec": {
   "display_name": "Python 3 (ipykernel)",
   "language": "python",
   "name": "python3"
  },
  "language_info": {
   "codemirror_mode": {
    "name": "ipython",
    "version": 3
   },
   "file_extension": ".py",
   "mimetype": "text/x-python",
   "name": "python",
   "nbconvert_exporter": "python",
   "pygments_lexer": "ipython3",
   "version": "3.10.2"
  }
 },
 "nbformat": 4,
 "nbformat_minor": 5
}

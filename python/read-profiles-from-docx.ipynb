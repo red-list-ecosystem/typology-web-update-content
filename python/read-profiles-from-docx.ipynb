{
 "cells": [
  {
   "cell_type": "code",
   "execution_count": 25,
   "id": "f36cd05c-698d-4bdd-a471-36e5eed0f512",
   "metadata": {},
   "outputs": [],
   "source": [
    "from docx import Document\n",
    "import pandas as pd\n",
    "import os\n",
    "from pathlib import Path\n",
    "import re"
   ]
  },
  {
   "cell_type": "code",
   "execution_count": 350,
   "id": "43e7f4c2-925c-445f-aab1-9ace0df82604",
   "metadata": {},
   "outputs": [],
   "source": [
    "from datetime import datetime\n",
    "from configparser import ConfigParser\n",
    "import psycopg2\n",
    "\n",
    "filename = Path(os.path.expanduser('~')) / \".database.ini\"\n",
    "section = 'psqlaws'\n",
    "\n",
    "# create a parser\n",
    "parser = ConfigParser()\n",
    "# read config file\n",
    "parser.read(filename)\n",
    "\n",
    "# get section, default to postgresql\n",
    "db = {}\n",
    "if parser.has_section(section):\n",
    "    params = parser.items(section)\n",
    "    for param in params:\n",
    "        db[param[0]] = param[1]\n",
    "else:\n",
    "    raise Exception('Section {0} not found in the {1} file'.format(section, filename))\n",
    "\n",
    "params = db"
   ]
  },
  {
   "cell_type": "code",
   "execution_count": 9,
   "id": "8402c22c-c94e-4fcc-a538-c0a51c425491",
   "metadata": {},
   "outputs": [],
   "source": [
    "inputdir = Path(os.path.expanduser('~')) / \"sandbox\"\n",
    "#os.listdir(inputdir)\n",
    "filename='IUCNGlobalEcosystemTypology_v2-0_prepublication.docx'"
   ]
  },
  {
   "cell_type": "code",
   "execution_count": 328,
   "id": "10860adc-8fcc-419c-8a5e-f05737aef3a3",
   "metadata": {},
   "outputs": [],
   "source": [
    "#profiles=Document(inputdir / filename)\n"
   ]
  },
  {
   "cell_type": "code",
   "execution_count": 329,
   "id": "f83e446f-594f-4831-92db-3e4f52fb65ff",
   "metadata": {},
   "outputs": [
    {
     "data": {
      "text/plain": [
       "<docx.document.Document at 0x11ca9bdc0>"
      ]
     },
     "execution_count": 329,
     "metadata": {},
     "output_type": "execute_result"
    }
   ],
   "source": [
    "profiles"
   ]
  },
  {
   "cell_type": "code",
   "execution_count": 330,
   "id": "8cb1097f-ce70-4887-a03e-e763a4c63b57",
   "metadata": {},
   "outputs": [],
   "source": [
    "map_msg = 'Thumbnail map for illustrative purposes only. Users should consult sources and Table S4.1 to ensure data quality meets needs of their application.'"
   ]
  },
  {
   "cell_type": "code",
   "execution_count": 334,
   "id": "811e1062-8951-4d85-a651-622b14259bd4",
   "metadata": {},
   "outputs": [],
   "source": [
    "profiles = Document('Keith_etal_EarthsEcosystems_Appendix S4_3rdrevisions_subm+DK.docx')\n",
    "from docx.shared import Pt\n",
    "for section in profiles.sections:\n",
    "    h = section.header\n",
    "    f = section.footer\n",
    "    #print(section)\n",
    "    f.is_linked_to_previous = False\n",
    "            \n",
    "    for p in h.paragraphs:\n",
    "        if re.search(\"^Contributors\",p.text):\n",
    "            #print(p.text)\n",
    "            run = f.add_paragraph().add_run()\n",
    "            font = run.font\n",
    "            font.size = Pt(8)\n",
    "            run.text = map_msg\n",
    "        #else:\n",
    "         #   emptyp = f.paragraphs[0]\n",
    "          #  emptyp.text = ''\n",
    "profiles.save('demo-footnote-no-pages.docx')"
   ]
  },
  {
   "cell_type": "code",
   "execution_count": 336,
   "id": "8b383689-88ef-4330-b4b6-b8c8c6c497da",
   "metadata": {},
   "outputs": [],
   "source": [
    "profiles = Document('Keith_etal_EarthsEcosystems_Appendix S4_3rdrevisions_subm+DK.docx')\n",
    "for k in range(19,len(profiles.paragraphs)):\n",
    "    p=profiles.paragraphs[k]\n",
    "    if re.search(\"^Distribution:\",p.text):\n",
    "        run = p.add_run()\n",
    "        font = run.font\n",
    "        font.size = Pt(8)\n",
    "        run.text = map_msg\n",
    "profiles.save('demo-append-distribution-section.docx')"
   ]
  },
  {
   "cell_type": "markdown",
   "id": "9324736b-2199-4f2f-9b44-8eb935ac6ba2",
   "metadata": {},
   "source": [
    "Solution from https://stackoverflow.com/questions/56658872/add-page-number-using-python-docx"
   ]
  },
  {
   "cell_type": "code",
   "execution_count": 341,
   "id": "686e2dc9-fea8-4bb6-830e-e9421aa3b704",
   "metadata": {},
   "outputs": [],
   "source": [
    "from docx.oxml import OxmlElement, ns\n",
    "from docx.enum.text import WD_ALIGN_PARAGRAPH\n",
    "def create_element(name):\n",
    "    return OxmlElement(name)\n",
    "\n",
    "def create_attribute(element, name, value):\n",
    "    element.set(ns.qn(name), value)\n",
    "\n",
    "\n",
    "def add_page_number(run):\n",
    "    fldChar1 = create_element('w:fldChar')\n",
    "    create_attribute(fldChar1, 'w:fldCharType', 'begin')\n",
    "\n",
    "    instrText = create_element('w:instrText')\n",
    "    create_attribute(instrText, 'xml:space', 'preserve')\n",
    "    instrText.text = \"PAGE\"\n",
    "\n",
    "    fldChar2 = create_element('w:fldChar')\n",
    "    create_attribute(fldChar2, 'w:fldCharType', 'end')\n",
    "\n",
    "    run._r.append(fldChar1)\n",
    "    run._r.append(instrText)\n",
    "    run._r.append(fldChar2)\n",
    "\n",
    "profiles = Document('Keith_etal_EarthsEcosystems_Appendix S4_3rdrevisions_subm+DK.docx')\n",
    "for section in profiles.sections:\n",
    "    h = section.header\n",
    "    f = section.footer   \n",
    "    #print(section)\n",
    "    f.is_linked_to_previous = False\n",
    "            \n",
    "    for p in h.paragraphs:\n",
    "        if re.search(\"^Contributors\",p.text):\n",
    "            #print(p.text)\n",
    "            f.paragraphs[0].alignment = WD_ALIGN_PARAGRAPH.CENTER\n",
    "            pagerun=f.paragraphs[0].add_run()\n",
    "            add_page_number(pagerun)\n",
    "            run = f.add_paragraph().add_run()\n",
    "            font = run.font\n",
    "            font.size = Pt(8)\n",
    "            run.text = map_msg\n",
    "            \n",
    "\n",
    "        #else:\n",
    "         #   emptyp = f.paragraphs[0]\n",
    "          #  emptyp.text = ''\n",
    "profiles.save('demo-footnote-with-page-numbers.docx')\n"
   ]
  },
  {
   "cell_type": "code",
   "execution_count": 321,
   "id": "a6c0ade1-21d8-4d41-9bc0-078ebbff6801",
   "metadata": {},
   "outputs": [
    {
     "data": {
      "text/plain": [
       "2"
      ]
     },
     "execution_count": 321,
     "metadata": {},
     "output_type": "execute_result"
    }
   ],
   "source": [
    "len(f.paragraphs)"
   ]
  },
  {
   "cell_type": "code",
   "execution_count": 477,
   "id": "d1282b72-4bef-43ba-b399-ccec3271c014",
   "metadata": {},
   "outputs": [
    {
     "data": {
      "text/plain": [
       "1430"
      ]
     },
     "execution_count": 477,
     "metadata": {},
     "output_type": "execute_result"
    }
   ],
   "source": [
    "profiles = Document('Keith_etal_EarthsEcosystems_Appendix S4_3rdrevisions_subm+DK.docx')\n",
    "len(profiles.paragraphs)"
   ]
  },
  {
   "cell_type": "code",
   "execution_count": 482,
   "id": "287cb5a2-c280-4bdd-9cf8-88e739f3c655",
   "metadata": {},
   "outputs": [],
   "source": [
    "contribs=list()\n",
    "for section in profiles.sections:\n",
    "    h = section.header\n",
    "    for p in h.paragraphs:\n",
    "        if re.search(\"^Contributors\",p.text):\n",
    "            m=p.text.split(':')\n",
    "            contribs.append(m[1])\n",
    "\n",
    "item=None\n",
    "items=list()\n",
    "nr=0\n",
    "for k in range(19,len(profiles.paragraphs)):\n",
    "    p=profiles.paragraphs[k].text\n",
    "    if re.search(\"^[TMFS]+[0-9].[0-9]\",p):\n",
    "        if item is not None:\n",
    "            items.append(item)\n",
    "        m = p.split(\" \")\n",
    "        item={'Code':m[0],'Name':p,'References':list(),'Extra':list(),'Contributors':list()}\n",
    "        addref=False\n",
    "        authors=contribs[nr].split(',')\n",
    "        for aut in authors:\n",
    "            item['Contributors'].append(aut.strip(' '))\n",
    "        nr=nr+1\n",
    "    else:\n",
    "        if item is not None:\n",
    "            m=p.split(':')\n",
    "            if m[0] in ('Ecosystem properties','Distribution','Biome','Ecological drivers'):\n",
    "                #print(m[0])\n",
    "                item[m[0]]=m[1].strip(\" \")\n",
    "            elif m[0] in ('References'):\n",
    "                addref=True\n",
    "            else:\n",
    "                if addref:\n",
    "                    item['References'].append(p)\n",
    "                else:\n",
    "                    item['Extra'].append(p)\n",
    "items.append(item)\n",
    "#items[1]"
   ]
  },
  {
   "cell_type": "code",
   "execution_count": 485,
   "id": "993fc381-5e41-4d1d-9fd2-446be65d1d52",
   "metadata": {
    "collapsed": true,
    "jupyter": {
     "outputs_hidden": true
    },
    "tags": []
   },
   "outputs": [
    {
     "data": {
      "text/plain": [
       "{'Code': 'MT2.2',\n",
       " 'Name': 'MT2.2 Large seabird and pinniped colonies',\n",
       " 'References': ['Ellis JC (2005) Marine Birds on land: A review of plant biomass, species richness, and community composition in seabird colonies. Plant Ecology 181, 227–241. ',\n",
       "  'Otero XL, De La Peña-Lastra S,  Pérez-Alberti A, Ferreira TO, Huerta-Diaz MA (2018) Seabird colonies as important global drivers in the nitrogen and phosphorus cycles. Nature Communications 9, 246.',\n",
       "  'Riddick SN, Dragosits U, Blackall TD, Daunt F, Wanless S, Sutton MA (2012) The global distribution of ammonia emissions from seabird colonies. Atmospheric Environment 55, 319e327',\n",
       "  'MT3. Anthropogenic shorelines biome',\n",
       "  'Exmouth Marina, Devon, UK.',\n",
       "  'Credit: Red Zeppelin on Unsplash',\n",
       "  'The Anthropogenic shorelines biome is distributed globally where urbanised and industrial areas adjoin the coast, and includes some more remote structures such as artificial islands. It includes marine interfaces constructed from hard, smooth surfaces, including concrete, timber, lithic blocks, and earthen fill, adjoining, extending or replacing natural shores, or floating in proximity to them.',\n",
       "  'These relatively homogeneous substrates support an opportunistic, cosmopolitan biota with limited diversity and simplified trophic structure compared to other shoreline systems. Vertical surfaces are inhabited by algae and biofouling species but are exposed to strong tidal desiccation regimes that strongly filter potential colonists. Floating structures have downward-facing, usually smooth, surfaces, unlike almost anything in nature, which may be colonised by opportunists.',\n",
       "  'Influx of storm water and effluent enhances nutrient levels and eutrophic algae, which contribute autochthonous energy. Outflows from developed areas are also a major sources of allochthonous energy. Strong bottom-up regulation stems from these resource inputs and from low populations of predators, which are depleted or deterred by human activity.'],\n",
       " 'Extra': ['Chinstrap penguin colony with Skua, South Shetland Islands, Antarctica. Inset: Royal penguin colony with Southern elephant seal, Macquarie Island',\n",
       "  'Credit: David Keith, inset Max Breckenridge'],\n",
       " 'Contributors': ['S Gorta', 'SF Bokhorst', 'JC. Ellis', 'DA Keith'],\n",
       " 'Ecosystem properties': 'Large seabird and pinniped colonies are localised eutrophic terrestrial ecosystems near the ocean interface that receive massive nutrient subsidies from large concentrations of roosting or nesting seabirds and pinnipeds that function as mobile links between land and sea. The marine-derived subsidies and potentially massive physical disturbance to vegetation and soils distinguish these colonies from otherwise similar ecosystems in MT2.1. Subsidies are greatest where seabird body size is typically larger (e.g. penguins) and breeding seasons are longer, particularly the sub-Antarctic and Antarctic. The waters around these ecosystems may be locally depleted in seabird prey due to prolonged predation.  Colonies occupy diverse habitats, from sandy shores to rocky islands and montane forests, with vegetation composition and structure limited by physical disturbance, nutrient input, salt influx and gradient (e.g., sea spray), water deficit, surface and subsurface bioturbation-driven changes in soil condition and pH, avian seed dispersal, unstable substrates, and high exposure, often exhibiting salt tolerance and clonal reproduction. Plant assemblages exist across a gradient, influenced by seabird/pinniped disturbance, nutrient input and climate, whereby high-density colonies can completely suppress plant growth, but where disturbance and nutrient load is lower, vegetation can establish, typically in low richness but high abundance. Trophic networks are characterized high microbial activity and abundant invertebrates in soils which can lead to localised biodiversity hotspots, in contrast to the low richness of plant communities under high nutrient loading. There are typically low densities or a total absence of terrestrial mammalian predators and grazers (limited by dispersal barriers). Vibrant and specialised lichens can be abundant. Plant dispersal linked to bird migration, and nutrient transport between marine foraging areas and terrestrial breeding areas, may occur over long distances.',\n",
       " 'Ecological drivers': 'Marine subsidies of nutrients, excreted by marine-foraging seabirds and pinnipeds, drives eutrophication, resulting in the highest terrestrial concentrations of nitrogen, phosphorus, and other nutrients on Earth’s surface. Nutrients may be derived from sources proximal to, or remote from the colony, and may be continual or pulsed, depending on the colony location, size, constituent species, and seasonal variation in attendance. Substrates vary from sand to soil to rock to ice, and desiccating winds add aerosol salts and limit water availability in coastal colonies. Temperatures vary from warm to mild in tropical/temperate/boreal latitudes to freezing in polar regions. Bioturbation, coastal storms, and unstable substrates influence biotic interactions and colony abundance and distribution.',\n",
       " 'Distribution': 'Scattered globally on islands and coastlines, but most common in polar and subpolar regions'}"
      ]
     },
     "execution_count": 485,
     "metadata": {},
     "output_type": "execute_result"
    }
   ],
   "source": [
    "items[105]"
   ]
  },
  {
   "cell_type": "code",
   "execution_count": 486,
   "id": "1f2c8915-73d6-43e9-a63d-963581c0d833",
   "metadata": {},
   "outputs": [],
   "source": [
    "conn = psycopg2.connect(**params)\n",
    "cur = conn.cursor()\n"
   ]
  },
  {
   "cell_type": "code",
   "execution_count": 488,
   "id": "35594044-b33a-4095-a09b-e25e194797b1",
   "metadata": {},
   "outputs": [
    {
     "name": "stdout",
     "output_type": "stream",
     "text": [
      "330\n"
     ]
    }
   ],
   "source": [
    "qrystr_traits=   \"INSERT INTO efg_ecological_traits(code,language,description,contributors,version,update) values %s ON CONFLICT ON CONSTRAINT efg_ecological_traits_pkey DO UPDATE SET description=EXCLUDED.description, contributors=EXCLUDED.contributors, update=CURRENT_TIMESTAMP(0)\"\n",
    "qrystr_drivers=   \"INSERT INTO efg_key_ecological_drivers(code,language,description,contributors,version,update) values %s ON CONFLICT ON CONSTRAINT efg_key_ecological_drivers_pkey DO UPDATE SET description=EXCLUDED.description, contributors=EXCLUDED.contributors, update=CURRENT_TIMESTAMP(0)\"\n",
    "qrystr_dist=   \"INSERT INTO efg_distribution(code,language,description,contributors,version,update) values %s ON CONFLICT ON CONSTRAINT efg_distribution_pkey DO UPDATE SET description=EXCLUDED.description, contributors=EXCLUDED.contributors, update=CURRENT_TIMESTAMP(0)\"\n",
    "\n",
    "affected_rows = 0\n",
    "for item in items:\n",
    "    if 'Ecosystem properties' in item.keys():\n",
    "        values=tuple([item['Code'],'en',item['Ecosystem properties'],item['Contributors'],'v2.1',datetime.today().date()])\n",
    "        cur.execute(qrystr_traits,(values,))\n",
    "        affected_rows=affected_rows+cur.rowcount\n",
    "    if 'Ecological drivers' in item.keys():\n",
    "        values=tuple([item['Code'],'en',item['Ecological drivers'],item['Contributors'],'v2.1',datetime.today().date()])\n",
    "        cur.execute(qrystr_drivers,(values,))\n",
    "        affected_rows=affected_rows+cur.rowcount\n",
    "    if 'Distribution' in item.keys():\n",
    "        values=tuple([item['Code'],'en',item['Distribution'],item['Contributors'],'v2.1',datetime.today().date()])\n",
    "        cur.execute(qrystr_dist,(values,))\n",
    "        affected_rows=affected_rows+cur.rowcount\n",
    "print(affected_rows)"
   ]
  },
  {
   "cell_type": "code",
   "execution_count": 489,
   "id": "d14e483d-38fe-497f-b683-cfdc70c43267",
   "metadata": {},
   "outputs": [],
   "source": [
    "qry=\" \".join((\"select code,LENGTH(t.description), LENGTH(k.description), LENGTH(d.description)\",\n",
    "\"from efg_ecological_traits t\",\n",
    "\"full join efg_key_ecological_drivers k\",\n",
    "\"USING(code,version,language)\",\n",
    "\"full join efg_distribution d\",\n",
    "\"USING(code,version,language)\",\n",
    "\"where version='v2.1' AND language='en' order by code;\"))\n",
    "cur.execute(qry)\n",
    "updated_codes=cur.fetchall()"
   ]
  },
  {
   "cell_type": "code",
   "execution_count": 490,
   "id": "0a3ecc0b-a058-46fa-9609-f141ebbabb18",
   "metadata": {},
   "outputs": [],
   "source": [
    "conn.commit()"
   ]
  },
  {
   "cell_type": "code",
   "execution_count": 491,
   "id": "80937f44-bbdc-42a2-b5a3-bc46518eaa24",
   "metadata": {},
   "outputs": [
    {
     "name": "stdout",
     "output_type": "stream",
     "text": [
      "Database connection closed.\n"
     ]
    }
   ],
   "source": [
    "\n",
    "cur.close()\n",
    "        \n",
    "if conn is not None:\n",
    "    conn.close()\n",
    "    print('Database connection closed.')"
   ]
  },
  {
   "cell_type": "code",
   "execution_count": 492,
   "id": "791b403c-2b93-4a48-bc3c-b283df4669c6",
   "metadata": {},
   "outputs": [
    {
     "data": {
      "text/plain": [
       "[('F1.1', 1601, 863, 158),\n",
       " ('F1.2', 1593, 1148, 151),\n",
       " ('F1.3', 2014, 848, 119),\n",
       " ('F1.4', 1280, 726, 84),\n",
       " ('F1.5', 1381, 815, 85),\n",
       " ('F1.6', 1944, 1079, 100),\n",
       " ('F1.7', 1501, 967, 148),\n",
       " ('F2.1', 2223, 660, 58),\n",
       " ('F2.10', 1959, 718, 152),\n",
       " ('F2.2', 2246, 800, 79),\n",
       " ('F2.3', 2031, 1111, 135),\n",
       " ('F2.4', 1817, 1029, 129),\n",
       " ('F2.5', 1419, 955, 89),\n",
       " ('F2.6', 1395, 1265, 113),\n",
       " ('F2.7', 1962, 832, 85),\n",
       " ('F2.8', 1522, 881, 165),\n",
       " ('F2.9', 1848, 807, 179),\n",
       " ('F3.1', 1053, 1108, 245),\n",
       " ('F3.2', 1600, 1040, 121),\n",
       " ('F3.3', 1516, 788, 170),\n",
       " ('F3.4', 1514, 1032, 179),\n",
       " ('F3.5', 1143, 1080, 153),\n",
       " ('FM1.1', 2011, 1176, 85),\n",
       " ('FM1.2', 2079, 742, 65),\n",
       " ('FM1.3', 1437, 671, 324),\n",
       " ('M1.1', 1298, 754, 76),\n",
       " ('M1.10', 2378, 601, 147),\n",
       " ('M1.2', 1948, 807, 190),\n",
       " ('M1.3', 1990, 735, 108),\n",
       " ('M1.4', 1772, 942, 211),\n",
       " ('M1.5', 1771, 734, 185),\n",
       " ('M1.6', 2069, 902, 69),\n",
       " ('M1.7', 1542, 682, 58),\n",
       " ('M1.8', 1898, 904, 80),\n",
       " ('M1.9', 1016, 1119, 274),\n",
       " ('M2.1', 2320, 664, 70),\n",
       " ('M2.2', 1639, 908, 87),\n",
       " ('M2.3', 1886, 981, 98),\n",
       " ('M2.4', 1344, 641, 146),\n",
       " ('M2.5', 1596, 820, 182),\n",
       " ('M3.1', 1646, 853, 130),\n",
       " ('M3.2', 1650, 65, 175),\n",
       " ('M3.3', 2021, 541, 160),\n",
       " ('M3.4', 1668, 1067, 187),\n",
       " ('M3.5', 1725, 783, 139),\n",
       " ('M3.6', 1561, 733, 208),\n",
       " ('M3.7', 111, 605, 232),\n",
       " ('M4.1', 1392, 1069, 598),\n",
       " ('M4.2', 1997, 819, 160),\n",
       " ('MFT1.1', 1788, 803, 128),\n",
       " ('MFT1.2', 1651, 958, 150),\n",
       " ('MFT1.3', 2204, 963, 99),\n",
       " ('MT1.1', 1379, 1276, 230),\n",
       " ('MT1.2', 1568, 835, 169),\n",
       " ('MT1.3', 1276, 1219, 174),\n",
       " ('MT1.4', 1876, 983, 235),\n",
       " ('MT2.1', 1602, 722, 78),\n",
       " ('MT2.2', 2015, 799, 91),\n",
       " ('MT3.1', 1430, 1296, 133),\n",
       " ('S1.1', 2419, 454, 132),\n",
       " ('S1.2', 1945, 823, 143),\n",
       " ('S2.1', 1888, 635, 103),\n",
       " ('SF1.1', 1723, 748, 128),\n",
       " ('SF1.2', 2097, 722, 84),\n",
       " ('SF2.1', 1766, 948, 193),\n",
       " ('SF2.2', 1374, 1243, 52),\n",
       " ('SM1.1', 1638, 891, 123),\n",
       " ('SM1.2', 1801, 592, 296),\n",
       " ('SM1.3', 1675, 721, 74),\n",
       " ('T1.1', 2107, 832, 166),\n",
       " ('T1.2', 1538, 531, 202),\n",
       " ('T1.3', 1446, 810, 158),\n",
       " ('T1.4', 1232, 899, 201),\n",
       " ('T2.1', 2396, 675, 121),\n",
       " ('T2.2', 2335, 381, 240),\n",
       " ('T2.3', 1610, 804, 367),\n",
       " ('T2.4', 2096, 657, 97),\n",
       " ('T2.5', 2232, 568, 68),\n",
       " ('T2.6', 400, 502, 74),\n",
       " ('T3.1', 1415, 575, 175),\n",
       " ('T3.2', 316, 775, 214),\n",
       " ('T3.3', 1645, 625, 222),\n",
       " ('T3.4', 1759, 575, 104),\n",
       " ('T4.1', 1163, 830, 51),\n",
       " ('T4.2', 993, 494, 83),\n",
       " ('T4.3', 1165, 643, 80),\n",
       " ('T4.4', 1902, 493, 167),\n",
       " ('T4.5', 1872, 512, 201),\n",
       " ('T5.1', 1708, 799, 138),\n",
       " ('T5.2', 1654, 612, 81),\n",
       " ('T5.3', 1002, 614, 72),\n",
       " ('T5.4', 1715, 887, 187),\n",
       " ('T5.5', 1867, 759, 88),\n",
       " ('T6.1', 1629, 1060, 134),\n",
       " ('T6.2', 1116, 640, 162),\n",
       " ('T6.3', 1715, 500, 140),\n",
       " ('T6.4', 1669, 605, 134),\n",
       " ('T6.5', 1615, 1052, 109),\n",
       " ('T7.1', 2250, 659, 177),\n",
       " ('T7.2', 2161, 600, 247),\n",
       " ('T7.3', 1693, 478, 190),\n",
       " ('T7.4', 190, 886, 303),\n",
       " ('T7.5', 1862, 667, 94),\n",
       " ('TF1.1', 1702, 1023, 133),\n",
       " ('TF1.2', 2004, 919, 82),\n",
       " ('TF1.3', 1780, 813, 66),\n",
       " ('TF1.4', 1781, 1052, 76),\n",
       " ('TF1.5', 1477, 925, 78),\n",
       " ('TF1.6', 2078, 754, 204),\n",
       " ('TF1.7', 1912, 933, 221)]"
      ]
     },
     "execution_count": 492,
     "metadata": {},
     "output_type": "execute_result"
    }
   ],
   "source": [
    "updated_codes\n"
   ]
  },
  {
   "cell_type": "code",
   "execution_count": 206,
   "id": "a9d8264b-841f-4a64-90fd-45894f17a04c",
   "metadata": {},
   "outputs": [
    {
     "data": {
      "text/plain": [
       "<bound method DocumentPart.header_part of <docx.parts.document.DocumentPart object at 0x11bc300d0>>"
      ]
     },
     "execution_count": 206,
     "metadata": {},
     "output_type": "execute_result"
    }
   ],
   "source": [
    "p=profiles.paragraphs[1000]\n",
    "pp=p._parent\n",
    "pp.part.header_part"
   ]
  },
  {
   "cell_type": "code",
   "execution_count": 216,
   "id": "21045bff-b776-4d71-b9aa-7e5b42ecc733",
   "metadata": {},
   "outputs": [
    {
     "data": {
      "text/plain": [
       "1430"
      ]
     },
     "execution_count": 216,
     "metadata": {},
     "output_type": "execute_result"
    }
   ],
   "source": [
    "dir(p.part.document)\n",
    "len( p.part.document.paragraphs)\n",
    "#p.part.text"
   ]
  },
  {
   "cell_type": "code",
   "execution_count": 273,
   "id": "85cafc56-fb8c-4a62-a2ec-5aa46eee2850",
   "metadata": {},
   "outputs": [
    {
     "name": "stdout",
     "output_type": "stream",
     "text": [
      "\n",
      "\n"
     ]
    }
   ],
   "source": [
    "section = profiles.sections[2]\n",
    "for p in section.header.paragraphs:\n",
    "    print(p.text)\n",
    "for p in section.footer.paragraphs:\n",
    "    print(p.text)\n",
    "    "
   ]
  },
  {
   "cell_type": "code",
   "execution_count": 288,
   "id": "4e50d184-f8d8-4c08-84fa-471131728167",
   "metadata": {},
   "outputs": [
    {
     "data": {
      "text/plain": [
       "['__class__',\n",
       " '__delattr__',\n",
       " '__dict__',\n",
       " '__dir__',\n",
       " '__doc__',\n",
       " '__eq__',\n",
       " '__format__',\n",
       " '__ge__',\n",
       " '__getattribute__',\n",
       " '__gt__',\n",
       " '__hash__',\n",
       " '__init__',\n",
       " '__init_subclass__',\n",
       " '__le__',\n",
       " '__lt__',\n",
       " '__module__',\n",
       " '__ne__',\n",
       " '__new__',\n",
       " '__reduce__',\n",
       " '__reduce_ex__',\n",
       " '__repr__',\n",
       " '__setattr__',\n",
       " '__sizeof__',\n",
       " '__str__',\n",
       " '__subclasshook__',\n",
       " '__weakref__',\n",
       " '_blob',\n",
       " '_content_type',\n",
       " '_default_footer_xml',\n",
       " '_document_part',\n",
       " '_element',\n",
       " '_package',\n",
       " '_partname',\n",
       " '_rel_ref_count',\n",
       " '_rels',\n",
       " 'after_unmarshal',\n",
       " 'before_marshal',\n",
       " 'blob',\n",
       " 'content_type',\n",
       " 'drop_rel',\n",
       " 'element',\n",
       " 'get_or_add_image',\n",
       " 'get_style',\n",
       " 'get_style_id',\n",
       " 'load',\n",
       " 'load_rel',\n",
       " 'new',\n",
       " 'new_pic_inline',\n",
       " 'next_id',\n",
       " 'package',\n",
       " 'part',\n",
       " 'part_related_by',\n",
       " 'partname',\n",
       " 'relate_to',\n",
       " 'related_parts',\n",
       " 'rels',\n",
       " 'target_ref']"
      ]
     },
     "execution_count": 288,
     "metadata": {},
     "output_type": "execute_result"
    }
   ],
   "source": [
    "dir(section.footer.part)\n",
    "#section.footer.part"
   ]
  },
  {
   "cell_type": "code",
   "execution_count": 300,
   "id": "bfac5ed3-e7d0-4e33-84cd-defb5ee1bded",
   "metadata": {},
   "outputs": [
    {
     "name": "stdout",
     "output_type": "stream",
     "text": [
      "\n"
     ]
    }
   ],
   "source": [
    "for p in section.first_page_footer.paragraphs:\n",
    "        print(p.text)"
   ]
  },
  {
   "cell_type": "code",
   "execution_count": 305,
   "id": "771b2fdb-d5fb-4fac-abcd-5e25966d74b6",
   "metadata": {},
   "outputs": [
    {
     "data": {
      "text/plain": [
       "'application/vnd.openxmlformats-officedocument.wordprocessingml.footer+xml'"
      ]
     },
     "execution_count": 305,
     "metadata": {},
     "output_type": "execute_result"
    }
   ],
   "source": [
    "p.part.content_type"
   ]
  },
  {
   "cell_type": "code",
   "execution_count": null,
   "id": "eec59b1f-f1ad-4565-9ce6-c5e3f599540a",
   "metadata": {},
   "outputs": [],
   "source": []
  }
 ],
 "metadata": {
  "kernelspec": {
   "display_name": "Python 3 (ipykernel)",
   "language": "python",
   "name": "python3"
  },
  "language_info": {
   "codemirror_mode": {
    "name": "ipython",
    "version": 3
   },
   "file_extension": ".py",
   "mimetype": "text/x-python",
   "name": "python",
   "nbconvert_exporter": "python",
   "pygments_lexer": "ipython3",
   "version": "3.10.2"
  }
 },
 "nbformat": 4,
 "nbformat_minor": 5
}

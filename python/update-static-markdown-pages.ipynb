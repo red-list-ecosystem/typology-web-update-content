{
 "cells": [
  {
   "cell_type": "markdown",
   "id": "fc115578-24c4-4854-977d-0ae2c4e5bd38",
   "metadata": {},
   "source": [
    "# Update profiles for functional groups of the IUCN Global Ecosystem typology\n",
    "\n",
    "Scripts by José R. Ferrer-Paris\n",
    "\n",
    "The scripts described in this document are used to:\n",
    "\n",
    "- Read data from database\n",
    "- Write static markdown pages for a Jekyll site"
   ]
  },
  {
   "cell_type": "markdown",
   "id": "a8ae3f19-b511-4810-a93f-bf265793aa7e",
   "metadata": {
    "tags": []
   },
   "source": [
    "## Set-up\n",
    "Load all the libraries we will need in this script:"
   ]
  },
  {
   "cell_type": "code",
   "execution_count": 60,
   "id": "676c26a2-2cfa-4e2a-8863-146066eefff1",
   "metadata": {},
   "outputs": [],
   "source": [
    "import os\n",
    "from pathlib import Path\n",
    "import re\n",
    "from datetime import datetime\n",
    "from configparser import ConfigParser\n",
    "import psycopg2\n",
    "from psycopg2.extras import DictCursor\n",
    "from psycopg2.extensions import AsIs\n",
    "import shutil"
   ]
  },
  {
   "cell_type": "markdown",
   "id": "eb1ff7c2-db3e-429f-9b50-e13f3adc9f0b",
   "metadata": {},
   "source": [
    "Read configuration parameters for the connection to the current version of the database:"
   ]
  },
  {
   "cell_type": "code",
   "execution_count": 2,
   "id": "f629dec7-dad3-4c9d-960d-2df178647806",
   "metadata": {},
   "outputs": [],
   "source": [
    "filename = Path(os.path.expanduser('~')) / \".database.ini\"\n",
    "section = 'psqlaws'\n",
    "\n",
    "parser = ConfigParser()\n",
    "parser.read(filename)\n",
    "db = {}\n",
    "if parser.has_section(section):\n",
    "    params = parser.items(section)\n",
    "    for param in params:\n",
    "        db[param[0]] = param[1]\n",
    "else:\n",
    "    raise Exception('Section {0} not found in the {1} file'.format(section, filename))\n",
    "\n",
    "params = db"
   ]
  },
  {
   "cell_type": "markdown",
   "id": "bac6768a-8937-4356-8d92-a3ed9efc0ddf",
   "metadata": {
    "tags": []
   },
   "source": [
    "## Copy DAM between repos\n",
    "Assumming  `repo one` has been updated recently, copy files to `repo two`:"
   ]
  },
  {
   "cell_type": "code",
   "execution_count": 27,
   "id": "f1b791f8-58a8-449a-9b25-59b6860717d2",
   "metadata": {},
   "outputs": [],
   "source": [
    "repodir = Path(os.path.expanduser('~')) / 'proyectos' / 'typology-website'\n",
    "repo_one = repodir  / 'typology-map-content' / 'assets' / 'uploads'\n",
    "repo_two =  repodir / 'Ecosystem-profiles-comments' / 'assets' / 'diagrams'\n",
    "\n",
    "DAMfiles=list()\n",
    "for fn in os.listdir(repo_one):\n",
    "    if fn.find('diagram')>0:\n",
    "        DAMfiles.append(fn)"
   ]
  },
  {
   "cell_type": "code",
   "execution_count": 43,
   "id": "5aa6c20b-a9da-4d31-8d0f-78a2809e18a2",
   "metadata": {},
   "outputs": [],
   "source": [
    "for infile in DAMfiles:\n",
    "    nfn = infile.replace('-diagram.png','')\n",
    "    outfile = re.sub(r'([mfts]+)_([0-9])_([0-9])',r'\\1\\2.\\3',nfn).upper() +'.png'\n",
    "    source =  repo_one / infile\n",
    "    destination =  repo_two / outfile\n",
    "    # copy only files\n",
    "    if os.path.isfile(source):\n",
    "        shutil.copy(source, destination)\n",
    "    "
   ]
  },
  {
   "cell_type": "markdown",
   "id": "ee029fea-a01f-4085-aded-9b37746cb2fe",
   "metadata": {},
   "source": [
    "## Update content to version 2.1 "
   ]
  },
  {
   "cell_type": "code",
   "execution_count": 85,
   "id": "92991b31-ad8d-45e8-a945-152c8823d63c",
   "metadata": {},
   "outputs": [],
   "source": [
    "conn = psycopg2.connect(**params)\n",
    "cur = conn.cursor(cursor_factory=DictCursor)"
   ]
  },
  {
   "cell_type": "code",
   "execution_count": 86,
   "id": "70d636ae-27f4-4ef6-acb8-e48bfa8efdb2",
   "metadata": {},
   "outputs": [],
   "source": [
    "qry=\"SELECT distinct code FROM functional_groups LIMIT 2;\"\n",
    "cur.execute(qry)\n",
    "efgs = cur.fetchall()\n"
   ]
  },
  {
   "cell_type": "code",
   "execution_count": 98,
   "id": "644bcb03-e875-48d5-b789-6eb6d9e0b5b1",
   "metadata": {},
   "outputs": [
    {
     "data": {
      "text/plain": [
       "[['F1.1'], ['F1.2']]"
      ]
     },
     "execution_count": 98,
     "metadata": {},
     "output_type": "execute_result"
    }
   ],
   "source": [
    "efgs"
   ]
  },
  {
   "cell_type": "code",
   "execution_count": 111,
   "id": "9dbb1111-c348-4e00-9e19-f7b491983db7",
   "metadata": {},
   "outputs": [],
   "source": [
    "sections = (\"Ecological Traits\",\"Key Ecological Drivers\",\"Distribution\")\n",
    "version = 'v2.1'\n",
    "\n",
    "for efg in efgs:\n",
    "    qry=\"\"\"\n",
    "    SELECT code,f.biome_code,f.name,b.name as biome_name,realms,f.update as original_date \n",
    "    FROM functional_groups f\n",
    "    LEFT JOIN biomes b\n",
    "        ON b.biome_code=f.biome_code\n",
    "    WHERE code = %s\n",
    "    ;\"\"\"\n",
    "    cur.execute(qry,(efg[0],))\n",
    "\n",
    "    efginfo = cur.fetchone()\n",
    "    record=dict()\n",
    "    \n",
    "    record['name']=efginfo['name']\n",
    "    record['biome']=efginfo['biome_name']\n",
    "    record['realm']=efginfo['realms']\n",
    "    record['code']=efginfo['code']\n",
    "    record['biomecode']=efginfo['biome_code']\n",
    "    record['contributors']=list()\n",
    "    record['mapcontributors']=list()\n",
    "    \n",
    "    for section in sections:\n",
    "        qry =\"\"\"\n",
    "        SELECT description,contributors,version,update \n",
    "        FROM efg_%s \n",
    "        WHERE code = %s AND language = 'en' AND version=%s\n",
    "        ORDER BY update DESC;\n",
    "        \"\"\"\n",
    "        cur.execute(qry,(AsIs(section.lower().replace(' ','_')),efginfo['code'],version))\n",
    "        sectinfo = cur.fetchone()\n",
    "        record[section]=sectinfo['description']\n",
    "        for author in sectinfo['contributors']:\n",
    "            if author not in record['contributors']:\n",
    "                record['contributors'].append(author)\n",
    "        record['version']=\"%s (%s)\" % (sectinfo['version'],sectinfo['update'].date())\n",
    "    \n",
    "    qry=\"\"\"\n",
    "    SELECT map_code,map_source,contributors,map_version \n",
    "    FROM map_metadata WHERE code = %s AND status='valid' AND map_type='Indicative Map' \n",
    "    ORDER BY map_version DESC;\n",
    "    \"\"\"\n",
    "    cur.execute(qry,(efg[0],))\n",
    "    mapinfo = cur.fetchone()\n",
    "    for author in mapinfo['contributors']:\n",
    "        if author not in record['mapcontributors']:\n",
    "            record['mapcontributors'].append(author)\n",
    "    record['Map description']=mapinfo['map_source']\n",
    "    record['mapversion']=\"%s_%s\" % (mapinfo['map_code'],mapinfo['map_version'])"
   ]
  },
  {
   "cell_type": "code",
   "execution_count": 113,
   "id": "9d92a3c7-71f5-4558-ad5c-667e4e40f4f1",
   "metadata": {},
   "outputs": [
    {
     "data": {
      "text/plain": [
       "{'name': 'F1.2 Permanent lowland rivers',\n",
       " 'biome': 'F1. Rivers and streams biome',\n",
       " 'realm': ['Freshwater'],\n",
       " 'code': 'F1.2',\n",
       " 'biomecode': 'F1',\n",
       " 'contributors': ['RT Kingsford',\n",
       "  'R Mac Nally',\n",
       "  'PS Giller',\n",
       "  'MC',\n",
       "  'Rains',\n",
       "  'AH Arthington',\n",
       "  'DA Keith'],\n",
       " 'mapcontributors': ['JR Ferrer-Paris', 'DA Keith'],\n",
       " 'Ecological Traits': 'Small-medium lowland rivers (stream orders 4-9) are productive depositional ecosystems with trophic webs that are less diverse than large lowland rivers (F1.7). Macrophytes rooted in benthos or along the river margins contribute most primary production, but allochthonous inputs from floodplains and upper catchments generally dominate energy flow in the system. The biota tolerates a range of temperatures, which vary with catchment climate. Aquatic biota have physiological, morphological and even behavioural adaptations to lower oxygen concentrations, which may vary seasonally and diurnally. Zooplankton can be abundant in slower deeper rivers. Sessile (e.g. mussels) and scavenging (e.g. crayfish) macroinvertebrates are associated with the hyporheic zone and structurally complex microhabitats in moderate flow environments, including fine sediment and woody debris. Fish communities are diverse and may contribute to complex trophic networks. They include large predatory fish (e.g. sturgeons), smaller predators of invertebrates, herbivores, and detritivores. The feeding activities and movement of piscivorous birds (e.g. cormorants), diadromous fish (seawater-freshwater migrants), mammals (e.g. otters), and reptiles (e.g. turtles) extend trophic network beyond instream waters. Riparian zones vary in complexity from forested banks to shallow areas where emergent, floating and submerged macrophyte vegetation grows. Intermittently connected oxbow lakes or billabongs increase the complexity of associated habitats, providing more lentic waters for a range of aquatic fauna and flora.',\n",
       " 'version': 'v2.1 (2022-04-06)',\n",
       " 'Key Ecological Drivers': 'These rivers are distinguished by shallow gradients, low turbulence, low to moderate flow velocity and moderate flow volumes (<10,000m3/s). Flows are continuous but may vary seasonally depending on catchment precipitation. This combination of features is most common at low altitudes below 200 m and rarely occurs above 1,500 m. River channels are tens to a few hundred metres wide and up to tens of metres deep with mostly soft sediment substrates. They are dominated by depositional processes. Surface water and groundwater mix in the alluvium in the hyporheic zone, which plays an important role in nutrient cycling. Overbank flows increase turbulence and turbidity. Locally or temporally important erosional processes redistribute sediment and produce geomorphically dynamic depositional features (e.g. braided channels and point bars). Nutrient levels depend on riparian/floodplain inputs and vary with catchment geochemistry. Oxygen and temperatures also vary with climate and catchment features. For catchments with extensive peatlands, waters may be tannin-rich, poorly oxygenated, acidic and dark, thus reducing productivity and diversity.',\n",
       " 'Distribution': 'Distributed throughout tropical and temperate lowlands but very uncommon in arid zones. They are absent from boreal zones, where they are replaced by F1.3.',\n",
       " 'Map description': 'Freshwater ecoregions (Abell et al., 2008) were identified as containing occurrences of these functional groups if: i) their descriptions mentioned features consistent with those identified in the profile of the Ecosystem Functional Group; and ii) if their location was consistent with the ecological drivers described in the profile. Within these areas, major occurrences were mapped using stream orders 4-9 taken from the RiverATLAS (v1.0) database (Linke et al. 2019) combined with global estimates of surface water phenology (classes 1, 2 and 7 from Pekel et al., 2016). The remaining area of selected ecoregions was designated as minor occurrences. Occurrences were aggregated to ten minute spatial resolution.',\n",
       " 'mapversion': 'F1.2.IM.grid_v1.0'}"
      ]
     },
     "execution_count": 113,
     "metadata": {},
     "output_type": "execute_result"
    }
   ],
   "source": [
    "record"
   ]
  },
  {
   "cell_type": "code",
   "execution_count": 94,
   "id": "56bbd2df-60a6-4d77-8583-b63f61403890",
   "metadata": {},
   "outputs": [],
   "source": [
    "template = \"\"\"\n",
    "---\n",
    "name: {name}\n",
    "biome: {biome}\n",
    "realm: {realms}\n",
    "code: {code}\n",
    "biomecode: {biomecode}\n",
    "contributors: {}\n",
    "mapcontributors: {}\n",
    "version: {}\n",
    "---\n",
    "# Ecosystem properties\n",
    "\n",
    "{ecological_traits}\n",
    "\n",
    "# Ecological Drivers\n",
    "\n",
    "{key_ecological_drivers}\n",
    "\n",
    "# Diagramatic assembly model\n",
    " \n",
    "{% include DAM.html %}\n",
    " \n",
    "# Distribution\n",
    "\n",
    "{distribution}\n",
    "\n",
    "\"\"\""
   ]
  },
  {
   "cell_type": "code",
   "execution_count": 97,
   "id": "f946295c-1915-45e6-b087-ff3141ef452d",
   "metadata": {},
   "outputs": [
    {
     "data": {
      "text/plain": [
       "['Distributed throughout tropical and temperate lowlands but very uncommon in arid zones. They are absent from boreal zones, where they are replaced by F1.3.',\n",
       " ['RT Kingsford',\n",
       "  'R Mac Nally',\n",
       "  'PS Giller',\n",
       "  'MC',\n",
       "  'Rains',\n",
       "  'AH Arthington',\n",
       "  'DA Keith'],\n",
       " 'v2.1',\n",
       " datetime.datetime(2022, 4, 6, 5, 2, 1)]"
      ]
     },
     "execution_count": 97,
     "metadata": {},
     "output_type": "execute_result"
    }
   ],
   "source": [
    "sectinfo"
   ]
  },
  {
   "cell_type": "code",
   "execution_count": 84,
   "id": "2ae68de6-5d90-479a-8bde-57d90c54e64b",
   "metadata": {},
   "outputs": [
    {
     "name": "stdout",
     "output_type": "stream",
     "text": [
      "Database connection closed.\n"
     ]
    }
   ],
   "source": [
    "\n",
    "cur.close()\n",
    "        \n",
    "if conn is not None:\n",
    "    conn.close()\n",
    "    print('Database connection closed.')"
   ]
  },
  {
   "cell_type": "code",
   "execution_count": null,
   "id": "4d2ae7b8-7c7a-4179-aa87-1d98a1eaaf24",
   "metadata": {},
   "outputs": [],
   "source": [
    "\n",
    "   ## Query text section\n",
    "\n",
    "  \n",
    "\n",
    "   efg.texts <- rbind(efg.texts,data.frame(section=\"Diagramatic assembly model\",description=\"{% include DAM.html %}\",version=NA,update=NA))\n",
    "\n",
    "   ## Query map info\n",
    "   qry <- sprintf(, target.EFG)\n",
    "      efg.maps <-   dbGetQuery(con,qry)\n",
    "\n",
    "   map.authors <- strsplit(gsub(\"\\\\{|\\\\}|\\\"\",\"\",efg.maps$contributors),\",\")[[1]]\n",
    "\n",
    "\n",
    "   ## Query References\n",
    "\n",
    "   qry <- sprintf(\"SELECT ref_cite  FROM efg_references as e LEFT JOIN ref_list as l ON e.ref_code=l.ref_code WHERE code = '%s' \", target.EFG, max(efg.texts$version,na.rm=T))\n",
    "      text.references <-   dbGetQuery(con,qry)$ref_cite\n",
    "\n",
    "\n",
    "      qry <- sprintf(\"SELECT ref_cite  FROM map_references as e LEFT JOIN ref_list as l ON e.ref_code=l.ref_code WHERE map_code = '%s' AND map_version = '%s'\", efg.maps$map_code, max(efg.maps$map_version,na.rm=T))\n",
    "         map.references <-   dbGetQuery(con,qry)$ref_cite\n",
    "\n",
    "\n",
    "\n",
    "\n",
    "\n",
    "## output header\n",
    "cat(file=target.arch,sprintf(\"---\n",
    "name: %1$s\n",
    "biome: %8$s\n",
    "realm: %9$s\n",
    "code: %2$s\n",
    "biomecode: %3$s\n",
    "contributors: %4$s\n",
    "mapcontributors: %7$s\n",
    "version: %5$s, %6$s\n",
    "---\",\n",
    "efg.info$name,\n",
    "efg.info$code,\n",
    "efg.info$biome_code,\n",
    "paste(authors,collapse=\", \"),\n",
    "max(efg.texts$version,na.rm=T),\n",
    "max(efg.texts$update,na.rm=T),\n",
    "paste(map.authors,collapse=\", \"),\n",
    "efg.info$biome_name,\n",
    "paste(strsplit(gsub(\"\\\\{|\\\\}|\\\"\",\"\",efg.info$realms),\",\")[[1]],collapse=\", \")\n",
    "\n",
    "))\n",
    "\n",
    "## output sections\n",
    "cat(file=target.arch,sprintf(\"\\n# %s\\n \\n%s\\n\", efg.texts$section[c(1,2,4,3)], efg.texts$description[c(1,2,4,3)]), append=T)\n",
    "\n",
    "## output map info\n",
    "\n",
    "cat(file=target.arch, sprintf(\"\n",
    "{%% capture map_det %%}\n",
    "%s\n",
    "{%% endcapture %%}\n",
    "{%% include MAP.html %%}\n",
    "\",efg.maps$map_source), append=T)\n",
    "\n",
    "## output references\n",
    "\n",
    "cat(file=target.arch,sprintf(\"\n",
    "## References\n",
    "### Main References\n",
    "%s\n",
    "### Map References\n",
    "%s\n",
    "\",paste(\"*\",text.references,sep=\" \",collapse=\"\\n\"),paste(\"*\",map.references,sep=\" \",collapse=\"\\n\")), append=T)\n",
    "\n",
    "}\n",
    "\n",
    "dbDisconnect(con)\n"
   ]
  },
  {
   "cell_type": "code",
   "execution_count": 22,
   "id": "7b3c98cc-1889-42c1-b65d-f7a999d2deba",
   "metadata": {},
   "outputs": [
    {
     "data": {
      "text/plain": [
       "'M_3_7.PNG'"
      ]
     },
     "execution_count": 22,
     "metadata": {},
     "output_type": "execute_result"
    }
   ],
   "source": [
    "## Add maps with version codes"
   ]
  },
  {
   "cell_type": "code",
   "execution_count": 23,
   "id": "7f5cd139-2539-44c9-8656-148e2c8f43ec",
   "metadata": {},
   "outputs": [
    {
     "data": {
      "text/plain": [
       "'m_3_7-diagram.png'"
      ]
     },
     "execution_count": 23,
     "metadata": {},
     "output_type": "execute_result"
    }
   ],
   "source": [
    "## Add map descriptions"
   ]
  },
  {
   "cell_type": "code",
   "execution_count": null,
   "id": "749cc3b7-85cc-4bd3-89b4-0e694a459b30",
   "metadata": {},
   "outputs": [],
   "source": []
  }
 ],
 "metadata": {
  "kernelspec": {
   "display_name": "Python 3 (ipykernel)",
   "language": "python",
   "name": "python3"
  },
  "language_info": {
   "codemirror_mode": {
    "name": "ipython",
    "version": 3
   },
   "file_extension": ".py",
   "mimetype": "text/x-python",
   "name": "python",
   "nbconvert_exporter": "python",
   "pygments_lexer": "ipython3",
   "version": "3.10.2"
  }
 },
 "nbformat": 4,
 "nbformat_minor": 5
}

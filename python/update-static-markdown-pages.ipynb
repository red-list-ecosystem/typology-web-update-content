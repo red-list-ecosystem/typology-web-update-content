{
 "cells": [
  {
   "cell_type": "markdown",
   "id": "fc115578-24c4-4854-977d-0ae2c4e5bd38",
   "metadata": {},
   "source": [
    "# Update profiles for functional groups of the IUCN Global Ecosystem typology\n",
    "\n",
    "Scripts by José R. Ferrer-Paris\n",
    "\n",
    "The scripts described in this document are used to:\n",
    "\n",
    "- Read data from database\n",
    "- Write static markdown pages for a Jekyll site"
   ]
  },
  {
   "cell_type": "markdown",
   "id": "a8ae3f19-b511-4810-a93f-bf265793aa7e",
   "metadata": {
    "tags": []
   },
   "source": [
    "## Set-up\n",
    "Load all the libraries we will need in this script:"
   ]
  },
  {
   "cell_type": "code",
   "execution_count": 1,
   "id": "676c26a2-2cfa-4e2a-8863-146066eefff1",
   "metadata": {},
   "outputs": [],
   "source": [
    "import os\n",
    "from pathlib import Path\n",
    "import re\n",
    "from datetime import datetime\n",
    "from configparser import ConfigParser\n",
    "import psycopg2\n",
    "from psycopg2.extras import DictCursor\n",
    "from psycopg2.extensions import AsIs\n",
    "import shutil\n",
    "import yaml"
   ]
  },
  {
   "cell_type": "markdown",
   "id": "eb1ff7c2-db3e-429f-9b50-e13f3adc9f0b",
   "metadata": {},
   "source": [
    "Read configuration parameters for the connection to the current version of the database:"
   ]
  },
  {
   "cell_type": "code",
   "execution_count": 2,
   "id": "f629dec7-dad3-4c9d-960d-2df178647806",
   "metadata": {},
   "outputs": [],
   "source": [
    "filename = Path(os.path.expanduser('~')) / \".database.ini\"\n",
    "section = 'psqlaws'\n",
    "\n",
    "parser = ConfigParser()\n",
    "parser.read(filename)\n",
    "db = {}\n",
    "if parser.has_section(section):\n",
    "    params = parser.items(section)\n",
    "    for param in params:\n",
    "        db[param[0]] = param[1]\n",
    "else:\n",
    "    raise Exception('Section {0} not found in the {1} file'.format(section, filename))\n",
    "\n",
    "params = db"
   ]
  },
  {
   "cell_type": "markdown",
   "id": "bac6768a-8937-4356-8d92-a3ed9efc0ddf",
   "metadata": {
    "tags": []
   },
   "source": [
    "## Copy DAM between repos\n",
    "Assumming  `repo one` has been updated recently, copy files to `repo two`:"
   ]
  },
  {
   "cell_type": "code",
   "execution_count": 3,
   "id": "f1b791f8-58a8-449a-9b25-59b6860717d2",
   "metadata": {},
   "outputs": [],
   "source": [
    "repodir = Path(os.path.expanduser('~')) / 'proyectos' / 'typology-website'\n",
    "repo_one = repodir  / 'typology-map-content' / 'assets' / 'uploads'\n",
    "repo_two =  repodir / 'Ecosystem-profiles-comments' / 'assets' / 'diagrams'\n",
    "\n",
    "DAMfiles=list()\n",
    "for fn in os.listdir(repo_one):\n",
    "    if fn.find('diagram')>0:\n",
    "        DAMfiles.append(fn)"
   ]
  },
  {
   "cell_type": "code",
   "execution_count": 43,
   "id": "5aa6c20b-a9da-4d31-8d0f-78a2809e18a2",
   "metadata": {},
   "outputs": [],
   "source": [
    "for infile in DAMfiles:\n",
    "    nfn = infile.replace('-diagram.png','')\n",
    "    outfile = re.sub(r'([mfts]+)_([0-9])_([0-9])',r'\\1\\2.\\3',nfn).upper() +'.png'\n",
    "    source =  repo_one / infile\n",
    "    destination =  repo_two / outfile\n",
    "    # copy only files\n",
    "    if os.path.isfile(source):\n",
    "        shutil.copy(source, destination)\n",
    "    "
   ]
  },
  {
   "cell_type": "markdown",
   "id": "ee029fea-a01f-4085-aded-9b37746cb2fe",
   "metadata": {
    "tags": []
   },
   "source": [
    "## Connect to database"
   ]
  },
  {
   "cell_type": "code",
   "execution_count": 228,
   "id": "92991b31-ad8d-45e8-a945-152c8823d63c",
   "metadata": {},
   "outputs": [],
   "source": [
    "conn = psycopg2.connect(**params)\n",
    "cur = conn.cursor(cursor_factory=DictCursor)\n"
   ]
  },
  {
   "cell_type": "markdown",
   "id": "c846f119-529c-4dbc-8417-53029efaf440",
   "metadata": {
    "tags": []
   },
   "source": [
    "## Add map information to data folder"
   ]
  },
  {
   "cell_type": "code",
   "execution_count": 224,
   "id": "86af84d1-6bcd-447d-b455-294a657b65c5",
   "metadata": {},
   "outputs": [],
   "source": [
    "outfile =  repodir / 'Ecosystem-profiles-comments' / '_data' / 'references.yaml'\n",
    "qry = \"\"\"\n",
    "SELECT ref_code,ref_cite\n",
    "FROM ref_list \n",
    "WHERE ref_code IN (SELECT distinct ref_code from map_references) \n",
    "OR ref_code IN (SELECT distinct ref_code from efg_references);\n",
    "\"\"\"\n",
    "cur.execute(qry)\n",
    "references = cur.fetchall()\n",
    "records=dict()\n",
    "for item in references:\n",
    "    records[item['ref_code']]=item['ref_cite']\n",
    "\n",
    "with open(outfile, 'w') as file:\n",
    "    yaml.dump(records, file, allow_unicode=True, encoding = 'utf-8')\n"
   ]
  },
  {
   "cell_type": "code",
   "execution_count": 222,
   "id": "4146944c-7026-4057-908a-fe8223779a24",
   "metadata": {},
   "outputs": [
    {
     "data": {
      "text/plain": [
       "'Abell R, Thieme ML, Revenga C, Bryer M, Kottelat M, Bogutskaya N, Coad B, Mandrak N, Contreras Balderas S, Bussing W, Stiassny MLJ, Skelton P, Allen GR, Unmack P, Naseka A, Ng R, Sindorf N, Robertson J, Armijo E, Higgins JV, Heibel TJ, Wikramanayake E, Olson D, López HL, Reis RE, Lundberg JG, Sabaj Pérez MH, Petry P (2008) *Freshwater ecoregions of the world: A new map of biogeographic units for freshwater biodiversity conservation*, **BioScience** 58: 403–414. DOI:[10.1641/B580507](https://doi.org/10.1641/B580507)'"
      ]
     },
     "execution_count": 222,
     "metadata": {},
     "output_type": "execute_result"
    }
   ],
   "source": [
    "records['Abell et al. 2008']"
   ]
  },
  {
   "cell_type": "code",
   "execution_count": 211,
   "id": "ea399e89-1325-45cf-89cc-35248e2fda11",
   "metadata": {},
   "outputs": [],
   "source": [
    "outfile =  repodir / 'Ecosystem-profiles-comments' / '_data' / 'mapinfo.yaml'\n",
    "qry=\"\"\"\n",
    "    SELECT map_code, map_version, code, map_source,contributors,status \n",
    "    FROM map_metadata WHERE status IN ('valid','replaced','superceded','superceeded') \n",
    "    ORDER BY map_version DESC;\n",
    "    \"\"\"\n",
    "cur.execute(qry)\n",
    "mapinfo = cur.fetchall()\n",
    "records=dict()\n",
    "record=dict()\n",
    "record['code']='MISSING'\n",
    "record['version']='MISSING'\n",
    "record['description']='Map information is missing'\n",
    "record['contributors']='MISSING'\n",
    "records['MISSING']=record\n",
    "for item in mapinfo:\n",
    "    mapcode=\"%s_%s\" % (item['map_code'],item['map_version'])\n",
    "    record=dict()\n",
    "    record['code']=item['map_code']\n",
    "    record['efg']=item['code']\n",
    "    record['version']=item['map_version']\n",
    "    record['description']=item['map_source']\n",
    "    record['contributors']=\", \".join(item['contributors'])\n",
    "    if item['status']=='valid':\n",
    "        record['status']='valid'\n",
    "    else:\n",
    "        record['status']='replaced'\n",
    "    records[mapcode]=record\n",
    "\n",
    "with open(outfile, 'w') as file:\n",
    "    yaml.dump(records, file)\n"
   ]
  },
  {
   "cell_type": "code",
   "execution_count": 229,
   "id": "16df13a9-1c2d-491b-bead-94705980c21a",
   "metadata": {},
   "outputs": [],
   "source": [
    "outfile =  repodir / 'Ecosystem-profiles-comments' / '_data' / 'maprefs.yaml'\n",
    "qry=\"\"\"\n",
    "    SELECT map_code,map_version,ARRAY_AGG(ref_code) as refs, ARRAY_AGG(dataset) as datasets\n",
    "    FROM map_references \n",
    "    GROUP BY map_code, map_version;\n",
    "    \"\"\"\n",
    "cur.execute(qry)\n",
    "refs = cur.fetchall()\n",
    "\n",
    "records=dict()\n",
    "records['MISSING']={'references':'Missing references'}\n",
    "for item in refs:\n",
    "    mapcode=\"%s_%s\" % (item['map_code'],item['map_version'])\n",
    "    records[mapcode]={'references':item['refs'],\n",
    "                      'datasets':item['datasets']}\n",
    "\n",
    "with open(outfile, 'w') as file:\n",
    "    yaml.dump(records, file)"
   ]
  },
  {
   "cell_type": "code",
   "execution_count": 230,
   "id": "2235f14a-c52e-47a4-aec8-f0adede65cad",
   "metadata": {},
   "outputs": [],
   "source": [
    "outfile =  repodir / 'Ecosystem-profiles-comments' / '_data' / 'efgrefs.yaml'\n",
    "qry=\"\"\"\n",
    "    SELECT code,ARRAY_AGG(ref_code) as refs \n",
    "    FROM efg_references \n",
    "    GROUP BY CODE\n",
    "    \"\"\"\n",
    "cur.execute(qry)\n",
    "refs = cur.fetchall()\n",
    "\n",
    "records=dict()\n",
    "records['MISSING']=('Missing references',)\n",
    "for item in refs:\n",
    "\n",
    "    records[item['code']]=item['refs']\n",
    "\n",
    "with open(outfile, 'w') as file:\n",
    "    yaml.dump(records, file)"
   ]
  },
  {
   "cell_type": "markdown",
   "id": "1d9de0b5-94cf-4904-9194-a7adf019adc9",
   "metadata": {
    "tags": []
   },
   "source": [
    "## Update text content to version 2.1"
   ]
  },
  {
   "cell_type": "code",
   "execution_count": 195,
   "id": "70d636ae-27f4-4ef6-acb8-e48bfa8efdb2",
   "metadata": {},
   "outputs": [],
   "source": [
    "qry=\"SELECT distinct code FROM functional_groups;\"\n",
    "cur.execute(qry)\n",
    "efgs = cur.fetchall()\n"
   ]
  },
  {
   "cell_type": "code",
   "execution_count": 196,
   "id": "644bcb03-e875-48d5-b789-6eb6d9e0b5b1",
   "metadata": {},
   "outputs": [
    {
     "data": {
      "text/plain": [
       "110"
      ]
     },
     "execution_count": 196,
     "metadata": {},
     "output_type": "execute_result"
    }
   ],
   "source": [
    "len(efgs)"
   ]
  },
  {
   "cell_type": "code",
   "execution_count": 168,
   "id": "9dbb1111-c348-4e00-9e19-f7b491983db7",
   "metadata": {
    "tags": []
   },
   "outputs": [],
   "source": [
    "sections = (\"Ecological Traits\",\"Key Ecological Drivers\",\"Distribution\")\n",
    "version = 'v2.1'\n",
    "records=list()\n",
    "for efg in efgs:\n",
    "    qry=\"\"\"\n",
    "    SELECT code,f.biome_code,f.name,b.name as biome_name,realms,f.update as original_date \n",
    "    FROM functional_groups f\n",
    "    LEFT JOIN biomes b\n",
    "        ON b.biome_code=f.biome_code\n",
    "    WHERE code = %s\n",
    "    ;\"\"\"\n",
    "    cur.execute(qry,(efg[0],))\n",
    "\n",
    "    efginfo = cur.fetchone()\n",
    "    record=dict()\n",
    "    \n",
    "    record['name']=efginfo['name']\n",
    "    record['biome']=efginfo['biome_name']\n",
    "    record['realm']=efginfo['realms']\n",
    "    record['code']=efginfo['code']\n",
    "    record['biomecode']=efginfo['biome_code']\n",
    "    record['contributors']=list()\n",
    "    record['mapcontributors']=list()\n",
    "    \n",
    "    for section in sections:\n",
    "        qry =\"\"\"\n",
    "        SELECT description,contributors,version,update \n",
    "        FROM efg_%s \n",
    "        WHERE code = %s AND language = 'en' AND version=%s\n",
    "        ORDER BY update DESC;\n",
    "        \"\"\"\n",
    "        cur.execute(qry,(AsIs(section.lower().replace(' ','_')),efginfo['code'],version))\n",
    "        sectinfo = cur.fetchone()\n",
    "        record[section]=sectinfo['description']\n",
    "        for author in sectinfo['contributors']:\n",
    "            if author not in record['contributors']:\n",
    "                record['contributors'].append(author)\n",
    "        record['version']=\"%s (%s)\" % (sectinfo['version'],sectinfo['update'].date())\n",
    "\n",
    "    reflist1=list()\n",
    "    reflist2=list()\n",
    "\n",
    "    record['mapcontributorstr']=''\n",
    "    record['MAPtext1']=''\n",
    "    record['MAPtext2']=''\n",
    "    record['maprefstr']='MAP INFO IS MISSING'\n",
    "    record['Map description']='MAP INFO IS MISSING'\n",
    "    \n",
    "    qry=\"\"\"\n",
    "    SELECT map_code, map_source,contributors,map_version \n",
    "    FROM map_metadata WHERE code = %s AND status='valid' AND map_type='Indicative Map' \n",
    "    ORDER BY map_version DESC;\n",
    "    \"\"\"\n",
    "    cur.execute(qry,(efg[0],))\n",
    "    mapinfo = cur.fetchone()\n",
    "    if mapinfo is not None:\n",
    "        for author in mapinfo['contributors']:\n",
    "            if author not in record['mapcontributors']:\n",
    "                record['mapcontributors'].append(author)\n",
    "        record['Map description']=mapinfo['map_source']\n",
    "        record['mapversion']=\"%s_%s\" % (mapinfo['map_code'],mapinfo['map_version'])\n",
    "        if record['mapcontributors'] is not None:\n",
    "            record['mapcontributorstr']=\", \".join(record['mapcontributors'])\n",
    "        else:\n",
    "            record['mapcontributorstr']=''\n",
    "        \n",
    "        qry=\"\"\"\n",
    "    SELECT ref_cite  \n",
    "    FROM map_references as e \n",
    "    LEFT JOIN ref_list as l ON e.ref_code=l.ref_code \n",
    "    WHERE map_code = %s AND map_version = %s\n",
    "    ORDER BY ref_cite;\n",
    "    \"\"\"\n",
    "        cur.execute(qry,(mapinfo['map_code'],mapinfo['map_version']))\n",
    "        refs = cur.fetchall()\n",
    "        for ref in refs:\n",
    "            reflist2.append(\"* \"+ref[0])\n",
    "\n",
    "        record['MAPtext1']='{% capture map_det %}'\n",
    "        record['MAPtext2']='{% endcapture %}\\n{% include MAP.html %}'\n",
    "        record['maprefstr']=\"\\n\".join(reflist2)\n",
    "\n",
    "    record['realmstr']=\", \".join(record['realm'])\n",
    "    record['contributorstr']=\", \".join(record['contributors'])\n",
    "    record['DAMtext']='{% include DAM.html %}'\n",
    "    \n",
    "    qry=\"\"\"\n",
    "    SELECT ref_cite \n",
    "    FROM efg_references as e \n",
    "    LEFT JOIN ref_list as l ON e.ref_code=l.ref_code \n",
    "    WHERE code = %s\n",
    "    ORDER BY ref_cite;\n",
    "    \"\"\"\n",
    "    cur.execute(qry,(efg[0],))\n",
    "    refs = cur.fetchall()\n",
    "    \n",
    "    for ref in refs:\n",
    "        if ref[0] is not None:\n",
    "            reflist1.append(\"* \"+ref[0])\n",
    "    \n",
    "    \n",
    "    \n",
    "    record['mainrefstr']=\"\\n\".join(reflist1)\n",
    "    \n",
    "    records.append(record)"
   ]
  },
  {
   "cell_type": "code",
   "execution_count": 169,
   "id": "56bbd2df-60a6-4d77-8583-b63f61403890",
   "metadata": {
    "jupyter": {
     "source_hidden": true
    },
    "tags": []
   },
   "outputs": [],
   "source": [
    "template = \"\"\"---\n",
    "name: {name}\n",
    "biome: {biome}\n",
    "realm: {realmstr}\n",
    "code: {code}\n",
    "biomecode: {biomecode}\n",
    "contributors: {contributorstr}\n",
    "mapcontributors: {mapcontributorstr}\n",
    "version: {version}\n",
    "---\n",
    "# Ecosystem properties\n",
    "\n",
    "{Ecological Traits}\n",
    "\n",
    "# Ecological Drivers\n",
    "\n",
    "{Key Ecological Drivers}\n",
    "\n",
    "# Diagramatic assembly model\n",
    "\n",
    "{DAMtext}\n",
    "\n",
    "# Distribution\n",
    "\n",
    "{Distribution}\n",
    "\n",
    "{MAPtext1}\n",
    "{Map description}\n",
    "{MAPtext2}\n",
    "\n",
    "## References\n",
    "### Main References\n",
    "{mainrefstr}\n",
    "### Map References\n",
    "{maprefstr}\n",
    "\"\"\""
   ]
  },
  {
   "cell_type": "code",
   "execution_count": 170,
   "id": "4b543d02-5e5f-478d-a54e-7cbd437f7689",
   "metadata": {
    "jupyter": {
     "source_hidden": true
    },
    "tags": []
   },
   "outputs": [],
   "source": [
    "for record in records:\n",
    "    outfile =  repodir / 'Ecosystem-profiles-comments' / '_EFGs' / (record['code'] + '.md')\n",
    "    outtext=template.format(**record)\n",
    "    with open(outfile,'w') as f:\n",
    "        f.write(outtext)"
   ]
  },
  {
   "cell_type": "code",
   "execution_count": 197,
   "id": "d4c326fe-958d-4cc3-9042-4f6adca9c57b",
   "metadata": {
    "tags": []
   },
   "outputs": [],
   "source": [
    "sections = (\"Ecological Traits\",\"Key Ecological Drivers\",\"Distribution\")\n",
    "version = 'v2.1'\n",
    "records=list()\n",
    "for efg in efgs:\n",
    "    qry=\"\"\"\n",
    "    SELECT code,f.biome_code,f.name,b.name as biome_name,realms,f.update as original_date \n",
    "    FROM functional_groups f\n",
    "    LEFT JOIN biomes b\n",
    "        ON b.biome_code=f.biome_code\n",
    "    WHERE code = %s\n",
    "    ;\"\"\"\n",
    "    cur.execute(qry,(efg[0],))\n",
    "\n",
    "    efginfo = cur.fetchone()\n",
    "    record=dict()\n",
    "    \n",
    "    record['name']=efginfo['name']\n",
    "    record['biome']=efginfo['biome_name']\n",
    "    record['realm']=efginfo['realms']\n",
    "    record['code']=efginfo['code']\n",
    "    record['biomecode']=efginfo['biome_code']\n",
    "    record['contributors']=list()\n",
    "    \n",
    "    for section in sections:\n",
    "        qry =\"\"\"\n",
    "        SELECT description,contributors,version,update \n",
    "        FROM efg_%s \n",
    "        WHERE code = %s AND language = 'en' AND version=%s\n",
    "        ORDER BY update DESC;\n",
    "        \"\"\"\n",
    "        cur.execute(qry,(AsIs(section.lower().replace(' ','_')),efginfo['code'],version))\n",
    "        sectinfo = cur.fetchone()\n",
    "        record[section]=sectinfo['description']\n",
    "        for author in sectinfo['contributors']:\n",
    "            if author not in record['contributors']:\n",
    "                record['contributors'].append(author)\n",
    "        record['version']=\"%s (%s)\" % (sectinfo['version'],sectinfo['update'].date())\n",
    "\n",
    "    reflist1=list()\n",
    "    reflist2=list()\n",
    "\n",
    "    \n",
    "    qry=\"\"\"\n",
    "    SELECT map_code, map_version \n",
    "    FROM map_metadata WHERE code = %s AND status='valid' AND map_type='Indicative Map' \n",
    "    ORDER BY map_version DESC;\n",
    "    \"\"\"\n",
    "    cur.execute(qry,(efg[0],))\n",
    "    mapinfo = cur.fetchone()\n",
    "    if mapinfo is not None:\n",
    "        record['mapcode']=\"%s_%s\" % (mapinfo['map_code'],mapinfo['map_version'])\n",
    "    else:\n",
    "        record['mapcode']=\"MISSING\" \n",
    "\n",
    "\n",
    "    record['realmstr']=\", \".join(record['realm'])\n",
    "    record['contributorstr']=\", \".join(record['contributors'])\n",
    "    record['DAMtext']='{% include DAM.html %}'\n",
    "    \n",
    "    qry=\"\"\"\n",
    "    SELECT ref_cite \n",
    "    FROM efg_references as e \n",
    "    LEFT JOIN ref_list as l ON e.ref_code=l.ref_code \n",
    "    WHERE code = %s\n",
    "    ORDER BY ref_cite;\n",
    "    \"\"\"\n",
    "    cur.execute(qry,(efg[0],))\n",
    "    refs = cur.fetchall()\n",
    "    \n",
    "    for ref in refs:\n",
    "        if ref[0] is not None:\n",
    "            reflist1.append(\"* \"+ref[0])\n",
    "    \n",
    "    \n",
    "    #record['maprefstr']='{% for ref in map.contributors %}\\n* {{ref}}\\n{% endfor %}'\n",
    "    \n",
    "    #record['mainrefstr']=\"\\n\".join(reflist1)\n",
    "    \n",
    "    records.append(record)"
   ]
  },
  {
   "cell_type": "code",
   "execution_count": 198,
   "id": "cd698375-4fe5-42b6-b7a0-b2d375caf8e9",
   "metadata": {},
   "outputs": [],
   "source": [
    "template = \"\"\"---\n",
    "name: {name}\n",
    "biome: {biome}\n",
    "realm: {realmstr}\n",
    "code: {code}\n",
    "biomecode: {biomecode}\n",
    "contributors: {contributorstr}\n",
    "version: {version}\n",
    "mapcode: {mapcode}\n",
    "---\n",
    "# Ecosystem properties\n",
    "\n",
    "{Ecological Traits}\n",
    "\n",
    "# Ecological Drivers\n",
    "\n",
    "{Key Ecological Drivers}\n",
    "\n",
    "# Diagramatic assembly model\n",
    "\n",
    "{DAMtext}\n",
    "\n",
    "# Distribution\n",
    "\n",
    "{Distribution}\n",
    "\n",
    "\"\"\""
   ]
  },
  {
   "cell_type": "code",
   "execution_count": 199,
   "id": "9d92a3c7-71f5-4558-ad5c-667e4e40f4f1",
   "metadata": {},
   "outputs": [
    {
     "data": {
      "text/plain": [
       "110"
      ]
     },
     "execution_count": 199,
     "metadata": {},
     "output_type": "execute_result"
    }
   ],
   "source": [
    "len(records)"
   ]
  },
  {
   "cell_type": "code",
   "execution_count": 200,
   "id": "4b8985f7-25f0-4d95-8105-996beda0bd8f",
   "metadata": {},
   "outputs": [],
   "source": [
    "for record in records:\n",
    "    outfile =  repodir / 'Ecosystem-profiles-comments' / '_EFGs' / (record['code'] + '.md')\n",
    "    outtext=template.format(**record)\n",
    "    with open(outfile,'w') as f:\n",
    "        f.write(outtext)"
   ]
  },
  {
   "cell_type": "code",
   "execution_count": 188,
   "id": "f946295c-1915-45e6-b087-ff3141ef452d",
   "metadata": {},
   "outputs": [
    {
     "data": {
      "text/plain": [
       "{'name': 'TF1.1 Tropical flooded forests and peat forests',\n",
       " 'biome': 'TF1. Palustrine wetlands biome',\n",
       " 'realm': ['Terrestrial', 'Freshwater'],\n",
       " 'code': 'TF1.1',\n",
       " 'biomecode': 'TF1',\n",
       " 'contributors': ['DA Keith',\n",
       "  'RT Kingsford',\n",
       "  'R Mac Nally',\n",
       "  'KM Rodriguez-Clark',\n",
       "  'A Etter'],\n",
       " 'mapcontributors': [],\n",
       " 'Ecological Traits': 'Closed-canopy forests in tropical swamps and riparian zones have high biomass and LAI, with unseasonal growth and reproductive phenology. The canopy foliage is evergreen, varying in size from mesophyll to notophyll with moderate SLA. Productivity differs markedly between high-nutrient ‘white water’ riparian systems and low-nutrient ‘black water’ systems. In the latter, most of the nutrient capital is sequestered in plant biomass, litter, or peat, whereas in white water systems, soil nutrients are replenished continually by fluvial subsidies. Some trees have specialised traits conferring tolerance to low-oxygen substrates, such as surface root mats, pneumatophores, and stilt roots. Palms (sometimes in pure stands), hydrophytes, pitcher plants, epiphytic mosses, and ferns may be abundant, but lianas and grasses are rare or absent. The recent origin of these forests has allowed limited time for evolutionary divergence from nearby lowland rainforests (T1.1), but strong filtering by saturated soils has resulted in low diversity and some endemism. The biota is spatially structured by local hydrological gradients. Riparian galleries of floodplain forests also occur within savanna matrices. Trophic networks are complex but with less diverse representation of vertebrate consumers and predators than T1.1, although avian frugivores, primates, amphibians, macro-invertebrates, and crocodilian predators are prominent. Plant propagules are dispersed mostly by surface water or vertebrates. Seed dormancy and seedbanks are rare. Gap-phase dynamics are driven by individual treefall, storm events, or floods in riparian forests, but many plants exhibit leaf-form plasticity and can recruit in the shade.',\n",
       " 'version': 'v2.1 (2022-04-06)',\n",
       " 'Key Ecological Drivers': 'High rainfall, overbank flows or high water tables maintain an abundant water supply. Continual soil profile saturation leads to anaerobic black water conditions and peat accumulation. In contrast, white water riparian zones undergo frequent fluvial disturbance and drain rapidly. Peat forests often develop behind lake shore vegetation or mangroves, which block lateral drainage. Black water peatlands may become domed, ombrogenous (i.e. rain-dependent), highly acidic, and nutrient-poor, with peat accumulating to depths of 20 m. In contrast, white water riparian forests are less permanently inundated and floods continually replenish nutrients, disturb vegetation, and rework sediments. Hummock-hollow micro-topography is characteristic of all forested wetlands and contributes to niche diversity. Light may be limited by dense tree canopies. There is low diurnal, intra- and inter-annual variability in rainfall and temperature, with the latter rarely <10°C, which promotes microbial activity when oxygen is available.',\n",
       " 'Distribution': 'Flat equatorial lowlands of Southeast Asia, South America, and Central and West Africa, notably in Borneo and the Amazonian lowlands.',\n",
       " 'mapcode': 'TF1.1.IM.alt_v4.0',\n",
       " 'realmstr': 'Terrestrial, Freshwater',\n",
       " 'contributorstr': 'DA Keith, RT Kingsford, R Mac Nally, KM Rodriguez-Clark, A Etter',\n",
       " 'DAMtext': '{% include DAM.html %}',\n",
       " 'MAPtext1': '{% assign map = site.data.mapinfo[page.mapcode] %}',\n",
       " 'Map description': '{% assign map_det = map.description %}',\n",
       " 'MAPtext2': '{% include MAP.html %}',\n",
       " 'maprefstr': '{% for ref in map.contributors %}\\n* {{ref}}\\n{% endfor %}',\n",
       " 'mainrefstr': '* Page SE, Rieley JO, Wüst R (2014) Lowland tropical peatlands of Southeast Asia. In: Peatlands: Evolution and records of environmental and climate changes (Eds. IP Martini, Martínez A Cortizas, W Chesworth), pp145-172. Elsevier, Amsterdam. '}"
      ]
     },
     "execution_count": 188,
     "metadata": {},
     "output_type": "execute_result"
    }
   ],
   "source": [
    "record\n",
    "#print(outtext)"
   ]
  },
  {
   "cell_type": "markdown",
   "id": "0b58a720-f48c-45a3-b01f-d90a0eb59f8f",
   "metadata": {},
   "source": [
    "## Add maps with version codes"
   ]
  },
  {
   "cell_type": "markdown",
   "id": "9d252ec1-e849-4125-a2bb-34ec66b9c5e9",
   "metadata": {},
   "source": [
    "## Add map descriptions"
   ]
  },
  {
   "cell_type": "markdown",
   "id": "c3551ede-599a-4d16-ae08-1451b8f0c822",
   "metadata": {
    "tags": []
   },
   "source": [
    "## Close database connection"
   ]
  },
  {
   "cell_type": "code",
   "execution_count": 227,
   "id": "2ae68de6-5d90-479a-8bde-57d90c54e64b",
   "metadata": {},
   "outputs": [
    {
     "name": "stdout",
     "output_type": "stream",
     "text": [
      "Database connection closed.\n"
     ]
    }
   ],
   "source": [
    "\n",
    "cur.close()\n",
    "        \n",
    "if conn is not None:\n",
    "    conn.close()\n",
    "    print('Database connection closed.')"
   ]
  },
  {
   "cell_type": "code",
   "execution_count": null,
   "id": "749cc3b7-85cc-4bd3-89b4-0e694a459b30",
   "metadata": {},
   "outputs": [],
   "source": []
  }
 ],
 "metadata": {
  "kernelspec": {
   "display_name": "Python 3 (ipykernel)",
   "language": "python",
   "name": "python3"
  },
  "language_info": {
   "codemirror_mode": {
    "name": "ipython",
    "version": 3
   },
   "file_extension": ".py",
   "mimetype": "text/x-python",
   "name": "python",
   "nbconvert_exporter": "python",
   "pygments_lexer": "ipython3",
   "version": "3.10.2"
  }
 },
 "nbformat": 4,
 "nbformat_minor": 5
}

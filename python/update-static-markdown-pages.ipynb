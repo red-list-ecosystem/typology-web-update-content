{
 "cells": [
  {
   "cell_type": "markdown",
   "id": "fc115578-24c4-4854-977d-0ae2c4e5bd38",
   "metadata": {},
   "source": [
    "# Update profiles for functional groups of the IUCN Global Ecosystem typology\n",
    "\n",
    "Scripts by José R. Ferrer-Paris\n",
    "\n",
    "The scripts described in this document are used to:\n",
    "\n",
    "- Read data from database\n",
    "- Write static markdown pages for a Jekyll site"
   ]
  },
  {
   "cell_type": "markdown",
   "id": "a8ae3f19-b511-4810-a93f-bf265793aa7e",
   "metadata": {
    "tags": []
   },
   "source": [
    "## Set-up\n",
    "Load all the libraries we will need in this script:"
   ]
  },
  {
   "cell_type": "code",
   "execution_count": 2,
   "id": "676c26a2-2cfa-4e2a-8863-146066eefff1",
   "metadata": {},
   "outputs": [],
   "source": [
    "import os\n",
    "from pathlib import Path\n",
    "import re\n",
    "from datetime import datetime\n",
    "from configparser import ConfigParser\n",
    "import psycopg2\n",
    "from psycopg2.extras import DictCursor\n",
    "from psycopg2.extensions import AsIs\n",
    "import shutil\n",
    "import yaml"
   ]
  },
  {
   "cell_type": "code",
   "execution_count": 10,
   "id": "5ef30deb-954c-4123-9ce3-0b7112849efc",
   "metadata": {},
   "outputs": [],
   "source": [
    "repodir = Path(os.path.expanduser('~')) / 'proyectos' / 'typology-website'\n"
   ]
  },
  {
   "cell_type": "markdown",
   "id": "eb1ff7c2-db3e-429f-9b50-e13f3adc9f0b",
   "metadata": {},
   "source": [
    "Read configuration parameters for the connection to the current version of the database:"
   ]
  },
  {
   "cell_type": "code",
   "execution_count": 3,
   "id": "f629dec7-dad3-4c9d-960d-2df178647806",
   "metadata": {},
   "outputs": [],
   "source": [
    "filename = Path(os.path.expanduser('~')) / \".database.ini\"\n",
    "section = 'psqlaws'\n",
    "\n",
    "parser = ConfigParser()\n",
    "parser.read(filename)\n",
    "db = {}\n",
    "if parser.has_section(section):\n",
    "    params = parser.items(section)\n",
    "    for param in params:\n",
    "        db[param[0]] = param[1]\n",
    "else:\n",
    "    raise Exception('Section {0} not found in the {1} file'.format(section, filename))\n",
    "\n",
    "params = db"
   ]
  },
  {
   "cell_type": "markdown",
   "id": "ee029fea-a01f-4085-aded-9b37746cb2fe",
   "metadata": {
    "tags": []
   },
   "source": [
    "## Connect to database"
   ]
  },
  {
   "cell_type": "code",
   "execution_count": 4,
   "id": "92991b31-ad8d-45e8-a945-152c8823d63c",
   "metadata": {},
   "outputs": [],
   "source": [
    "conn = psycopg2.connect(**params)\n",
    "cur = conn.cursor(cursor_factory=DictCursor)\n"
   ]
  },
  {
   "cell_type": "markdown",
   "id": "bac6768a-8937-4356-8d92-a3ed9efc0ddf",
   "metadata": {
    "tags": []
   },
   "source": [
    "## Copy DAM between repos\n",
    "Assumming  `repo one` has been updated recently, copy files to `repo two`:"
   ]
  },
  {
   "cell_type": "code",
   "execution_count": 4,
   "id": "f1b791f8-58a8-449a-9b25-59b6860717d2",
   "metadata": {},
   "outputs": [],
   "source": [
    "repo_one = repodir  / 'typology-map-content' / 'assets' / 'uploads'\n",
    "repo_two =  repodir / 'Ecosystem-profiles-comments' / 'assets' / 'diagrams'\n",
    "\n",
    "DAMfiles=list()\n",
    "for fn in os.listdir(repo_one):\n",
    "    if fn.find('diagram')>0:\n",
    "        DAMfiles.append(fn)"
   ]
  },
  {
   "cell_type": "code",
   "execution_count": 43,
   "id": "5aa6c20b-a9da-4d31-8d0f-78a2809e18a2",
   "metadata": {},
   "outputs": [],
   "source": [
    "for infile in DAMfiles:\n",
    "    nfn = infile.replace('-diagram.png','')\n",
    "    outfile = re.sub(r'([mfts]+)_([0-9])_([0-9])',r'\\1\\2.\\3',nfn).upper() +'.png'\n",
    "    source =  repo_one / infile\n",
    "    destination =  repo_two / outfile\n",
    "    # copy only files\n",
    "    if os.path.isfile(source):\n",
    "        shutil.copy(source, destination)\n",
    "    "
   ]
  },
  {
   "cell_type": "markdown",
   "id": "c846f119-529c-4dbc-8417-53029efaf440",
   "metadata": {
    "tags": []
   },
   "source": [
    "## Add references to data folder"
   ]
  },
  {
   "cell_type": "code",
   "execution_count": 6,
   "id": "86af84d1-6bcd-447d-b455-294a657b65c5",
   "metadata": {},
   "outputs": [],
   "source": [
    "outfile =  repodir / 'Ecosystem-profiles-comments' / '_data' / 'references.yaml'\n",
    "qry = \"\"\"\n",
    "SELECT ref_code,ref_markdown\n",
    "FROM ref_list \n",
    "WHERE ref_code IN (SELECT distinct ref_code from map_references) \n",
    "OR ref_code IN (SELECT distinct ref_code from efg_references);\n",
    "\"\"\"\n",
    "cur.execute(qry)\n",
    "references = cur.fetchall()\n",
    "records=dict()\n",
    "for item in references:\n",
    "    records[item['ref_code']]=item['ref_markdown']\n",
    "\n",
    "with open(outfile, 'w') as file:\n",
    "    yaml.dump(records, file, allow_unicode=True, encoding = 'utf-8')\n"
   ]
  },
  {
   "cell_type": "code",
   "execution_count": 7,
   "id": "4146944c-7026-4057-908a-fe8223779a24",
   "metadata": {},
   "outputs": [
    {
     "data": {
      "text/plain": [
       "'Abell R, Thieme ML, Revenga C, Bryer M, Kottelat M, Bogutskaya N, Coad B, Mandrak N, Contreras Balderas S, Bussing W, Stiassny MLJ, Skelton P, Allen GR, Unmack P, Naseka A, Ng R, Sindorf N, Robertson J, Armijo E, Higgins JV, Heibel TJ, Wikramanayake E, Olson D, López HL, Reis RE, Lundberg JG, Sabaj Pérez MH, Petry P (2008) *Freshwater ecoregions of the world: A new map of biogeographic units for freshwater biodiversity conservation*, **BioScience** 58: 403–414. DOI:[10.1641/B580507](https://doi.org/10.1641/B580507)'"
      ]
     },
     "execution_count": 7,
     "metadata": {},
     "output_type": "execute_result"
    }
   ],
   "source": [
    "records['Abell et al. 2008']"
   ]
  },
  {
   "cell_type": "markdown",
   "id": "8ada4dbf-941f-4544-80de-e7180d0b6ef6",
   "metadata": {
    "jp-MarkdownHeadingCollapsed": true,
    "tags": []
   },
   "source": [
    "## Add map information to data folder"
   ]
  },
  {
   "cell_type": "code",
   "execution_count": 211,
   "id": "ea399e89-1325-45cf-89cc-35248e2fda11",
   "metadata": {},
   "outputs": [],
   "source": [
    "outfile =  repodir / 'Ecosystem-profiles-comments' / '_data' / 'mapinfo.yaml'\n",
    "qry=\"\"\"\n",
    "    SELECT map_code, map_version, code, map_source,contributors,status \n",
    "    FROM map_metadata WHERE status IN ('valid','replaced','superceded','superceeded') \n",
    "    ORDER BY map_version DESC;\n",
    "    \"\"\"\n",
    "cur.execute(qry)\n",
    "mapinfo = cur.fetchall()\n",
    "records=dict()\n",
    "record=dict()\n",
    "record['code']='MISSING'\n",
    "record['version']='MISSING'\n",
    "record['description']='Map information is missing'\n",
    "record['contributors']='MISSING'\n",
    "records['MISSING']=record\n",
    "for item in mapinfo:\n",
    "    mapcode=\"%s_%s\" % (item['map_code'],item['map_version'])\n",
    "    record=dict()\n",
    "    record['code']=item['map_code']\n",
    "    record['efg']=item['code']\n",
    "    record['version']=item['map_version']\n",
    "    record['description']=item['map_source']\n",
    "    record['contributors']=\", \".join(item['contributors'])\n",
    "    if item['status']=='valid':\n",
    "        record['status']='valid'\n",
    "    else:\n",
    "        record['status']='replaced'\n",
    "    records[mapcode]=record\n",
    "\n",
    "with open(outfile, 'w') as file:\n",
    "    yaml.dump(records, file)\n"
   ]
  },
  {
   "cell_type": "code",
   "execution_count": 229,
   "id": "16df13a9-1c2d-491b-bead-94705980c21a",
   "metadata": {},
   "outputs": [],
   "source": [
    "outfile =  repodir / 'Ecosystem-profiles-comments' / '_data' / 'maprefs.yaml'\n",
    "qry=\"\"\"\n",
    "    SELECT map_code,map_version,ARRAY_AGG(ref_code) as refs, ARRAY_AGG(dataset) as datasets\n",
    "    FROM map_references \n",
    "    GROUP BY map_code, map_version;\n",
    "    \"\"\"\n",
    "cur.execute(qry)\n",
    "refs = cur.fetchall()\n",
    "\n",
    "records=dict()\n",
    "records['MISSING']={'references':'Missing references'}\n",
    "for item in refs:\n",
    "    mapcode=\"%s_%s\" % (item['map_code'],item['map_version'])\n",
    "    records[mapcode]={'references':item['refs'],\n",
    "                      'datasets':item['datasets']}\n",
    "\n",
    "with open(outfile, 'w') as file:\n",
    "    yaml.dump(records, file)"
   ]
  },
  {
   "cell_type": "code",
   "execution_count": 230,
   "id": "2235f14a-c52e-47a4-aec8-f0adede65cad",
   "metadata": {},
   "outputs": [],
   "source": [
    "outfile =  repodir / 'Ecosystem-profiles-comments' / '_data' / 'efgrefs.yaml'\n",
    "qry=\"\"\"\n",
    "    SELECT code,ARRAY_AGG(ref_code) as refs \n",
    "    FROM efg_references \n",
    "    GROUP BY CODE\n",
    "    \"\"\"\n",
    "cur.execute(qry)\n",
    "refs = cur.fetchall()\n",
    "\n",
    "records=dict()\n",
    "records['MISSING']=('Missing references',)\n",
    "for item in refs:\n",
    "\n",
    "    records[item['code']]=item['refs']\n",
    "\n",
    "with open(outfile, 'w') as file:\n",
    "    yaml.dump(records, file)"
   ]
  },
  {
   "cell_type": "markdown",
   "id": "1d9de0b5-94cf-4904-9194-a7adf019adc9",
   "metadata": {
    "jp-MarkdownHeadingCollapsed": true,
    "tags": []
   },
   "source": [
    "## Update EFG content (short descriptions)"
   ]
  },
  {
   "cell_type": "code",
   "execution_count": 6,
   "id": "70d636ae-27f4-4ef6-acb8-e48bfa8efdb2",
   "metadata": {},
   "outputs": [],
   "source": [
    "qry=\"\"\"\n",
    "SELECT code, f.biome_code as biome, f.name, f.shortname, b.name as biome_name,\n",
    "    realms, f.update as original_date, shortdesc, keyfeatures, distdesc \n",
    "FROM functional_groups f\n",
    "LEFT JOIN biomes b\n",
    "    ON b.biome_code=f.biome_code\n",
    "ORDER BY code\n",
    ";\"\"\"\n",
    "cur.execute(qry)\n",
    "efgs = cur.fetchall()\n"
   ]
  },
  {
   "cell_type": "code",
   "execution_count": 7,
   "id": "644bcb03-e875-48d5-b789-6eb6d9e0b5b1",
   "metadata": {},
   "outputs": [
    {
     "data": {
      "text/plain": [
       "['F1.1',\n",
       " 'F1',\n",
       " 'F1.1 Permanent upland streams',\n",
       " 'F1.1 Perm upland streams',\n",
       " 'F1. Rivers and streams biome',\n",
       " ['Freshwater'],\n",
       " datetime.datetime(2020, 6, 24, 9, 42, 1),\n",
       " 'These small rivers or streams in mountainous or hilly areas are characterised by steep gradients and fast flow. They flow all year, increasing in wet periods, in humid tropical and temperate zones. Stones are common along their rapids and pools, turning over and oxygenating the water. Dependent organisms are specialised for these high flow-velocity environments, with resources for food webs derived mainly from the stream and inputs from adjacent and upstream vegetation.',\n",
       " 'High-medium velocity, low-medium volume perennial flows with abundant benthic filter feeders, algal biofilms & small fish',\n",
       " 'Global uplands with wet climates']"
      ]
     },
     "execution_count": 7,
     "metadata": {},
     "output_type": "execute_result"
    }
   ],
   "source": [
    "len(efgs)\n",
    "efgs[0]"
   ]
  },
  {
   "cell_type": "code",
   "execution_count": 8,
   "id": "33a57b52-b77a-4437-b643-d45cdc7de691",
   "metadata": {},
   "outputs": [],
   "source": [
    "template = \"\"\"---\n",
    "name: {name}\n",
    "shortname: {shortname}\n",
    "biome: {biome_name}\n",
    "realm: {realms}\n",
    "code: {code}\n",
    "biomecode: {biome}\n",
    "---\n",
    "\n",
    "{shortdesc}\n",
    "\n",
    "### Key Features\n",
    "\n",
    "{keyfeatures}.\n",
    "\n",
    "### Overview of distribution\n",
    "\n",
    "{distdesc}.\n",
    "\"\"\""
   ]
  },
  {
   "cell_type": "code",
   "execution_count": 11,
   "id": "b99addf1-ca5a-43cb-92b1-ff42550d9fd1",
   "metadata": {},
   "outputs": [],
   "source": [
    "for record in efgs:\n",
    "    outfile =  repodir / 'Ecosystem-profiles-comments' / '_EFGs' / (record['code'] + '.md')\n",
    "    outtext=template.format(**record)\n",
    "    with open(outfile,'w') as f:\n",
    "        f.write(outtext)"
   ]
  },
  {
   "cell_type": "markdown",
   "id": "ca94f184-0150-4ec1-98ab-2fea6d1a383d",
   "metadata": {
    "jp-MarkdownHeadingCollapsed": true,
    "tags": []
   },
   "source": [
    "## Content versions and contributors"
   ]
  },
  {
   "cell_type": "code",
   "execution_count": 25,
   "id": "9dbb1111-c348-4e00-9e19-f7b491983db7",
   "metadata": {
    "tags": []
   },
   "outputs": [],
   "source": [
    "sections = (\"Ecological Traits\",\"Key Ecological Drivers\",\"Distribution\")\n",
    "version = 'v2.1'\n",
    "records=dict()\n",
    "for efg in efgs:  \n",
    "    record=dict()\n",
    "    for section in sections:\n",
    "        qry =\"\"\"\n",
    "        SELECT description,contributors,version,update \n",
    "        FROM efg_%s \n",
    "        WHERE code = %s AND language = 'en'\n",
    "        ORDER BY update DESC;\n",
    "        \"\"\"\n",
    "        cur.execute(qry,(AsIs(section.lower().replace(' ','_')),efg['code']))\n",
    "        sectinfo = cur.fetchall()\n",
    "        \n",
    "        for row in sectinfo:\n",
    "            record[row['version']]={'contributors':row['contributors'],}\n",
    "            if isinstance(row['update'],datetime):\n",
    "                record[row['version']]['update']=row['update'].date()\n",
    "            if row['version']==version:\n",
    "                record[row['version']]['current']=True\n",
    "\n",
    "        records[efg['code']]=(record)"
   ]
  },
  {
   "cell_type": "code",
   "execution_count": 26,
   "id": "769eeee1-99fd-4454-902e-2ae9eff65585",
   "metadata": {},
   "outputs": [
    {
     "data": {
      "text/plain": [
       "{'v2.01': {'contributors': None},\n",
       " 'v2.1': {'contributors': ['DA Keith',\n",
       "   'RT Kingsford',\n",
       "   'F Essl',\n",
       "   'LJ Jackson',\n",
       "   'M Kelly-Quinn',\n",
       "   'KR Young',\n",
       "   'T Tahvanainen'],\n",
       "  'update': datetime.date(2022, 4, 6),\n",
       "  'current': True},\n",
       " 'v2.0': {'contributors': ['DA Keith',\n",
       "   'RT Kingsford',\n",
       "   'F Essl',\n",
       "   'LJ Jackson',\n",
       "   'M Kelly-Quinn',\n",
       "   'KR Young',\n",
       "   'T Tahvanainen'],\n",
       "  'update': datetime.date(2020, 6, 3)},\n",
       " 'v1.0': {'contributors': ['DA Keith',\n",
       "   'RT Kingsford',\n",
       "   'F Essl',\n",
       "   'LJ Jackson',\n",
       "   'T Tahvanainen'],\n",
       "  'update': datetime.date(2020, 1, 20)}}"
      ]
     },
     "execution_count": 26,
     "metadata": {},
     "output_type": "execute_result"
    }
   ],
   "source": [
    "record"
   ]
  },
  {
   "cell_type": "code",
   "execution_count": 27,
   "id": "ea85e4bc-c6f3-4dfd-a3b5-7994450c3cf5",
   "metadata": {},
   "outputs": [],
   "source": [
    "outfile =  repodir / 'Ecosystem-profiles-comments' / '_data' / 'efgversions.yaml'\n",
    "with open(outfile, 'w') as file:\n",
    "    yaml.dump(records, file, allow_unicode=True, encoding = 'utf-8')\n"
   ]
  },
  {
   "cell_type": "code",
   "execution_count": 170,
   "id": "4b543d02-5e5f-478d-a54e-7cbd437f7689",
   "metadata": {
    "tags": []
   },
   "outputs": [],
   "source": [
    "for record in records:\n",
    "    outfile =  repodir / 'Ecosystem-profiles-comments' / '_EFGs' / (record['code'] + '.md')\n",
    "    outtext=template.format(**record)\n",
    "    with open(outfile,'w') as f:\n",
    "        f.write(outtext)"
   ]
  },
  {
   "cell_type": "code",
   "execution_count": 197,
   "id": "d4c326fe-958d-4cc3-9042-4f6adca9c57b",
   "metadata": {
    "tags": []
   },
   "outputs": [],
   "source": [
    "sections = (\"Ecological Traits\",\"Key Ecological Drivers\",\"Distribution\")\n",
    "version = 'v2.1'\n",
    "records=list()\n",
    "for efg in efgs:\n",
    "    qry=\"\"\"\n",
    "    SELECT code,f.biome_code,f.name,b.name as biome_name,realms,f.update as original_date \n",
    "    FROM functional_groups f\n",
    "    LEFT JOIN biomes b\n",
    "        ON b.biome_code=f.biome_code\n",
    "    WHERE code = %s\n",
    "    ;\"\"\"\n",
    "    cur.execute(qry,(efg[0],))\n",
    "\n",
    "    efginfo = cur.fetchone()\n",
    "    record=dict()\n",
    "    \n",
    "    record['name']=efginfo['name']\n",
    "    record['biome']=efginfo['biome_name']\n",
    "    record['realm']=efginfo['realms']\n",
    "    record['code']=efginfo['code']\n",
    "    record['biomecode']=efginfo['biome_code']\n",
    "    record['contributors']=list()\n",
    "    \n",
    "    for section in sections:\n",
    "        qry =\"\"\"\n",
    "        SELECT description,contributors,version,update \n",
    "        FROM efg_%s \n",
    "        WHERE code = %s AND language = 'en' AND version=%s\n",
    "        ORDER BY update DESC;\n",
    "        \"\"\"\n",
    "        cur.execute(qry,(AsIs(section.lower().replace(' ','_')),efginfo['code'],version))\n",
    "        sectinfo = cur.fetchone()\n",
    "        record[section]=sectinfo['description']\n",
    "        for author in sectinfo['contributors']:\n",
    "            if author not in record['contributors']:\n",
    "                record['contributors'].append(author)\n",
    "        record['version']=\"%s (%s)\" % (sectinfo['version'],sectinfo['update'].date())\n",
    "\n",
    "    reflist1=list()\n",
    "    reflist2=list()\n",
    "\n",
    "    \n",
    "    qry=\"\"\"\n",
    "    SELECT map_code, map_version \n",
    "    FROM map_metadata WHERE code = %s AND status='valid' AND map_type='Indicative Map' \n",
    "    ORDER BY map_version DESC;\n",
    "    \"\"\"\n",
    "    cur.execute(qry,(efg[0],))\n",
    "    mapinfo = cur.fetchone()\n",
    "    if mapinfo is not None:\n",
    "        record['mapcode']=\"%s_%s\" % (mapinfo['map_code'],mapinfo['map_version'])\n",
    "    else:\n",
    "        record['mapcode']=\"MISSING\" \n",
    "\n",
    "\n",
    "    record['realmstr']=\", \".join(record['realm'])\n",
    "    record['contributorstr']=\", \".join(record['contributors'])\n",
    "    record['DAMtext']='{% include DAM.html %}'\n",
    "    \n",
    "    qry=\"\"\"\n",
    "    SELECT ref_cite \n",
    "    FROM efg_references as e \n",
    "    LEFT JOIN ref_list as l ON e.ref_code=l.ref_code \n",
    "    WHERE code = %s\n",
    "    ORDER BY ref_cite;\n",
    "    \"\"\"\n",
    "    cur.execute(qry,(efg[0],))\n",
    "    refs = cur.fetchall()\n",
    "    \n",
    "    for ref in refs:\n",
    "        if ref[0] is not None:\n",
    "            reflist1.append(\"* \"+ref[0])\n",
    "    \n",
    "    \n",
    "    #record['maprefstr']='{% for ref in map.contributors %}\\n* {{ref}}\\n{% endfor %}'\n",
    "    \n",
    "    #record['mainrefstr']=\"\\n\".join(reflist1)\n",
    "    \n",
    "    records.append(record)"
   ]
  },
  {
   "cell_type": "markdown",
   "id": "0b58a720-f48c-45a3-b01f-d90a0eb59f8f",
   "metadata": {
    "jp-MarkdownHeadingCollapsed": true,
    "tags": []
   },
   "source": [
    "## Add maps with version codes"
   ]
  },
  {
   "cell_type": "markdown",
   "id": "9d252ec1-e849-4125-a2bb-34ec66b9c5e9",
   "metadata": {},
   "source": [
    "## Add map descriptions"
   ]
  },
  {
   "cell_type": "markdown",
   "id": "c3551ede-599a-4d16-ae08-1451b8f0c822",
   "metadata": {
    "tags": []
   },
   "source": [
    "## Close database connection"
   ]
  },
  {
   "cell_type": "code",
   "execution_count": 227,
   "id": "2ae68de6-5d90-479a-8bde-57d90c54e64b",
   "metadata": {},
   "outputs": [
    {
     "name": "stdout",
     "output_type": "stream",
     "text": [
      "Database connection closed.\n"
     ]
    }
   ],
   "source": [
    "\n",
    "cur.close()\n",
    "        \n",
    "if conn is not None:\n",
    "    conn.close()\n",
    "    print('Database connection closed.')"
   ]
  },
  {
   "cell_type": "code",
   "execution_count": null,
   "id": "749cc3b7-85cc-4bd3-89b4-0e694a459b30",
   "metadata": {},
   "outputs": [],
   "source": []
  }
 ],
 "metadata": {
  "kernelspec": {
   "display_name": "Python 3 (ipykernel)",
   "language": "python",
   "name": "python3"
  },
  "language_info": {
   "codemirror_mode": {
    "name": "ipython",
    "version": 3
   },
   "file_extension": ".py",
   "mimetype": "text/x-python",
   "name": "python",
   "nbconvert_exporter": "python",
   "pygments_lexer": "ipython3",
   "version": "3.10.2"
  }
 },
 "nbformat": 4,
 "nbformat_minor": 5
}

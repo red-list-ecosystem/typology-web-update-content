{
 "cells": [
  {
   "cell_type": "markdown",
   "id": "a289989a-b19b-4baf-920a-5fc29871c907",
   "metadata": {},
   "source": [
    "# Update maps for functional groups of the IUCN Global Ecosystem typology\n",
    "\n",
    "Scripts by José R. Ferrer-Paris\n",
    "\n",
    "The scripts described in this document are used to:\n",
    "\n",
    "- Check map information in the database\n",
    "- Read json file with map information for each EFG\n",
    "- Upload maps to mapbox"
   ]
  },
  {
   "cell_type": "markdown",
   "id": "d5acdbc8-0e4c-45d3-87cf-969da6a09f7a",
   "metadata": {
    "tags": []
   },
   "source": [
    "## Set-up\n",
    "Load all the libraries we will need in this script:"
   ]
  },
  {
   "cell_type": "code",
   "execution_count": 1,
   "id": "6b006f52-42ae-4a9d-99ed-50010186aa8c",
   "metadata": {},
   "outputs": [],
   "source": [
    "import os\n",
    "from pathlib import Path\n",
    "from configparser import ConfigParser\n",
    "import psycopg2\n",
    "import pandas as pd\n",
    "import json\n",
    "import requests\n"
   ]
  },
  {
   "cell_type": "markdown",
   "id": "abf95724-1d65-4217-8bc0-85edb2782934",
   "metadata": {},
   "source": [
    "Read configuration parameters for the connection to the current version of the database:"
   ]
  },
  {
   "cell_type": "code",
   "execution_count": 10,
   "id": "582856ba-df77-47e2-b245-3df2f3f99364",
   "metadata": {},
   "outputs": [],
   "source": [
    "filename = Path(os.path.expanduser('~')) / \".database.ini\"\n",
    "section = 'psqlaws'\n",
    "\n",
    "parser = ConfigParser()\n",
    "parser.read(filename)\n",
    "db = {}\n",
    "if parser.has_section(section):\n",
    "    params = parser.items(section)\n",
    "    for param in params:\n",
    "        db[param[0]] = param[1]\n",
    "else:\n",
    "    raise Exception('Section {0} not found in the {1} file'.format(section, filename))\n",
    "\n",
    "params = db"
   ]
  },
  {
   "cell_type": "code",
   "execution_count": 15,
   "id": "038b624d-3865-4f4b-ad37-9073c9db339d",
   "metadata": {},
   "outputs": [],
   "source": [
    "conn = psycopg2.connect(**params)\n",
    "cur = conn.cursor()"
   ]
  },
  {
   "cell_type": "markdown",
   "id": "f04d2ee6-cfa0-4b2e-863f-d24e62275d4c",
   "metadata": {},
   "source": [
    "## Update information from mapbox API"
   ]
  },
  {
   "cell_type": "code",
   "execution_count": 60,
   "id": "bec36437-af19-4667-9061-2efe1f89760e",
   "metadata": {},
   "outputs": [
    {
     "data": {
      "text/plain": [
       "<Response [200]>"
      ]
     },
     "execution_count": 60,
     "metadata": {},
     "output_type": "execute_result"
    }
   ],
   "source": [
    "MBfile = Path(os.path.expanduser('~'))  / \".mapbox.upload.token\"\n",
    "MBuser = \"jrfep\"\n",
    "\n",
    "with open(MBfile) as file:\n",
    "    MBtoken = file.read().strip()\n",
    "\n",
    "headers = {\"Content-Type\": \"application/json\"}\n",
    "    \n",
    "api_rqst = requests.get(\"https://api.mapbox.com/uploads/v1/%s\" % MBuser,\n",
    "                   params={'access_token': MBtoken},\n",
    "                   headers=headers)\n",
    "api_rqst\n",
    "#text = api_rqst.text\n",
    "\n",
    "#https://api.mapbox.com/uploads/v1/%s?access_token=%s\"\n",
    "#rslt <- system(sprintf(\"curl https://api.mapbox.com/uploads/v1/%s?access_token=%s\",MB.user,MB.token),intern=T)\n",
    "#mbx.data <-  fromJSON(rslt)\n"
   ]
  },
  {
   "cell_type": "code",
   "execution_count": 67,
   "id": "18a334c4-55b5-4511-9ad2-7d44f5eefa6d",
   "metadata": {},
   "outputs": [],
   "source": [
    "records=list()\n",
    "for item in api_rqst.json():\n",
    "    if item['complete']==True and item['error'] is None:\n",
    "        w = item['name'].split()\n",
    "        record={'code':w[2],'map_code':w[5],'map_version':w[6],\n",
    "                'tileset':item['tileset'],\n",
    "                'created':item['created']}\n",
    "        if record not in records:\n",
    "            records.append(record)\n"
   ]
  },
  {
   "cell_type": "code",
   "execution_count": 68,
   "id": "7c3b900c-8884-4301-b4b8-036f73ac19ee",
   "metadata": {},
   "outputs": [
    {
     "data": {
      "text/plain": [
       "51"
      ]
     },
     "execution_count": 68,
     "metadata": {},
     "output_type": "execute_result"
    }
   ],
   "source": [
    "len(records)"
   ]
  },
  {
   "cell_type": "code",
   "execution_count": 69,
   "id": "abe80ae3-3075-4c48-b967-bcfd6a2cbfc0",
   "metadata": {},
   "outputs": [],
   "source": [
    "\n",
    "upd = \"\"\"INSERT INTO map_files(map_code,map_version,map_file,file_description,file_comments) \n",
    "VALUES (%s,%s,%s,%s,%s)\n",
    "ON CONFLICT (map_code,map_version,map_file) DO UPDATE SET file_comments=EXCLUDED.file_comments\"\"\"\n",
    "for record in records:\n",
    "    map_file = 'https://studio.mapbox.com/tilesets/' + record['tileset']\n",
    "    map_desc=\"raster map in repository\"\n",
    "    map_comm=\"GeoTIFF version uploaded to Mapbox on \" + record['created']     \n",
    "    cur.execute(upd,(record['map_code'],record['map_version'],map_file,map_desc,map_comm))\n",
    "conn.commit()"
   ]
  },
  {
   "cell_type": "markdown",
   "id": "61042130-b0a5-4a1b-bd9e-7ec682b0e76c",
   "metadata": {
    "tags": []
   },
   "source": [
    "## List of valid maps"
   ]
  },
  {
   "cell_type": "code",
   "execution_count": 70,
   "id": "16de65cf-2bae-4cf0-8cef-68d00ce20eb3",
   "metadata": {},
   "outputs": [],
   "source": [
    "qry=\"\"\"\n",
    "SELECT code, map_code, map_version,map_type, status, update\n",
    "FROM  map_metadata\n",
    "WHERE status ilike 'valid'\n",
    "ORDER BY code\n",
    "\"\"\";\n",
    "cur.execute(qry)\n",
    "valid_maps=cur.fetchall()"
   ]
  },
  {
   "cell_type": "code",
   "execution_count": 71,
   "id": "12dbafe8-e825-40cf-8a35-8b34e3ebb250",
   "metadata": {
    "tags": []
   },
   "outputs": [],
   "source": [
    "\n",
    "df=pd.DataFrame(valid_maps,columns=['code','map_code', 'map_version', 'map_type','status', 'update'])\n"
   ]
  },
  {
   "cell_type": "code",
   "execution_count": 72,
   "id": "e4922678-c547-4cbd-ae51-aa2527a4e097",
   "metadata": {},
   "outputs": [
    {
     "data": {
      "text/html": [
       "<div>\n",
       "<style scoped>\n",
       "    .dataframe tbody tr th:only-of-type {\n",
       "        vertical-align: middle;\n",
       "    }\n",
       "\n",
       "    .dataframe tbody tr th {\n",
       "        vertical-align: top;\n",
       "    }\n",
       "\n",
       "    .dataframe thead th {\n",
       "        text-align: right;\n",
       "    }\n",
       "</style>\n",
       "<table border=\"1\" class=\"dataframe\">\n",
       "  <thead>\n",
       "    <tr style=\"text-align: right;\">\n",
       "      <th></th>\n",
       "      <th>code</th>\n",
       "      <th>map_code</th>\n",
       "      <th>map_version</th>\n",
       "      <th>map_type</th>\n",
       "      <th>status</th>\n",
       "      <th>update</th>\n",
       "    </tr>\n",
       "  </thead>\n",
       "  <tbody>\n",
       "    <tr>\n",
       "      <th>196</th>\n",
       "      <td>T7.5</td>\n",
       "      <td>T7.5.WM.nwx</td>\n",
       "      <td>v2.0</td>\n",
       "      <td>Indicative Map</td>\n",
       "      <td>valid</td>\n",
       "      <td>2021-11-19 00:19:08</td>\n",
       "    </tr>\n",
       "  </tbody>\n",
       "</table>\n",
       "</div>"
      ],
      "text/plain": [
       "     code     map_code map_version        map_type status              update\n",
       "196  T7.5  T7.5.WM.nwx        v2.0  Indicative Map  valid 2021-11-19 00:19:08"
      ]
     },
     "execution_count": 72,
     "metadata": {},
     "output_type": "execute_result"
    }
   ],
   "source": [
    "df1=df.query(\"code=='T7.5'\")\n",
    "df1"
   ]
  },
  {
   "cell_type": "code",
   "execution_count": 73,
   "id": "8219636d-f6dc-4b3f-8f0e-76417904e10d",
   "metadata": {},
   "outputs": [],
   "source": [
    "qry=\"\"\"\n",
    "SELECT code, map_code, map_version, map_file, file_description, file_comments,status\n",
    "FROM map_files\n",
    "LEFT JOIN map_metadata\n",
    "USING(map_code,map_version)\n",
    "WHERE map_file ilike '%mapbox%'\n",
    "ORDER BY code\n",
    "\"\"\";\n",
    "cur.execute(qry)\n",
    "list_maps=cur.fetchall()"
   ]
  },
  {
   "cell_type": "code",
   "execution_count": 74,
   "id": "421f0d6f-40cc-498e-a5dd-7f4ff75ee873",
   "metadata": {},
   "outputs": [],
   "source": [
    "df=pd.DataFrame(list_maps,columns=['code','map_code', 'map_version','map_file', 'description', 'comment', 'status'])"
   ]
  },
  {
   "cell_type": "code",
   "execution_count": 75,
   "id": "0ed7a959-02db-4d3b-8611-8ccb7468dc33",
   "metadata": {},
   "outputs": [
    {
     "data": {
      "text/html": [
       "<div>\n",
       "<style scoped>\n",
       "    .dataframe tbody tr th:only-of-type {\n",
       "        vertical-align: middle;\n",
       "    }\n",
       "\n",
       "    .dataframe tbody tr th {\n",
       "        vertical-align: top;\n",
       "    }\n",
       "\n",
       "    .dataframe thead th {\n",
       "        text-align: right;\n",
       "    }\n",
       "</style>\n",
       "<table border=\"1\" class=\"dataframe\">\n",
       "  <thead>\n",
       "    <tr style=\"text-align: right;\">\n",
       "      <th></th>\n",
       "      <th>code</th>\n",
       "      <th>map_code</th>\n",
       "      <th>map_version</th>\n",
       "      <th>map_file</th>\n",
       "      <th>description</th>\n",
       "      <th>comment</th>\n",
       "      <th>status</th>\n",
       "    </tr>\n",
       "  </thead>\n",
       "  <tbody>\n",
       "    <tr>\n",
       "      <th>128</th>\n",
       "      <td>T7.5</td>\n",
       "      <td>T7.5.WM.nwx</td>\n",
       "      <td>v2.0</td>\n",
       "      <td>https://studio.mapbox.com/tilesets/jrfep.T7_5_...</td>\n",
       "      <td>raster map in repository</td>\n",
       "      <td>GeoTIFF version uploaded to Mapbox on 2022-05-...</td>\n",
       "      <td>valid</td>\n",
       "    </tr>\n",
       "  </tbody>\n",
       "</table>\n",
       "</div>"
      ],
      "text/plain": [
       "     code     map_code map_version  \\\n",
       "128  T7.5  T7.5.WM.nwx        v2.0   \n",
       "\n",
       "                                              map_file  \\\n",
       "128  https://studio.mapbox.com/tilesets/jrfep.T7_5_...   \n",
       "\n",
       "                  description  \\\n",
       "128  raster map in repository   \n",
       "\n",
       "                                               comment status  \n",
       "128  GeoTIFF version uploaded to Mapbox on 2022-05-...  valid  "
      ]
     },
     "execution_count": 75,
     "metadata": {},
     "output_type": "execute_result"
    }
   ],
   "source": [
    "df1=df.query(\"code=='T7.5' and status=='valid'\")\n",
    "df1"
   ]
  },
  {
   "cell_type": "code",
   "execution_count": 76,
   "id": "2c89288b-1ccb-4daa-b000-9c3b26c0bf18",
   "metadata": {},
   "outputs": [
    {
     "data": {
      "text/plain": [
       "array([['v2.0', 'https://studio.mapbox.com/tilesets/jrfep.T7_5_WM_nwx']],\n",
       "      dtype=object)"
      ]
     },
     "execution_count": 76,
     "metadata": {},
     "output_type": "execute_result"
    }
   ],
   "source": [
    "df1[['map_version','map_file']].values"
   ]
  },
  {
   "cell_type": "markdown",
   "id": "d88f5a67-f054-41aa-975c-ba2262b20544",
   "metadata": {},
   "source": [
    "Read json file"
   ]
  },
  {
   "cell_type": "code",
   "execution_count": 77,
   "id": "19efa48d-1360-4206-8da8-e878433daac4",
   "metadata": {},
   "outputs": [],
   "source": [
    "#config.json <- read_json(sprintf(\"%s/data/config/groups.json\", Sys.getenv(\"WEBDATAREPO\")))\n",
    "web_config = Path(os.environ['WEBDATAREPO']) / 'data/config/groups.json'\n",
    "with open(web_config) as f:\n",
    "    config_json = json.load(f)\n",
    "\n"
   ]
  },
  {
   "cell_type": "code",
   "execution_count": 78,
   "id": "8d626624-9203-41ec-87af-280bf49789d0",
   "metadata": {},
   "outputs": [
    {
     "data": {
      "text/plain": [
       "{'id': 'T7.3',\n",
       " 'path': 't_7_3',\n",
       " 'biome': 'T7',\n",
       " 'layer': {'source': 'mapbox',\n",
       "  'type': 'raster',\n",
       "  'tileset': 'jrfep.T7_3_web_alt',\n",
       "  'extent': {'N': '90', 'S': '90', 'W': '180', 'E': '180'}},\n",
       " 'title': {'en': 'Plantations'},\n",
       " 'image': {'credit': {'en': 'Prashant Y on Flickr, CC BY 2.0'},\n",
       "  'caption': {'en': 'Multi-species plantation (shade coffee), Chikmagalur, India'}}}"
      ]
     },
     "execution_count": 78,
     "metadata": {},
     "output_type": "execute_result"
    }
   ],
   "source": [
    "config_json[100]"
   ]
  },
  {
   "cell_type": "code",
   "execution_count": 79,
   "id": "370268a6-eef8-4702-9ff5-5a2cc083e82b",
   "metadata": {},
   "outputs": [],
   "source": [
    "for r in config_json:\n",
    "    efg=r['id']\n",
    "    if 'layer' in r.keys() and r['layer']['source']=='mapbox':\n",
    "        old_tileset = r['layer']['tileset']\n",
    "        df1=df.query(\"code=='%s' and status=='valid'\" % efg)\n",
    "        new_url = df1[['map_file']].values\n",
    "        if len(new_url)==1:\n",
    "            new_tileset = new_url[0][0].split(\"/\")[4]\n",
    "            if new_tileset!=old_tileset:\n",
    "                print(\"Tileset changed from %s to %s for %s\" % (old_tileset,new_tileset,efg))\n",
    "                r['layer']['tileset']=new_tileset\n",
    "                "
   ]
  },
  {
   "cell_type": "code",
   "execution_count": 80,
   "id": "9e19e55b-88d2-4a5c-b5ac-daf4238966b0",
   "metadata": {},
   "outputs": [
    {
     "data": {
      "text/plain": [
       "{'id': 'T7.3',\n",
       " 'path': 't_7_3',\n",
       " 'biome': 'T7',\n",
       " 'layer': {'source': 'mapbox',\n",
       "  'type': 'raster',\n",
       "  'tileset': 'jrfep.T7_3_web_alt',\n",
       "  'extent': {'N': '90', 'S': '90', 'W': '180', 'E': '180'}},\n",
       " 'title': {'en': 'Plantations'},\n",
       " 'image': {'credit': {'en': 'Prashant Y on Flickr, CC BY 2.0'},\n",
       "  'caption': {'en': 'Multi-species plantation (shade coffee), Chikmagalur, India'}}}"
      ]
     },
     "execution_count": 80,
     "metadata": {},
     "output_type": "execute_result"
    }
   ],
   "source": [
    "config_json[100]"
   ]
  },
  {
   "cell_type": "code",
   "execution_count": 81,
   "id": "191f9c78-2276-4344-8659-a745ce85bc4e",
   "metadata": {},
   "outputs": [],
   "source": [
    "#json_object =json.dumps(config_json, indent = 2).encode('utf8')\n",
    "with open(web_config,\"w\", encoding='utf8') as f:\n",
    "    json.dump(config_json, f, ensure_ascii=False, indent = 2)\n",
    "    #f.write(json_object)\n",
    "#with open('filename', 'w', encoding='utf8') as json_file:\n",
    "#    json.dump(\"ברי צקלה\", json_file, ensure_ascii=False)"
   ]
  },
  {
   "cell_type": "markdown",
   "id": "caf04bf9-ab1c-4641-97f6-4a19dee5af5c",
   "metadata": {},
   "source": [
    "## That's it\n",
    "\n",
    "Let's close the connection:"
   ]
  },
  {
   "cell_type": "code",
   "execution_count": 14,
   "id": "4b7de923-860f-4682-854b-dce7fb0da7c0",
   "metadata": {},
   "outputs": [
    {
     "name": "stdout",
     "output_type": "stream",
     "text": [
      "Database connection closed.\n"
     ]
    }
   ],
   "source": [
    "\n",
    "cur.close()\n",
    "        \n",
    "if conn is not None:\n",
    "    conn.close()\n",
    "    print('Database connection closed.')"
   ]
  },
  {
   "cell_type": "code",
   "execution_count": null,
   "id": "522c7f75-a1da-4212-a4ff-b84666ada4ef",
   "metadata": {},
   "outputs": [],
   "source": []
  }
 ],
 "metadata": {
  "kernelspec": {
   "display_name": "Python 3 (ipykernel)",
   "language": "python",
   "name": "python3"
  },
  "language_info": {
   "codemirror_mode": {
    "name": "ipython",
    "version": 3
   },
   "file_extension": ".py",
   "mimetype": "text/x-python",
   "name": "python",
   "nbconvert_exporter": "python",
   "pygments_lexer": "ipython3",
   "version": "3.10.2"
  }
 },
 "nbformat": 4,
 "nbformat_minor": 5
}

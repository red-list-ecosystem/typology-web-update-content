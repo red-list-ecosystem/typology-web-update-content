{
 "cells": [
  {
   "cell_type": "markdown",
   "id": "a289989a-b19b-4baf-920a-5fc29871c907",
   "metadata": {},
   "source": [
    "# Update FAQ json file for the IUCN Global Ecosystem typology\n",
    "\n",
    "Scripts by José R. Ferrer-Paris\n",
    "\n",
    "The scripts described in this document are used to:\n",
    "\n",
    "- Read/write json file with FAQ groups, questions and answers"
   ]
  },
  {
   "cell_type": "markdown",
   "id": "d5acdbc8-0e4c-45d3-87cf-969da6a09f7a",
   "metadata": {
    "tags": []
   },
   "source": [
    "## Set-up\n",
    "Load all the libraries we will need in this script:"
   ]
  },
  {
   "cell_type": "code",
   "execution_count": 1,
   "id": "6b006f52-42ae-4a9d-99ed-50010186aa8c",
   "metadata": {},
   "outputs": [],
   "source": [
    "import os\n",
    "from pathlib import Path\n",
    "import json\n",
    "import requests\n",
    "import re\n"
   ]
  },
  {
   "cell_type": "markdown",
   "id": "d84ff4c8-a956-4785-a92b-fd4642767a6d",
   "metadata": {},
   "source": [
    "## Read json files"
   ]
  },
  {
   "cell_type": "markdown",
   "id": "d88f5a67-f054-41aa-975c-ba2262b20544",
   "metadata": {},
   "source": [
    "Read json file"
   ]
  },
  {
   "cell_type": "code",
   "execution_count": 2,
   "id": "19efa48d-1360-4206-8da8-e878433daac4",
   "metadata": {},
   "outputs": [],
   "source": [
    "#config.json <- read_json(sprintf(\"%s/data/config/groups.json\", Sys.getenv(\"WEBDATAREPO\")))\n",
    "home = os.environ.get('HOME')\n",
    "webdatarepo = os.environ.get('WEBDATAREPO', home + '/proyectos/typology-website/typology-map-data')\n"
   ]
  },
  {
   "cell_type": "code",
   "execution_count": 3,
   "id": "6e2129ce-ae7d-414c-83e7-fa42eb0cd33b",
   "metadata": {},
   "outputs": [
    {
     "data": {
      "text/plain": [
       "PosixPath('/Users/z3529065/proyectos/typology-website/typology-map-data')"
      ]
     },
     "execution_count": 3,
     "metadata": {},
     "output_type": "execute_result"
    }
   ],
   "source": [
    "Path(webdatarepo)"
   ]
  },
  {
   "cell_type": "code",
   "execution_count": 4,
   "id": "482a01fe-e110-422c-8fe2-f695dac984f2",
   "metadata": {},
   "outputs": [],
   "source": [
    "web_config_faq = Path(webdatarepo) / 'data/config/faqs.json'\n",
    "with open(web_config_faq) as f:\n",
    "    faq_json = json.load(f)"
   ]
  },
  {
   "cell_type": "code",
   "execution_count": 8,
   "id": "8d626624-9203-41ec-87af-280bf49789d0",
   "metadata": {},
   "outputs": [
    {
     "data": {
      "text/plain": [
       "2"
      ]
     },
     "execution_count": 8,
     "metadata": {},
     "output_type": "execute_result"
    }
   ],
   "source": [
    "len(faq_json)"
   ]
  },
  {
   "cell_type": "code",
   "execution_count": 9,
   "id": "84fefbd8-0304-4b01-8897-7a69d0ff28ef",
   "metadata": {},
   "outputs": [
    {
     "data": {
      "text/plain": [
       "{'id': 'faq-group-2',\n",
       " 'title': {'en': 'FAQ Group 2', 'es': 'FAQ Group 2 (es)'},\n",
       " 'faqs': [{'question': {'en': 'Another question?',\n",
       "    'es': 'Another question? (es)'},\n",
       "   'answer': {'en': 'Some', 'es': 'Algunos (es)'}},\n",
       "  {'question': {'en': 'Another question?', 'es': 'Another question? (es)'},\n",
       "   'answer': {'en': 'Another answer', 'es': 'Another answer (es)'}}]}"
      ]
     },
     "execution_count": 9,
     "metadata": {},
     "output_type": "execute_result"
    }
   ],
   "source": [
    "faq_json[1]"
   ]
  },
  {
   "cell_type": "code",
   "execution_count": 16,
   "id": "2c04fade-1c2d-43f9-9c99-9dfbfed6711d",
   "metadata": {},
   "outputs": [],
   "source": [
    "Q1 = {'question': \n",
    " {'en':\n",
    "  'Is there a way to import polygons/type in coordinates into the analyse tool and consolidate data outputs?',\n",
    "  'es':\n",
    "  'Es posible importar polígonos o introducir coordenadas en la herramienta de análisis y consolidar los resultados por polígono?'},\n",
    "  'answer': {'en': 'The analyse tool is only available for simple analysis. ' +\n",
    "      'We recommend using other geospatial tools for more tailored analysis. ' +\n",
    "      'Available geospatial data and tools are listed in the [resources page](resources).', \n",
    "             'es': 'La herramienta de análisis está disponible para análisis sencillos.' +  \n",
    "             'Recomendamos usar otras herramientas geoespaciales para análisis especializados.'+\n",
    "             'Puede revisar la [página de recursos](resources) para consultar datos y herramientas geoespaciales disponibles.'}}\n",
    " "
   ]
  },
  {
   "cell_type": "code",
   "execution_count": 17,
   "id": "282e238d-9d24-48e2-94fe-35bb3b68eda0",
   "metadata": {},
   "outputs": [],
   "source": [
    "faq_json[1]['faqs'] = [Q1]"
   ]
  },
  {
   "cell_type": "code",
   "execution_count": 18,
   "id": "d2252fee-6530-43e6-80ce-566c0761326e",
   "metadata": {},
   "outputs": [
    {
     "data": {
      "text/plain": [
       "{'id': 'faq-group-2',\n",
       " 'title': {'en': 'FAQ Group 2', 'es': 'FAQ Group 2 (es)'},\n",
       " 'faqs': [{'question': {'en': 'Is there a way to import polygons/type in coordinates into the analyse tool and consolidate data outputs?',\n",
       "    'es': 'Es posible importar polígonos o introducir coordenadas en la herramienta de análisis y consolidar los resultados por polígono?'},\n",
       "   'answer': {'en': 'The analyse tool is only available for simple analysis. We recommend using other geospatial tools for more tailored analysis. Available geospatial data and tools are listed in the [resources page](resources).',\n",
       "    'es': 'La herramienta de análisis está disponible para análisis sencillos.Recomendamos usar otras herramientas geoespaciales para análisis especializados.Puede revisar la [página de recursos](resources) para consultar datos y herramientas geoespaciales disponibles.'}}]}"
      ]
     },
     "execution_count": 18,
     "metadata": {},
     "output_type": "execute_result"
    }
   ],
   "source": [
    "faq_json[1]"
   ]
  },
  {
   "cell_type": "code",
   "execution_count": 19,
   "id": "191f9c78-2276-4344-8659-a745ce85bc4e",
   "metadata": {},
   "outputs": [],
   "source": [
    "with open(web_config_faq,\"w\", encoding='utf8') as f:\n",
    "    json.dump(faq_json, f, ensure_ascii=False, indent = 2)\n"
   ]
  },
  {
   "cell_type": "code",
   "execution_count": 20,
   "id": "370268a6-eef8-4702-9ff5-5a2cc083e82b",
   "metadata": {},
   "outputs": [
    {
     "data": {
      "text/plain": [
       "{'id': 'T7.3',\n",
       " 'path': 't_7_3',\n",
       " 'biome': 'T7',\n",
       " 'layer': {'source': 'mapbox',\n",
       "  'type': 'raster',\n",
       "  'tileset': 'jrfep.T7_3_web_alt',\n",
       "  'extent': {'N': '90', 'S': '90', 'W': '180', 'E': '180'}},\n",
       " 'title': {'en': 'Plantations', 'es': 'Plantaciones'},\n",
       " 'image': {'credit': {'en': 'Prashant Y on Flickr, CC BY 2.0'},\n",
       "  'caption': {'en': 'Multi-species plantation (shade coffee), Chikmagalur, India'}}}"
      ]
     },
     "execution_count": 20,
     "metadata": {},
     "output_type": "execute_result"
    }
   ],
   "source": [
    "\n",
    "Q1 = {'question': \n",
    " {'en':\n",
    "  'Where can I download the map data?',\n",
    "  'es':''},\n",
    " 'answer': {'en': 'No', 'es': 'No'}}\n",
    "      \n",
    "Q1 = {'question': \n",
    " {'en':\n",
    "  'Some areas come up with no terrestrial/marine/freshwater functional groups (e.g. X country/region has no terrestrial/marine/freshwater functional groups)',\n",
    "  'es':''},\n",
    " 'answer': {'en': 'No', 'es': 'No'}}\n",
    "Q1 = {'question': \n",
    " {'en':\n",
    "  'How can I find out the area in km2 and percentage cover for each group in a country? The report of % cover doesn't make sense without this',\n",
    "  'es':''},\n",
    " 'answer': {'en': 'No', 'es': 'No'}}\n",
    "Q1 = {'question': \n",
    " {'en':\n",
    "  'The map in area X is wrong, the units are wrongly classified / why is area X classified as Y? / area X should be Z instead of Y',\n",
    "  'es':''},\n",
    " 'answer': {'en': 'No', 'es': 'No'}}\n",
    "Q1 = {'question': \n",
    " {'en':\n",
    "  'I want to use the maps for environmental accounting/ecosystem services/etc',\n",
    "  'es':''},\n",
    " 'answer': {'en': 'No', 'es': 'No'}}\n",
    "Q1 = {'question': \n",
    " {'en':\n",
    "  'I want to download the results for a custom region/polygon together with the spatial boundary',\n",
    "  'es':''},\n",
    " 'answer': {'en': 'No', 'es': 'No'}}\n",
    "Q1 = {'question': \n",
    " {'en':\n",
    "  'I can not find a location/region in the map / I can not search for a region name or address / the region X should be named Y / Names of the base map are different in my language',\n",
    "  'es':''},\n",
    " 'answer': {'en': 'No', 'es': 'No'}}\n",
    "Q1 = {'question': \n",
    " {'en':\n",
    "  'I want to know the resolution of map X / can you indicate the resolution or accuracy of the maps? what is the maximum zoom level you can get?',\n",
    "  'es':''},\n",
    " 'answer': {'en': 'No', 'es': 'No'}}\n",
    "Q1 = {'question': \n",
    " {'en':\n",
    "  'Do you have an API/webservice/CSV table to access data, maps or analyse results',\n",
    "  'es':''},\n",
    " 'answer': {'en': 'No', 'es': 'No'}}\n",
    "Q1 = {'question': \n",
    " {'en':\n",
    "  'I want to use the maps to analize natural capital assets of a client',\n",
    "  'es':''},\n",
    " 'answer': {'en': 'No', 'es': 'No'}}\n",
    "Q1 = {'question': \n",
    " {'en':\n",
    "  'Can I use the results of the analize function in a report for my client' ,\n",
    "  'es':''},\n",
    " 'answer': {'en': 'No', 'es': 'No'}}\n",
    "Q1 = {'question': \n",
    " {'en':\n",
    "  'When will this be developed for level 4, 5 and 6',\n",
    "  'es':''},\n",
    " 'answer': {'en': 'No', 'es': 'No'}}\n",
    "Q1 = {'question': \n",
    " {'en':\n",
    "  'Map X has coarse resolution',\n",
    "  'es':''},\n",
    " 'answer': {'en': 'No', 'es': 'No'}}\n",
    "Q1 = {'question': \n",
    " {'en':\n",
    "  'Why can't I see all the maps (or a group of maps) together?',\n",
    "  'es':''},\n",
    " 'answer': {'en': 'No', 'es': 'No'}}\n",
    "Q1 = {'question': \n",
    " {'en':\n",
    "  'I found a discrepancy between profile X and profile Y',\n",
    "  'es':''},\n",
    " 'answer': {'en': 'No', 'es': 'No'}}\n",
    "Q1 = {'question': \n",
    " {'en':\n",
    "  'Are there maps for Biomes? Can I download maps for Biomes?',\n",
    "  'es':''},\n",
    " 'answer': {'en': 'No', 'es': 'No'}}\n",
    "Q1 = {'question': \n",
    " {'en':\n",
    "  'I am studying ecosystems in X group, where do I find more references/experts about this group? I have specific questions to discuss with experts',\n",
    "  'es':''},\n",
    " 'answer': {'en': 'No', 'es': 'No'}}\n",
    "Q1 = {'question': \n",
    " {'en':\n",
    "  'We need more specific data for a region/biome/country',\n",
    "  'es':''},\n",
    " 'answer': {'en': 'No', 'es': 'No'}}\n",
    "Q1 = {'question': \n",
    " {'en':\n",
    "  'Is work under development? updates and improvements?',\n",
    "  'es':''},\n",
    " 'answer': {'en': 'No', 'es': 'No'}}\n",
    "Q1 = {'question': \n",
    " {'en':\n",
    "  'For map X, the data is pixelated...',\n",
    "  'es':''},\n",
    " 'answer': {'en': 'No', 'es': 'No'}}\n",
    "Q1 = {'question': \n",
    " {'en':\n",
    "  'I don't understand the meaning of code for groups or maps',\n",
    "  'es':''},\n",
    " 'answer': {'en': 'No', 'es': 'No'}}\n",
    "Q1 = {'question': \n",
    " {'en':\n",
    "  'I think more photos or illustrations would make people easily understand the classification concepts or key traits between different EFGs',\n",
    "  'es':''},\n",
    " 'answer': {'en': 'No', 'es': 'No'}}\n",
    "Q1 = {'question': \n",
    " {'en':\n",
    "  'I want to use the profiles in Wikipedia/other website for educational purposes',\n",
    "  'es':''},\n",
    " 'answer': {'en': 'No', 'es': 'No'}}\n",
    "Q1 = {'question': \n",
    " {'en':\n",
    "  'Why is the content not in my language?',\n",
    "  'es':''},\n",
    " 'answer': {'en': 'No', 'es': 'No'}}\n",
    "Q1 = {'question': \n",
    " {'en':\n",
    "  'Ecolinguistics?',\n",
    "  'es':''},\n",
    " 'answer': {'en': 'No', 'es': 'No'}}\n",
    "Q1 = {'question': \n",
    " {'en':\n",
    "  'There is no biome or functional group in the Atmospheric realm',\n",
    "  'es':''},\n",
    " 'answer': {'en': 'No', 'es': 'No'}}\n",
    "Q1 = {'question': \n",
    " {'en':\n",
    "  'How to interpret the country results from the analize function?',\n",
    "  'es':''},\n",
    " 'answer': {'en': 'No', 'es': 'No'}}\n",
    "Q1 = {'question': \n",
    " {'en':\n",
    "  'I have specific feedback about profiles of functional groups',\n",
    "  'es':''},\n",
    " 'answer': {'en': 'No', 'es': 'No'}}\n",
    "Q1 = {'question': \n",
    " {'en':\n",
    "  'Tools for linking to other platforms',\n",
    "  'es':''},\n",
    " 'answer': {'en': 'No', 'es': 'No'}}\n",
    "Q1 = {'question': \n",
    " {'en':\n",
    "  'I have a question about terminology/nomenclature',\n",
    "  'es':''},\n",
    " 'answer': {'en': 'No', 'es': 'No'}}\n",
    "Q1 = {'question': \n",
    " {'en':\n",
    "  'How many ecosystems are there in my country?',\n",
    "  'es':''},\n",
    " 'answer': {'en': 'No', 'es': 'No'}}\n",
    "Q1 = {'question': \n",
    " {'en':\n",
    "  'I don't know how ecosystem type X fits into existing functional groups / you should add a new group for this ecosystem type',\n",
    "  'es':''},\n",
    " 'answer': {'en': 'No', 'es': 'No'}}\n",
    "Q1 = {'question': \n",
    " {'en':\n",
    "  'I had a problem using the website / server down / maps not loading',\n",
    "  'es':''},\n",
    " 'answer': {'en': 'No', 'es': 'No'}}\n",
    "Q1 = {'question': \n",
    " {'en':\n",
    "  'Spatial data should be in a different format...',\n",
    "  'es':''},\n",
    " 'answer': {'en': 'No', 'es': 'No'}}\n",
    "Q1 = {'question': \n",
    " {'en':\n",
    "  'Is there a regional/national contact for the GET?',\n",
    "  'es':''},\n",
    " 'answer': {'en': 'No', 'es': 'No'}}\n",
    "Q1 = {'question': \n",
    " {'en':\n",
    "  'Is there a way to translate a highly modified type into its expected natural/semi-natural type, using the biogeographical background parameters?',\n",
    "  'es':''},\n",
    " 'answer': {'en': 'No', 'es': 'No'}}"
   ]
  },
  {
   "cell_type": "code",
   "execution_count": 22,
   "id": "9e19e55b-88d2-4a5c-b5ac-daf4238966b0",
   "metadata": {},
   "outputs": [
    {
     "data": {
      "text/plain": [
       "{'id': 'MT2',\n",
       " 'path': 'mt_2',\n",
       " 'realm': 'MT',\n",
       " 'title': {'en': 'Supralittoral coastal biome',\n",
       "  'es': 'Bioma costero supralitoral'},\n",
       " 'image': {'credit': {'en': 'Jo Hiscock, New Zealand Department of Conservation, CC BY 4.0'},\n",
       "  'caption': {'en': 'Auckland Islands sea cliff heath and rookery'}}}"
      ]
     },
     "execution_count": 22,
     "metadata": {},
     "output_type": "execute_result"
    }
   ],
   "source": [
    "biome_json[10]"
   ]
  },
  {
   "cell_type": "code",
   "execution_count": 25,
   "id": "9382d318-8223-41a7-8dc9-6d242bdce3ae",
   "metadata": {},
   "outputs": [],
   "source": [
    "with open(web_config_biomes,\"w\", encoding='utf8') as f:\n",
    "    json.dump(biome_json, f, ensure_ascii=False, indent = 2)\n"
   ]
  },
  {
   "cell_type": "markdown",
   "id": "caf04bf9-ab1c-4641-97f6-4a19dee5af5c",
   "metadata": {},
   "source": [
    "## That's it\n",
    "\n",
    "Let's close the connection:"
   ]
  },
  {
   "cell_type": "code",
   "execution_count": 26,
   "id": "4b7de923-860f-4682-854b-dce7fb0da7c0",
   "metadata": {},
   "outputs": [
    {
     "name": "stdout",
     "output_type": "stream",
     "text": [
      "Database connection closed.\n"
     ]
    }
   ],
   "source": [
    "\n",
    "cur.close()\n",
    "        \n",
    "if conn is not None:\n",
    "    conn.close()\n",
    "    print('Database connection closed.')"
   ]
  },
  {
   "cell_type": "code",
   "execution_count": null,
   "id": "522c7f75-a1da-4212-a4ff-b84666ada4ef",
   "metadata": {},
   "outputs": [],
   "source": []
  }
 ],
 "metadata": {
  "kernelspec": {
   "display_name": "Python 3 (ipykernel)",
   "language": "python",
   "name": "python3"
  },
  "language_info": {
   "codemirror_mode": {
    "name": "ipython",
    "version": 3
   },
   "file_extension": ".py",
   "mimetype": "text/x-python",
   "name": "python",
   "nbconvert_exporter": "python",
   "pygments_lexer": "ipython3",
   "version": "3.11.3"
  }
 },
 "nbformat": 4,
 "nbformat_minor": 5
}

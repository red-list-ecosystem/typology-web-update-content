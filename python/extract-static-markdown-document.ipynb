{
 "cells": [
  {
   "cell_type": "markdown",
   "id": "fc115578-24c4-4854-977d-0ae2c4e5bd38",
   "metadata": {},
   "source": [
    "# Extract profiles for functional groups of the IUCN Global Ecosystem typology\n",
    "\n",
    "Scripts by José R. Ferrer-Paris\n",
    "\n",
    "The scripts described in this document are used to:\n",
    "\n",
    "- Read data from database\n",
    "- Write static markdown document with summary of all profiles"
   ]
  },
  {
   "cell_type": "markdown",
   "id": "a8ae3f19-b511-4810-a93f-bf265793aa7e",
   "metadata": {
    "tags": []
   },
   "source": [
    "## Set-up\n",
    "Load all the libraries we will need in this script:"
   ]
  },
  {
   "cell_type": "code",
   "execution_count": 3,
   "id": "676c26a2-2cfa-4e2a-8863-146066eefff1",
   "metadata": {},
   "outputs": [],
   "source": [
    "import os\n",
    "from pathlib import Path\n",
    "import re\n",
    "from datetime import datetime\n",
    "from configparser import ConfigParser\n",
    "import psycopg2\n",
    "from psycopg2.extras import DictCursor\n",
    "from psycopg2.extensions import AsIs\n",
    "import shutil\n",
    "import yaml"
   ]
  },
  {
   "cell_type": "code",
   "execution_count": 5,
   "id": "5ef30deb-954c-4123-9ce3-0b7112849efc",
   "metadata": {},
   "outputs": [],
   "source": [
    "\n",
    "# Pyprojroot for easier handling of working directory\n",
    "import pyprojroot\n",
    "repodir = pyprojroot.find_root(pyprojroot.has_dir(\".git\"))\n"
   ]
  },
  {
   "cell_type": "markdown",
   "id": "eb1ff7c2-db3e-429f-9b50-e13f3adc9f0b",
   "metadata": {},
   "source": [
    "Read configuration parameters for the connection to the current version of the database:"
   ]
  },
  {
   "cell_type": "code",
   "execution_count": 9,
   "id": "f629dec7-dad3-4c9d-960d-2df178647806",
   "metadata": {},
   "outputs": [],
   "source": [
    "filename = Path(repodir / 'secrets' / 'database.ini')\n",
    "section = 'altaws'\n",
    "\n",
    "parser = ConfigParser()\n",
    "parser.read(filename)\n",
    "db = {}\n",
    "if parser.has_section(section):\n",
    "    params = parser.items(section)\n",
    "    for param in params:\n",
    "        db[param[0]] = param[1]\n",
    "else:\n",
    "    raise Exception('Section {0} not found in the {1} file'.format(section, filename))\n",
    "\n",
    "params = db"
   ]
  },
  {
   "cell_type": "markdown",
   "id": "ee029fea-a01f-4085-aded-9b37746cb2fe",
   "metadata": {
    "tags": []
   },
   "source": [
    "## Connect to database"
   ]
  },
  {
   "cell_type": "code",
   "execution_count": 10,
   "id": "92991b31-ad8d-45e8-a945-152c8823d63c",
   "metadata": {},
   "outputs": [],
   "source": [
    "conn = psycopg2.connect(**params)\n",
    "cur = conn.cursor(cursor_factory=DictCursor)\n"
   ]
  },
  {
   "cell_type": "code",
   "execution_count": null,
   "id": "e4d8df78-a5e8-4256-9be6-4d1eeb7c24e6",
   "metadata": {},
   "outputs": [],
   "source": []
  },
  {
   "cell_type": "code",
   "execution_count": 15,
   "id": "ea399e89-1325-45cf-89cc-35248e2fda11",
   "metadata": {},
   "outputs": [],
   "source": [
    "outfile =  repodir  / 'output' / 'mapinfo.yaml'\n",
    "qry=\"\"\"\n",
    "    SELECT map_code, map_version, code, map_source,contributors,status \n",
    "    FROM map_metadata WHERE status IN ('valid','replaced','superceded','superceeded') \n",
    "    ORDER BY map_version DESC;\n",
    "    \"\"\"\n",
    "cur.execute(qry)\n",
    "mapinfo = cur.fetchall()\n",
    "records=dict()\n",
    "record=dict()\n",
    "record['code']='MISSING'\n",
    "record['version']='MISSING'\n",
    "record['description']='Map information is missing'\n",
    "record['contributors']='MISSING'\n",
    "records['MISSING']=record\n",
    "for item in mapinfo:\n",
    "    mapcode=\"%s_%s\" % (item['map_code'],item['map_version'])\n",
    "    record=dict()\n",
    "    record['code']=item['map_code']\n",
    "    record['efg']=item['code']\n",
    "    record['version']=item['map_version']\n",
    "    record['description']=item['map_source']\n",
    "    record['contributors']=\", \".join(item['contributors'])\n",
    "    if item['status']=='valid':\n",
    "        record['status']='valid'\n",
    "    else:\n",
    "        record['status']='replaced'\n",
    "    records[mapcode]=record\n",
    "\n",
    "with open(outfile, 'w') as file:\n",
    "    yaml.dump(records, file)\n"
   ]
  },
  {
   "cell_type": "code",
   "execution_count": 13,
   "id": "16df13a9-1c2d-491b-bead-94705980c21a",
   "metadata": {},
   "outputs": [],
   "source": [
    "outfile =  repodir / 'output' / 'maprefs.yaml'\n",
    "qry=\"\"\"\n",
    "    SELECT map_code,map_version,ARRAY_AGG(ref_code) as refs, ARRAY_AGG(dataset) as datasets\n",
    "    FROM map_references \n",
    "    GROUP BY map_code, map_version;\n",
    "    \"\"\"\n",
    "cur.execute(qry)\n",
    "refs = cur.fetchall()\n",
    "\n",
    "records=dict()\n",
    "records['MISSING']={'references':'Missing references'}\n",
    "for item in refs:\n",
    "    mapcode=\"%s_%s\" % (item['map_code'],item['map_version'])\n",
    "    records[mapcode]={'references':item['refs'],\n",
    "                      'datasets':item['datasets']}\n",
    "\n",
    "with open(outfile, 'w') as file:\n",
    "    yaml.dump(records, file)"
   ]
  },
  {
   "cell_type": "code",
   "execution_count": 14,
   "id": "2235f14a-c52e-47a4-aec8-f0adede65cad",
   "metadata": {},
   "outputs": [],
   "source": [
    "outfile =  repodir / 'output' / 'efgrefs.yaml'\n",
    "qry=\"\"\"\n",
    "    SELECT code,ARRAY_AGG(ref_code) as refs \n",
    "    FROM efg_references \n",
    "    GROUP BY CODE\n",
    "    \"\"\"\n",
    "cur.execute(qry)\n",
    "refs = cur.fetchall()\n",
    "\n",
    "records=dict()\n",
    "records['MISSING']=('Missing references',)\n",
    "for item in refs:\n",
    "\n",
    "    records[item['code']]=item['refs']\n",
    "\n",
    "with open(outfile, 'w') as file:\n",
    "    yaml.dump(records, file)"
   ]
  },
  {
   "cell_type": "markdown",
   "id": "1d9de0b5-94cf-4904-9194-a7adf019adc9",
   "metadata": {
    "tags": []
   },
   "source": [
    "## Update EFG content (short descriptions)"
   ]
  },
  {
   "cell_type": "code",
   "execution_count": 16,
   "id": "c09e9d18-8101-4813-8897-d9f1ca60ea39",
   "metadata": {},
   "outputs": [],
   "source": [
    "qry=\"\"\"\n",
    "SELECT distinct code\n",
    "FROM functional_groups f\n",
    "LEFT JOIN biomes b\n",
    "    ON b.biome_code=f.biome_code\n",
    "ORDER BY code\n",
    ";\"\"\"\n",
    "cur.execute(qry)\n",
    "efgs = cur.fetchall()"
   ]
  },
  {
   "cell_type": "code",
   "execution_count": 17,
   "id": "5320dc4f-a7dc-4228-bc74-1e167d043531",
   "metadata": {},
   "outputs": [
    {
     "data": {
      "text/plain": [
       "['F1.1']"
      ]
     },
     "execution_count": 17,
     "metadata": {},
     "output_type": "execute_result"
    }
   ],
   "source": [
    "efgs[0]"
   ]
  },
  {
   "cell_type": "code",
   "execution_count": 18,
   "id": "d4c326fe-958d-4cc3-9042-4f6adca9c57b",
   "metadata": {
    "tags": []
   },
   "outputs": [],
   "source": [
    "sections = (\"Ecological Traits\",\"Key Ecological Drivers\",\"Distribution\")\n",
    "version = 'v2.1'\n",
    "records=list()\n",
    "for efg in efgs:\n",
    "    qry=\"\"\"\n",
    "    SELECT code, f.biome_code as biome_code, f.name as name, f.shortname as shortname, b.name as biome_name,\n",
    "    realms, f.update as original_date, shortdesc, keyfeatures, distdesc \n",
    "    FROM functional_groups f\n",
    "    LEFT JOIN biomes b\n",
    "        ON b.biome_code=f.biome_code\n",
    "    WHERE code = %s\n",
    "    ;\"\"\"\n",
    "    cur.execute(qry,(efg[0],))\n",
    "\n",
    "    efginfo = cur.fetchone()\n",
    "    record=dict()\n",
    "    \n",
    "    record['name']=efginfo['name']\n",
    "    record['biome']=efginfo['biome_name']\n",
    "    record['realm']=efginfo['realms']\n",
    "    record['code']=efginfo['code']\n",
    "    record['biomecode']=efginfo['biome_code']\n",
    "    record['shortdesc']=efginfo['shortdesc']\n",
    "    record['keyfeatures']=efginfo['keyfeatures']\n",
    "    record['distdesc']=efginfo['distdesc']\n",
    "    \n",
    "    record['contributors']=list()\n",
    "    \n",
    "    for section in sections:\n",
    "        qry =\"\"\"\n",
    "        SELECT description,contributors,version,update \n",
    "        FROM efg_%s \n",
    "        WHERE code = %s AND language = 'en' AND version=%s\n",
    "        ORDER BY update DESC;\n",
    "        \"\"\"\n",
    "        cur.execute(qry,(AsIs(section.lower().replace(' ','_')),efginfo['code'],version))\n",
    "        sectinfo = cur.fetchone()\n",
    "        record[section]=sectinfo['description']\n",
    "        for author in sectinfo['contributors']:\n",
    "            if author not in record['contributors']:\n",
    "                record['contributors'].append(author)\n",
    "        record['version']=\"%s (%s)\" % (sectinfo['version'],sectinfo['update'].date())\n",
    "\n",
    "    reflist1=list()\n",
    "    reflist2=list()\n",
    "\n",
    "    \n",
    "    qry=\"\"\"\n",
    "    SELECT map_code, map_version \n",
    "    FROM map_metadata WHERE code = %s AND status='valid' AND map_type='Indicative Map' \n",
    "    ORDER BY map_version DESC;\n",
    "    \"\"\"\n",
    "    cur.execute(qry,(efg[0],))\n",
    "    mapinfo = cur.fetchone()\n",
    "    if mapinfo is not None:\n",
    "        record['mapcode']=\"%s_%s\" % (mapinfo['map_code'],mapinfo['map_version'])\n",
    "    else:\n",
    "        record['mapcode']=\"MISSING\" \n",
    "\n",
    "\n",
    "    record['realmstr']=\", \".join(record['realm'])\n",
    "    record['contributorstr']=\", \".join(record['contributors'])\n",
    "    \n",
    "    qry=\"\"\"\n",
    "    SELECT ref_cite \n",
    "    FROM efg_references as e \n",
    "    LEFT JOIN ref_list as l ON e.ref_code=l.ref_code \n",
    "    WHERE code = %s\n",
    "    ORDER BY ref_cite;\n",
    "    \"\"\"\n",
    "    cur.execute(qry,(efg[0],))\n",
    "    refs = cur.fetchall()\n",
    "    \n",
    "    for ref in refs:\n",
    "        if ref[0] is not None:\n",
    "            reflist1.append(\"* \"+ref[0])\n",
    "    \n",
    "    \n",
    "    #record['maprefstr']='{% for ref in map.contributors %}\\n* {{ref}}\\n{% endfor %}'\n",
    "    \n",
    "    #record['mainrefstr']=\"\\n\".join(reflist1)\n",
    "    \n",
    "    records.append(record)"
   ]
  },
  {
   "cell_type": "code",
   "execution_count": 22,
   "id": "ad3c10c1-872c-4fad-8e6d-ef6c68953d1d",
   "metadata": {},
   "outputs": [
    {
     "data": {
      "text/plain": [
       "{'name': 'F1.1 Permanent upland streams',\n",
       " 'biome': 'F1. Rivers and streams biome',\n",
       " 'realm': ['Freshwater'],\n",
       " 'code': 'F1.1',\n",
       " 'biomecode': 'F1',\n",
       " 'shortdesc': 'These small rivers or streams in mountainous or hilly areas are characterised by steep gradients and fast flow. They flow all year, increasing in wet periods, in humid tropical and temperate zones. Stones are common along their rapids and pools, turning over and oxygenating the water. Dependent organisms are specialised for these high flow-velocity environments, with resources for food webs derived mainly from the stream and inputs from adjacent and upstream vegetation.',\n",
       " 'keyfeatures': 'High-medium velocity, low-medium volume perennial flows with abundant benthic filter feeders, algal biofilms & small fish',\n",
       " 'distdesc': 'Global uplands with wet climates',\n",
       " 'contributors': ['RT Kingsford',\n",
       "  'R Mac Nally',\n",
       "  'PS Giller',\n",
       "  'MC Rains',\n",
       "  'M Kelly-Quinn',\n",
       "  'AH Arthington',\n",
       "  'DA Keith'],\n",
       " 'Ecological Traits': 'These 1st-3rd order streams generally have steep gradients, fast flows, coarse substrates, often with a riffle-pool (shallow and fast vs deeper and slow) sequence of habitats, and periodic (usually seasonal) high-flow events. Many organisms have specialised morphological and behavioural adaptations to high flow-velocity environments. Riparian trees produce copious leaf fall that provide allochthonous subsidies, and support somewhat separate foodwebs to those based on in situ primary production by bryophytes and biofilms. Tree shade conversely light-limits productivity, a trade-off that relaxes seasonally where deciduous trees dominate. Microbes and detritivores (e.g. invertebrate shredders) break down leaf fall and other organic matter. Microbial biofilms comprising algae, fungi and bacteria establish on rocks and process dissolved organic matter. Invertebrates include shredders (consuming coarse particles), grazers (consuming biofilm), collectors and filter feeders (consuming benthic and suspended fine particles, respectively), and predators. Many benthic macroinvertebrates, mostly insects, have aquatic larvae and terrestrial adults. Filter feeders have traits adapted to swift flows, allowing them to hold fast to substrates while capturing resources, while benthic bryophytes provide shelter for other organisms. Fish are typically small predators of aquatic invertebrates and insects on the water surface. Birds typically have specialised foraging behaviours (e.g. dippers and kingfishers). Trophic cascades involving rapid algal growth, invertebrate grazers and fish are common.',\n",
       " 'version': 'v2.1 (2022-04-06)',\n",
       " 'Key Ecological Drivers': 'Upland streams have flash flow regimes with high velocity and relatively low, but variable perennial volume. Turbulence sustains highly oxygenation. Groundwater-delivered subsidies support streamflow, with up to 50% of summer flow and 100% of winter flow originating as groundwater. This modulates stream temperatures, keeping temperatures lower in summer and higher in winter; and deliver nutrients, especially if there are N-fixing plants, along the groundwater flow path. They flow down moderate to steep slopes causing considerable erosion and sediment transport. These factors drive nutrient and organic matter transport downstream. Flow volume and variability, including periodic flood regimes, depend on rainfall seasonality, snowmelt from cold-climate catchments, as well as catchment size. Peat-rich catchments feed dark dystrophic waters to the streams.',\n",
       " 'Distribution': 'High proportion of global stream length. In steep to moderate terrain throughout the humid tropical and temperate zones, rarely extending to boreal latitudes.',\n",
       " 'mapcode': 'F1.1.IM.mix_v2.0',\n",
       " 'realmstr': 'Freshwater',\n",
       " 'contributorstr': 'RT Kingsford, R Mac Nally, PS Giller, MC Rains, M Kelly-Quinn, AH Arthington, DA Keith'}"
      ]
     },
     "execution_count": 22,
     "metadata": {},
     "output_type": "execute_result"
    }
   ],
   "source": [
    "records[0]"
   ]
  },
  {
   "cell_type": "code",
   "execution_count": 20,
   "id": "33a57b52-b77a-4437-b643-d45cdc7de691",
   "metadata": {},
   "outputs": [],
   "source": [
    "template = \"\"\"\n",
    "# {name}\n",
    "\n",
    "In the IUCN Global Ecosystem Typology this ecosystem functional group is identified as *{name}*.\n",
    "It belongs to the {biome}, and is part of the {realmstr} realm.\n",
    "\n",
    "{shortdesc} {distdesc}\n",
    "\n",
    "The profile for this ecosystem functional group was written by {contributorstr}. \n",
    "The version {version} of this profile is available at\n",
    "<https://global-ecosystems.org/explore/groups/{code}>\n",
    "\n",
    "## Key Features\n",
    "\n",
    "{keyfeatures}\n",
    "\n",
    "## Ecological traits\n",
    "\n",
    "{Ecological Traits}\n",
    "\n",
    "## Key Ecological Drivers\n",
    "\n",
    "{Key Ecological Drivers}\n",
    "\n",
    "## Distribution\n",
    "\n",
    "{Distribution}\n",
    "\n",
    "\"\"\""
   ]
  },
  {
   "cell_type": "code",
   "execution_count": 24,
   "id": "b99addf1-ca5a-43cb-92b1-ff42550d9fd1",
   "metadata": {},
   "outputs": [],
   "source": [
    "outfile =  repodir / 'output' / 'Ecosystem-profiles-short-descriptions.md'\n",
    "for record in records[1:25]:\n",
    "    outtext=template.format(**record)\n",
    "    with open(outfile,'a') as f:\n",
    "        f.write(outtext)"
   ]
  },
  {
   "cell_type": "markdown",
   "id": "c3551ede-599a-4d16-ae08-1451b8f0c822",
   "metadata": {
    "tags": []
   },
   "source": [
    "## Close database connection"
   ]
  },
  {
   "cell_type": "code",
   "execution_count": 25,
   "id": "2ae68de6-5d90-479a-8bde-57d90c54e64b",
   "metadata": {},
   "outputs": [
    {
     "name": "stdout",
     "output_type": "stream",
     "text": [
      "Database connection closed.\n"
     ]
    }
   ],
   "source": [
    "\n",
    "cur.close()\n",
    "        \n",
    "if conn is not None:\n",
    "    conn.close()\n",
    "    print('Database connection closed.')"
   ]
  },
  {
   "cell_type": "markdown",
   "id": "ffb87675-6345-4f09-bfe3-c9a121e20321",
   "metadata": {},
   "source": [
    "And then we can do something like directly with pandoc:"
   ]
  },
  {
   "cell_type": "raw",
   "id": "c9674920-0dbd-425c-b187-6dc2e50f40fb",
   "metadata": {},
   "source": [
    "cd output\n",
    "sed -e 's/≥/greater or equal/g' -e 's/−/--/g' Ecosystem-profiles-short-descriptions.md | pandoc -o GET-all-profiles.pdf -V geometry:margin=1in"
   ]
  },
  {
   "cell_type": "markdown",
   "id": "419dca7f-417c-4eca-b239-aba76b49ecca",
   "metadata": {},
   "source": [
    "This could work with `quarto` if `tex` (or at least `tinytex`) was installed:"
   ]
  },
  {
   "cell_type": "raw",
   "id": "cf51be09-c109-4745-b0b6-7c402a6fbb0a",
   "metadata": {},
   "source": [
    "quarto render Ecosystem-profiles-short-descriptions.md --to=pdf"
   ]
  }
 ],
 "metadata": {
  "kernelspec": {
   "display_name": "Python 3 (ipykernel)",
   "language": "python",
   "name": "python3"
  },
  "language_info": {
   "codemirror_mode": {
    "name": "ipython",
    "version": 3
   },
   "file_extension": ".py",
   "mimetype": "text/x-python",
   "name": "python",
   "nbconvert_exporter": "python",
   "pygments_lexer": "ipython3",
   "version": "3.11.2"
  }
 },
 "nbformat": 4,
 "nbformat_minor": 5
}

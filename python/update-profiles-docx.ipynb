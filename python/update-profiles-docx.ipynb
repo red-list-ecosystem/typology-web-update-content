{
 "cells": [
  {
   "cell_type": "markdown",
   "id": "a9c43a08-cc31-4cd2-8378-f2fb776fcdcc",
   "metadata": {},
   "source": [
    "# Update profiles document of the IUCN Global Ecosystem typology\n",
    "\n",
    "Scripts by José R. Ferrer-Paris\n",
    "\n",
    "This script is used to:\n",
    "\n",
    "- Update format of `docx` document to add/edit details on maps"
   ]
  },
  {
   "cell_type": "markdown",
   "id": "9710523c-4800-4eef-8463-8abfdcaa6b25",
   "metadata": {},
   "source": [
    "## Set-up\n",
    "Load libraries we will need"
   ]
  },
  {
   "cell_type": "code",
   "execution_count": 1,
   "id": "f36cd05c-698d-4bdd-a471-36e5eed0f512",
   "metadata": {},
   "outputs": [],
   "source": [
    "from docx import Document\n",
    "import os\n",
    "from pathlib import Path\n",
    "import re"
   ]
  },
  {
   "cell_type": "markdown",
   "id": "07d4f92e-1eb3-4184-aac4-441966cf73b8",
   "metadata": {},
   "source": [
    "## Path for input/output of documents\n",
    "The original document is saved in a temporal directory:"
   ]
  },
  {
   "cell_type": "code",
   "execution_count": 2,
   "id": "8402c22c-c94e-4fcc-a538-c0a51c425491",
   "metadata": {},
   "outputs": [],
   "source": [
    "inputdir = Path(os.path.expanduser('~')) / \"tmp\" / \"typology-web-update-content\"\n",
    "outputdir = inputdir\n",
    "#os.listdir(inputdir)\n",
    "filename='Keith_etal_EarthsEcosystems_Appendix S4_3rdrevisions_subm+DK.docx'"
   ]
  },
  {
   "cell_type": "markdown",
   "id": "248cfabc-16aa-4227-ac30-b329433e09f9",
   "metadata": {},
   "source": [
    "## Add caveat about maps\n",
    "As per reviewer request, we need to add caveats to the maps. Easiest way is to apply same message to all maps"
   ]
  },
  {
   "cell_type": "code",
   "execution_count": 3,
   "id": "8cb1097f-ce70-4887-a03e-e763a4c63b57",
   "metadata": {},
   "outputs": [],
   "source": [
    "map_msg = 'Thumbnail map for illustrative purposes only. Users should consult sources and Table S4.1 to ensure data quality meets needs of their application.'"
   ]
  },
  {
   "cell_type": "markdown",
   "id": "3addf3cf-8673-46f1-93ad-30b3064f3569",
   "metadata": {},
   "source": [
    "### Option one, add message to footer of each section \n",
    "We assume that all sections with 'Contributors' in the header is a profile with a thumbnail map, and thus requires a caveat message in the footer. "
   ]
  },
  {
   "cell_type": "code",
   "execution_count": 4,
   "id": "811e1062-8951-4d85-a651-622b14259bd4",
   "metadata": {},
   "outputs": [],
   "source": [
    "profiles = Document(inputdir/filename)\n",
    "from docx.shared import Pt\n",
    "for section in profiles.sections:\n",
    "    h = section.header\n",
    "    f = section.footer\n",
    "    #print(section)\n",
    "    f.is_linked_to_previous = False\n",
    "            \n",
    "    for p in h.paragraphs:\n",
    "        if re.search(\"^Contributors\",p.text):\n",
    "            #print(p.text)\n",
    "            run = f.add_paragraph().add_run()\n",
    "            font = run.font\n",
    "            font.size = Pt(8)\n",
    "            run.text = map_msg\n",
    "        \n",
    "profiles.save(outputdir / 'demo-footnote-no-pages.docx')"
   ]
  },
  {
   "cell_type": "markdown",
   "id": "b91cb097-dc4a-4d4e-9114-097542b68571",
   "metadata": {},
   "source": [
    "The resulting file does not have page numbers in the profiles."
   ]
  },
  {
   "cell_type": "markdown",
   "id": "f74d7528-5d40-4e21-9c04-d5e3b15b5fe1",
   "metadata": {},
   "source": [
    "### Option two, add message to the end of the 'Distribution' paragraph \n"
   ]
  },
  {
   "cell_type": "code",
   "execution_count": 7,
   "id": "8b383689-88ef-4330-b4b6-b8c8c6c497da",
   "metadata": {},
   "outputs": [],
   "source": [
    "profiles = Document(inputdir/filename)\n",
    "for k in range(19,len(profiles.paragraphs)):\n",
    "    p=profiles.paragraphs[k]\n",
    "    if re.search(\"^Distribution:\",p.text):\n",
    "        run = p.add_run()\n",
    "        font = run.font\n",
    "        font.size = Pt(8)\n",
    "        run.text = \" \" + map_msg\n",
    "profiles.save(outputdir / 'demo-append-distribution-section.docx')"
   ]
  },
  {
   "cell_type": "markdown",
   "id": "9324736b-2199-4f2f-9b44-8eb935ac6ba2",
   "metadata": {},
   "source": [
    "### Option three, add message + page number to footer of each section \n",
    "\n",
    "Solution to add page number from https://stackoverflow.com/questions/56658872/add-page-number-using-python-docx\n",
    "\n",
    "First define these functions:"
   ]
  },
  {
   "cell_type": "code",
   "execution_count": 8,
   "id": "686e2dc9-fea8-4bb6-830e-e9421aa3b704",
   "metadata": {},
   "outputs": [],
   "source": [
    "from docx.oxml import OxmlElement, ns\n",
    "from docx.enum.text import WD_ALIGN_PARAGRAPH\n",
    "def create_element(name):\n",
    "    return OxmlElement(name)\n",
    "\n",
    "def create_attribute(element, name, value):\n",
    "    element.set(ns.qn(name), value)\n",
    "\n",
    "\n",
    "def add_page_number(run):\n",
    "    fldChar1 = create_element('w:fldChar')\n",
    "    create_attribute(fldChar1, 'w:fldCharType', 'begin')\n",
    "\n",
    "    instrText = create_element('w:instrText')\n",
    "    create_attribute(instrText, 'xml:space', 'preserve')\n",
    "    instrText.text = \"PAGE\"\n",
    "\n",
    "    fldChar2 = create_element('w:fldChar')\n",
    "    create_attribute(fldChar2, 'w:fldCharType', 'end')\n",
    "\n",
    "    run._r.append(fldChar1)\n",
    "    run._r.append(instrText)\n",
    "    run._r.append(fldChar2)"
   ]
  },
  {
   "cell_type": "markdown",
   "id": "8d78ced5-8cd9-4430-8491-7e310a268e89",
   "metadata": {},
   "source": [
    "Now we can run:"
   ]
  },
  {
   "cell_type": "code",
   "execution_count": 11,
   "id": "e5835ca3-fb6b-47cf-81c1-c3ca53997f17",
   "metadata": {},
   "outputs": [],
   "source": [
    "profiles = Document(inputdir / filename)\n",
    "for section in profiles.sections:\n",
    "    h = section.header\n",
    "    f = section.footer   \n",
    "    #print(section)\n",
    "    f.is_linked_to_previous = False\n",
    "            \n",
    "    for p in h.paragraphs:\n",
    "        if re.search(\"^Contributors\",p.text):\n",
    "            #print(p.text)\n",
    "            f.paragraphs[0].alignment = WD_ALIGN_PARAGRAPH.CENTER\n",
    "            pagerun=f.paragraphs[0].add_run()\n",
    "            add_page_number(pagerun)\n",
    "            run = f.add_paragraph().add_run()\n",
    "            font = run.font\n",
    "            font.size = Pt(8)\n",
    "            run.text = map_msg\n",
    "            \n",
    "profiles.save(outputdir / 'demo-footnote-with-page-numbers.docx')\n"
   ]
  },
  {
   "cell_type": "markdown",
   "id": "c623fb9e-d4d0-4d18-96da-5ee1d1d55e78",
   "metadata": {},
   "source": [
    "# That's it!"
   ]
  }
 ],
 "metadata": {
  "kernelspec": {
   "display_name": "Python 3 (ipykernel)",
   "language": "python",
   "name": "python3"
  },
  "language_info": {
   "codemirror_mode": {
    "name": "ipython",
    "version": 3
   },
   "file_extension": ".py",
   "mimetype": "text/x-python",
   "name": "python",
   "nbconvert_exporter": "python",
   "pygments_lexer": "ipython3",
   "version": "3.10.2"
  }
 },
 "nbformat": 4,
 "nbformat_minor": 5
}

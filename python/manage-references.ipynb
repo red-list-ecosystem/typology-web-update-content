{
 "cells": [
  {
   "cell_type": "markdown",
   "id": "bd1d808a-77ab-442e-b20f-b323ed1d3f89",
   "metadata": {},
   "source": [
    "# Manage references"
   ]
  },
  {
   "cell_type": "code",
   "execution_count": 1,
   "id": "3b01565b-1851-4222-8c8b-88b57a6f88c0",
   "metadata": {},
   "outputs": [],
   "source": [
    "import os\n",
    "from pathlib import Path\n",
    "from configparser import ConfigParser\n",
    "import psycopg2\n",
    "from psycopg2.extras import DictCursor\n",
    "from psycopg2.extensions import AsIs"
   ]
  },
  {
   "cell_type": "code",
   "execution_count": 4,
   "id": "164a0423-b432-4b70-8f6c-b3322f80ed46",
   "metadata": {},
   "outputs": [],
   "source": [
    "filename = Path(os.path.expanduser('~')) / \".database.ini\"\n",
    "section = 'iucnecoadm'\n",
    "\n",
    "parser = ConfigParser()\n",
    "parser.read(filename)\n",
    "db = {}\n",
    "if parser.has_section(section):\n",
    "    params = parser.items(section)\n",
    "    for param in params:\n",
    "        db[param[0]] = param[1]\n",
    "else:\n",
    "    raise Exception('Section {0} not found in the {1} file'.format(section, filename))\n"
   ]
  },
  {
   "cell_type": "code",
   "execution_count": 40,
   "id": "566eac6e-434e-46f0-81b7-575afc741587",
   "metadata": {},
   "outputs": [],
   "source": [
    "conn = psycopg2.connect(**db)\n",
    "cur = conn.cursor(cursor_factory=DictCursor)"
   ]
  },
  {
   "cell_type": "code",
   "execution_count": 41,
   "id": "c4cddc99-77d0-4b5b-baa2-7d45c6483c32",
   "metadata": {},
   "outputs": [],
   "source": [
    "# we added a column to the table\n",
    "upd = \"\"\"ALTER TABLE ref_list ADD COLUMN ref_markdown text;\"\"\"\n",
    "# now we can update this column with existing content:\n",
    "upd = \"\"\"UPDATE ref_list set ref_markdown=ref_cite\n",
    "WHERE ref_cite like '% **%** %' AND ref_markdown is NULL;\"\"\"\n",
    "cur.execute(upd)\n",
    "upd = \"\"\"UPDATE ref_list set ref_markdown=ref_cite\n",
    "WHERE ref_cite like '% **%**.%' AND ref_markdown is NULL;\"\"\"\n",
    "cur.execute(upd)\n"
   ]
  },
  {
   "cell_type": "code",
   "execution_count": 42,
   "id": "59d7203d-7f73-487b-816e-789550a644c1",
   "metadata": {},
   "outputs": [
    {
     "name": "stdout",
     "output_type": "stream",
     "text": [
      "16\n"
     ]
    }
   ],
   "source": [
    "print(cur.rowcount)\n"
   ]
  },
  {
   "cell_type": "code",
   "execution_count": 43,
   "id": "3ca53193-f779-4487-84d5-b4980f2e6bc2",
   "metadata": {},
   "outputs": [
    {
     "name": "stdout",
     "output_type": "stream",
     "text": [
      "291\n"
     ]
    }
   ],
   "source": [
    "upd = \"\"\"UPDATE ref_list set ref_markdown=CONCAT(author_list,\n",
    "' (',date,') *',title,'* **',container_title,'** ', post_title, \n",
    "' [DOI:',doi,'](http:dx.doi.org/',doi,')') \n",
    "WHERE author_list IS NOT NULL\n",
    "AND date IS NOT NULL\n",
    "AND title IS NOT NULL\n",
    "AND container_title IS NOT NULL\n",
    "AND doi IS NOT NULL\n",
    "AND ref_markdown is NULL;\"\"\"\n",
    "cur.execute(upd)\n",
    "print(cur.rowcount)"
   ]
  },
  {
   "cell_type": "code",
   "execution_count": 44,
   "id": "1fc52e43-b5b7-4e8c-a290-244a35e8c827",
   "metadata": {},
   "outputs": [
    {
     "name": "stdout",
     "output_type": "stream",
     "text": [
      "25\n"
     ]
    }
   ],
   "source": [
    "upd = \"\"\"UPDATE ref_list set ref_markdown=CONCAT(author_list,\n",
    "' (',date,') **',container_title,'** ', post_title, \n",
    "' [DOI:',doi,'](http:dx.doi.org/',doi,')') \n",
    "WHERE author_list IS NOT NULL\n",
    "AND date IS NOT NULL\n",
    "AND title IS NULL\n",
    "AND container_title IS NOT NULL\n",
    "AND doi IS NOT NULL\n",
    "AND ref_markdown is NULL;\"\"\"\n",
    "cur.execute(upd)\n",
    "print(cur.rowcount)"
   ]
  },
  {
   "cell_type": "code",
   "execution_count": 45,
   "id": "f8388351-ec74-49e5-8427-08f6c3b73476",
   "metadata": {},
   "outputs": [
    {
     "name": "stdout",
     "output_type": "stream",
     "text": [
      "139\n"
     ]
    }
   ],
   "source": [
    "upd = \"\"\"UPDATE ref_list set ref_markdown=CONCAT(author_list,\n",
    "' (',date,') *',title,'* **',container_title,'** ', post_title) \n",
    "WHERE author_list IS NOT NULL\n",
    "AND date IS NOT NULL\n",
    "AND title IS NOT NULL\n",
    "AND container_title IS NOT NULL\n",
    "AND ref_markdown is NULL;\"\"\"\n",
    "cur.execute(upd)\n",
    "print(cur.rowcount)"
   ]
  },
  {
   "cell_type": "code",
   "execution_count": 46,
   "id": "c9956818-7578-47fd-bf59-a6a4db4954ba",
   "metadata": {},
   "outputs": [
    {
     "name": "stdout",
     "output_type": "stream",
     "text": [
      "67\n"
     ]
    }
   ],
   "source": [
    "upd = \"\"\"UPDATE ref_list set ref_markdown=CONCAT(author_list,\n",
    "' (',date,') **',container_title,'** ', post_title) \n",
    "WHERE author_list IS NOT NULL\n",
    "AND date IS NOT NULL\n",
    "AND title IS NULL\n",
    "AND container_title IS NOT NULL\n",
    "AND ref_markdown is NULL;\"\"\"\n",
    "cur.execute(upd)\n",
    "print(cur.rowcount)"
   ]
  },
  {
   "cell_type": "code",
   "execution_count": 47,
   "id": "c08e434b-0fe2-410d-b8df-5349aa8a05b6",
   "metadata": {},
   "outputs": [],
   "source": [
    "conn.commit()"
   ]
  },
  {
   "cell_type": "code",
   "execution_count": 48,
   "id": "c89258d0-9765-42c6-ba43-dcb4dd6ef62f",
   "metadata": {},
   "outputs": [
    {
     "name": "stdout",
     "output_type": "stream",
     "text": [
      "Database connection closed.\n"
     ]
    }
   ],
   "source": [
    "\n",
    "cur.close()\n",
    "        \n",
    "if conn is not None:\n",
    "    conn.close()\n",
    "    print('Database connection closed.')"
   ]
  },
  {
   "cell_type": "code",
   "execution_count": null,
   "id": "de763c23-5089-4816-b919-1f1d7223bf4b",
   "metadata": {},
   "outputs": [],
   "source": []
  }
 ],
 "metadata": {
  "kernelspec": {
   "display_name": "Python 3 (ipykernel)",
   "language": "python",
   "name": "python3"
  },
  "language_info": {
   "codemirror_mode": {
    "name": "ipython",
    "version": 3
   },
   "file_extension": ".py",
   "mimetype": "text/x-python",
   "name": "python",
   "nbconvert_exporter": "python",
   "pygments_lexer": "ipython3",
   "version": "3.10.2"
  }
 },
 "nbformat": 4,
 "nbformat_minor": 5
}

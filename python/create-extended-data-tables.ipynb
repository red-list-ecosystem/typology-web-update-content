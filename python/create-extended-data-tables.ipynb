{
 "cells": [
  {
   "cell_type": "markdown",
   "id": "db145097-9e73-4ecb-aab6-ec4362d55e59",
   "metadata": {},
   "source": [
    "# Extended data"
   ]
  },
  {
   "cell_type": "code",
   "execution_count": 50,
   "id": "0e24b582-63b8-44ff-9db2-5e1044fead86",
   "metadata": {},
   "outputs": [],
   "source": [
    "import os\n",
    "from pathlib import Path\n",
    "import re\n",
    "from datetime import datetime\n",
    "from configparser import ConfigParser\n",
    "import psycopg2\n",
    "from psycopg2.extras import DictCursor\n",
    "from psycopg2.extensions import AsIs\n",
    "from docx import Document\n",
    "from docx.shared import Pt,Mm\n",
    "    \n",
    "#from docx.shared import Inches"
   ]
  },
  {
   "cell_type": "code",
   "execution_count": 21,
   "id": "d506149a-4a8c-4554-aa2d-50deae750d6b",
   "metadata": {},
   "outputs": [],
   "source": [
    "workdir = Path(os.path.expanduser('~')) / 'tmp' / 'typology-web-update-content'\n"
   ]
  },
  {
   "cell_type": "code",
   "execution_count": 3,
   "id": "c6d73384-ca38-4a64-b95d-9cb5fd90b5e6",
   "metadata": {},
   "outputs": [],
   "source": [
    "filename = Path(os.path.expanduser('~')) / \".database.ini\"\n",
    "section = 'psqlaws'\n",
    "\n",
    "parser = ConfigParser()\n",
    "parser.read(filename)\n",
    "db = {}\n",
    "if parser.has_section(section):\n",
    "    params = parser.items(section)\n",
    "    for param in params:\n",
    "        db[param[0]] = param[1]\n",
    "else:\n",
    "    raise Exception('Section {0} not found in the {1} file'.format(section, filename))\n",
    "\n",
    "params = db"
   ]
  },
  {
   "cell_type": "code",
   "execution_count": 125,
   "id": "34e1715b-6bc3-468e-94ba-7bba82d69179",
   "metadata": {},
   "outputs": [],
   "source": [
    "conn = psycopg2.connect(**params)\n",
    "cur = conn.cursor(cursor_factory=DictCursor)\n"
   ]
  },
  {
   "cell_type": "code",
   "execution_count": 146,
   "id": "799bca8e-608c-4380-83ed-6ade93645033",
   "metadata": {},
   "outputs": [],
   "source": [
    "qry=\"\"\"\n",
    "SELECT code, f.biome_code as biome, f.name, f.shortname, b.name as biome_name,\n",
    "    realms, f.update as original_date, shortdesc, keyfeatures, distdesc \n",
    "FROM functional_groups f\n",
    "LEFT JOIN biomes b\n",
    "    ON b.biome_code=f.biome_code\n",
    "WHERE code like '%s%%'\n",
    "ORDER BY biome, REPLACE(code,f.biome_code||'.','')::int\n",
    ";\"\"\"\n",
    "efgs=dict()\n",
    "for grp in (\"M\",\"F\",\"S\",\"T\"):\n",
    "    cur.execute(qry % grp)\n",
    "    efgs[grp] = cur.fetchall()\n",
    "\n"
   ]
  },
  {
   "cell_type": "code",
   "execution_count": 147,
   "id": "897a5db0-1c43-4390-8493-23625f2d55c7",
   "metadata": {},
   "outputs": [
    {
     "data": {
      "text/plain": [
       "66"
      ]
     },
     "execution_count": 147,
     "metadata": {},
     "output_type": "execute_result"
    }
   ],
   "source": [
    "len(efgs[\"F\"])+len(efgs[\"T\"])"
   ]
  },
  {
   "cell_type": "code",
   "execution_count": 78,
   "id": "f2a9f869-eb7a-427d-a503-7909db21e263",
   "metadata": {},
   "outputs": [],
   "source": [
    "mrg = 6000\n",
    "fntsz=5\n",
    "fntnm='Arial' # or Helvetica\n",
    "pgwdth=Mm(183)\n",
    "pghght=Mm(247)\n",
    "\n",
    "document = Document()\n",
    "sections = document.sections\n",
    "section=sections[0]\n",
    "section.left_margin=mrg\n",
    "section.right_margin=mrg\n",
    "section.top_margin=mrg\n",
    "section.bottom_margin=mrg\n",
    "section.page_width = pgwdth\n",
    "section.page_height = pghght\n",
    "thebiome=\"\"\n",
    "\n",
    "for grp in (\"M\",\"F\",\"S\",\"T\"):\n",
    "    for efg in efgs[grp]:\n",
    "        if efg['biome_name'] != thebiome:\n",
    "            thebiome=efg['biome_name']\n",
    "            p = document.add_paragraph()\n",
    "            paragraph_format = p.paragraph_format\n",
    "            paragraph_format.space_before = Pt(0)\n",
    "            paragraph_format.space_after = Pt(0)\n",
    "            run = p.add_run(thebiome)\n",
    "            font = run.font\n",
    "            font.name = fntnm\n",
    "            font.size = Pt(fntsz)\n",
    "            font.bold = True\n",
    "        p = document.add_paragraph()\n",
    "        paragraph_format = p.paragraph_format\n",
    "        paragraph_format.space_before = Pt(0)\n",
    "        paragraph_format.space_after = Pt(0)\n",
    "        run = p.add_run(efg['name'])\n",
    "        font = run.font\n",
    "        font.name = fntnm\n",
    "        font.size = Pt(fntsz)\n",
    "        font.bold = True\n",
    "    \n",
    "        run = p.add_run(\": {}. {}.\".format(efg['keyfeatures'],efg['distdesc']))\n",
    "        font = run.font\n",
    "        font.name = fntnm\n",
    "        font.size = Pt(fntsz)\n",
    "    if grp in ('M','F','S'):\n",
    "        document.add_page_break()\n",
    "\n",
    "document.save(workdir / 'Keith-et-al-ExtendedData-output-as-paragraphs.docx')"
   ]
  },
  {
   "cell_type": "code",
   "execution_count": 149,
   "id": "b3c99b16-13ff-4fa7-aa9e-76d9c71857f4",
   "metadata": {},
   "outputs": [],
   "source": [
    "fntsz=3.5 # half size for output in one page\n",
    "fntsz=7\n",
    "def formattedCell(cell,txt,font_name=fntnm,font_size=fntsz,font_bold=False):\n",
    "    ps=cell.paragraphs\n",
    "    for p in ps:\n",
    "        paragraph_format = p.paragraph_format\n",
    "        paragraph_format.space_before = Pt(0)\n",
    "        paragraph_format.space_after = Pt(0)\n",
    "        run=p.add_run(txt)\n",
    "        font = run.font\n",
    "        font.name = font_name\n",
    "        font.size = Pt(font_size)\n",
    "        font.bold = font_bold    \n",
    "    return(cell)\n",
    "\n",
    "document = Document()\n",
    "sections = document.sections\n",
    "section=sections[0]\n",
    "mrg = 6000\n",
    "section.left_margin=mrg\n",
    "section.right_margin=mrg\n",
    "section.top_margin=mrg\n",
    "section.bottom_margin=mrg\n",
    "\n",
    "for grp in (\"M\",\"F\",\"S\",\"T\"):\n",
    "    if grp in (\"M\",\"F\",\"S\",\"T\"): # or change to just M for output in one page\n",
    "        table = document.add_table(rows=1, cols=3)\n",
    "        hdr_cells = table.rows[0].cells\n",
    "        formattedCell(hdr_cells[0],'Ecosystem Functional Group',font_bold=True)\n",
    "        formattedCell(hdr_cells[1],'Typical Key features *',font_bold=True)\n",
    "        formattedCell(hdr_cells[2],'Distribution',font_bold=True)\n",
    "\n",
    "    for efg in efgs[grp]:\n",
    "        if efg['biome_name'] != thebiome:\n",
    "            thebiome=efg['biome_name']\n",
    "            biome_cells =table.add_row().cells\n",
    "            formattedCell(biome_cells[0],thebiome,font_bold=True)\n",
    "            biome_cells[0].merge(biome_cells[2])\n",
    "            #formattedCell(biome_cells[1],\"-\",font_bold=False)\n",
    "            #formattedCell(biome_cells[2],\"-\",font_bold=False)\n",
    "        row_cells = table.add_row().cells\n",
    "        formattedCell(row_cells[0],efg['name'])\n",
    "        formattedCell(row_cells[1],efg['keyfeatures'])\n",
    "        formattedCell(row_cells[2],efg['distdesc'])\n",
    "    if grp in ('M','F','S'): # or skip this for output in one page\n",
    "        document.add_page_break()\n",
    "\n",
    "document.save(workdir / 'Keith-et-al-ExtendedData-output-as-table.docx')"
   ]
  },
  {
   "cell_type": "raw",
   "id": "248b3f64-3607-4624-9a3b-f76fbe53d653",
   "metadata": {},
   "source": [
    "for col in table.columns:\n",
    "    print(col.width)\n"
   ]
  },
  {
   "cell_type": "code",
   "execution_count": 124,
   "id": "a546db62-e8cf-4a92-8273-45b19e740d34",
   "metadata": {},
   "outputs": [
    {
     "name": "stdout",
     "output_type": "stream",
     "text": [
      "Database connection closed.\n"
     ]
    }
   ],
   "source": [
    "cur.close()\n",
    "        \n",
    "if conn is not None:\n",
    "    conn.close()\n",
    "    print('Database connection closed.')"
   ]
  },
  {
   "cell_type": "markdown",
   "id": "aba82817-08ed-40eb-88d5-cface1553655",
   "metadata": {},
   "source": [
    "Additional processing in `bash`:\n"
   ]
  },
  {
   "cell_type": "raw",
   "id": "a606c9f7-505f-45a9-99b0-b1df545decdf",
   "metadata": {},
   "source": [
    "cd $WORKDIR\n",
    "INPUT=Keith-et-al-ExtendedData-output-as-table.pdf\n",
    "pdftoppm $INPUT $(basename $INPUT .pdf)\n",
    "for INPUT in $(ls *ppm) \n",
    "do \n",
    "    OUTPUT=$(basename $k .ppm).tif\n",
    "    ppm2tiff -R 300 $INPUT $OUTPUT\n",
    "done"
   ]
  },
  {
   "cell_type": "code",
   "execution_count": null,
   "id": "d91f9197-eeb4-46ac-9e9a-dd51b47595d1",
   "metadata": {},
   "outputs": [],
   "source": []
  }
 ],
 "metadata": {
  "kernelspec": {
   "display_name": "Python 3 (ipykernel)",
   "language": "python",
   "name": "python3"
  },
  "language_info": {
   "codemirror_mode": {
    "name": "ipython",
    "version": 3
   },
   "file_extension": ".py",
   "mimetype": "text/x-python",
   "name": "python",
   "nbconvert_exporter": "python",
   "pygments_lexer": "ipython3",
   "version": "3.10.2"
  }
 },
 "nbformat": 4,
 "nbformat_minor": 5
}

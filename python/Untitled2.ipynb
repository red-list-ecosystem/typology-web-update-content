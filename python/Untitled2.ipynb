{
 "cells": [
  {
   "cell_type": "code",
   "execution_count": null,
   "id": "ea7b815d-b1a6-4dc4-b27e-2ee8cff202af",
   "metadata": {},
   "outputs": [],
   "source": [
    "import os\n",
    "from pathlib import Path\n",
    "import re\n",
    "from datetime import datetime\n",
    "from configparser import ConfigParser\n",
    "import psycopg2\n",
    "from psycopg2.extensions import AsIs\n",
    "import pandas as pd\n"
   ]
  },
  {
   "cell_type": "code",
   "execution_count": null,
   "id": "6ad78693-58c4-4a60-a195-a38098ef2260",
   "metadata": {},
   "outputs": [],
   "source": [
    "filename = Path(os.path.expanduser('~')) / \".database.ini\"\n",
    "section = 'psqlaws'\n",
    "\n",
    "parser = ConfigParser()\n",
    "parser.read(filename)\n",
    "db = {}\n",
    "if parser.has_section(section):\n",
    "    params = parser.items(section)\n",
    "    for param in params:\n",
    "        db[param[0]] = param[1]\n",
    "else:\n",
    "    raise Exception('Section {0} not found in the {1} file'.format(section, filename))\n",
    "\n",
    "params = db"
   ]
  },
  {
   "cell_type": "code",
   "execution_count": null,
   "id": "ad44a20d-4c9b-4701-a439-a2d3d525eb55",
   "metadata": {},
   "outputs": [],
   "source": [
    "inputdir = Path(os.path.expanduser('~')) / \"tmp\" / \"typology-web-update-content\"\n",
    "filename = 'efg-short-descriptions.ods'\n",
    "df = pd.read_excel(inputdir / filename, engine='odf')"
   ]
  },
  {
   "cell_type": "code",
   "execution_count": null,
   "id": "335a9091-80d6-4fec-a833-1f95f4c537bf",
   "metadata": {},
   "outputs": [],
   "source": []
  }
 ],
 "metadata": {
  "kernelspec": {
   "display_name": "Python 3 (ipykernel)",
   "language": "python",
   "name": "python3"
  },
  "language_info": {
   "codemirror_mode": {
    "name": "ipython",
    "version": 3
   },
   "file_extension": ".py",
   "mimetype": "text/x-python",
   "name": "python",
   "nbconvert_exporter": "python",
   "pygments_lexer": "ipython3",
   "version": "3.10.2"
  }
 },
 "nbformat": 4,
 "nbformat_minor": 5
}

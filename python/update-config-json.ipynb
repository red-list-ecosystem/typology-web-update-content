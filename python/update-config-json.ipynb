{
 "cells": [
  {
   "cell_type": "markdown",
   "id": "a289989a-b19b-4baf-920a-5fc29871c907",
   "metadata": {},
   "source": [
    "# Update config json file with translated names for the IUCN Global Ecosystem typology\n",
    "\n",
    "Scripts by José R. Ferrer-Paris\n",
    "\n",
    "The scripts described in this document are used to:\n",
    "\n",
    "- Check translated names in the database\n",
    "- Read/write json file with information for each EFG"
   ]
  },
  {
   "cell_type": "markdown",
   "id": "d5acdbc8-0e4c-45d3-87cf-969da6a09f7a",
   "metadata": {
    "tags": []
   },
   "source": [
    "## Set-up\n",
    "Load all the libraries we will need in this script:"
   ]
  },
  {
   "cell_type": "code",
   "execution_count": 1,
   "id": "6b006f52-42ae-4a9d-99ed-50010186aa8c",
   "metadata": {},
   "outputs": [],
   "source": [
    "import os\n",
    "from pathlib import Path\n",
    "from configparser import ConfigParser\n",
    "import psycopg2\n",
    "import pandas as pd\n",
    "import json\n",
    "import requests\n",
    "import re\n"
   ]
  },
  {
   "cell_type": "markdown",
   "id": "abf95724-1d65-4217-8bc0-85edb2782934",
   "metadata": {},
   "source": [
    "Read configuration parameters for the connection to the current version of the database:"
   ]
  },
  {
   "cell_type": "code",
   "execution_count": 2,
   "id": "582856ba-df77-47e2-b245-3df2f3f99364",
   "metadata": {},
   "outputs": [],
   "source": [
    "filename = Path(os.path.expanduser('~')) / \".database.ini\"\n",
    "section = 'psqlaws'\n",
    "\n",
    "parser = ConfigParser()\n",
    "parser.read(filename)\n",
    "db = {}\n",
    "if parser.has_section(section):\n",
    "    params = parser.items(section)\n",
    "    for param in params:\n",
    "        db[param[0]] = param[1]\n",
    "else:\n",
    "    raise Exception('Section {0} not found in the {1} file'.format(section, filename))\n",
    "\n",
    "params = db"
   ]
  },
  {
   "cell_type": "code",
   "execution_count": 3,
   "id": "038b624d-3865-4f4b-ad37-9073c9db339d",
   "metadata": {},
   "outputs": [],
   "source": [
    "conn = psycopg2.connect(**params)\n",
    "cur = conn.cursor()"
   ]
  },
  {
   "cell_type": "markdown",
   "id": "61042130-b0a5-4a1b-bd9e-7ec682b0e76c",
   "metadata": {
    "tags": []
   },
   "source": [
    "## List of EFG names"
   ]
  },
  {
   "cell_type": "code",
   "execution_count": 4,
   "id": "16de65cf-2bae-4cf0-8cef-68d00ce20eb3",
   "metadata": {},
   "outputs": [],
   "source": [
    "qry=\"\"\"\n",
    "SELECT code, t.language, f.name, t.name\n",
    "FROM  efg_translations t\n",
    "LEFT JOIN functional_groups f\n",
    "USING (code)\n",
    "WHERE language = 'es'\n",
    "\"\"\";\n",
    "cur.execute(qry)\n",
    "efg_names=cur.fetchall()"
   ]
  },
  {
   "cell_type": "code",
   "execution_count": 5,
   "id": "12dbafe8-e825-40cf-8a35-8b34e3ebb250",
   "metadata": {
    "tags": []
   },
   "outputs": [],
   "source": [
    "\n",
    "df=pd.DataFrame(efg_names,columns=['code','language', 'name_orig', 'name_trans'])\n"
   ]
  },
  {
   "cell_type": "code",
   "execution_count": 6,
   "id": "e4922678-c547-4cbd-ae51-aa2527a4e097",
   "metadata": {},
   "outputs": [
    {
     "data": {
      "text/html": [
       "<div>\n",
       "<style scoped>\n",
       "    .dataframe tbody tr th:only-of-type {\n",
       "        vertical-align: middle;\n",
       "    }\n",
       "\n",
       "    .dataframe tbody tr th {\n",
       "        vertical-align: top;\n",
       "    }\n",
       "\n",
       "    .dataframe thead th {\n",
       "        text-align: right;\n",
       "    }\n",
       "</style>\n",
       "<table border=\"1\" class=\"dataframe\">\n",
       "  <thead>\n",
       "    <tr style=\"text-align: right;\">\n",
       "      <th></th>\n",
       "      <th>code</th>\n",
       "      <th>language</th>\n",
       "      <th>name_orig</th>\n",
       "      <th>name_trans</th>\n",
       "    </tr>\n",
       "  </thead>\n",
       "  <tbody>\n",
       "    <tr>\n",
       "      <th>102</th>\n",
       "      <td>T7.5</td>\n",
       "      <td>es</td>\n",
       "      <td>T7.5 Derived semi-natural pastures and old fields</td>\n",
       "      <td>T7.5 Campos seminaturales, modificados y aband...</td>\n",
       "    </tr>\n",
       "  </tbody>\n",
       "</table>\n",
       "</div>"
      ],
      "text/plain": [
       "     code language                                          name_orig   \n",
       "102  T7.5       es  T7.5 Derived semi-natural pastures and old fields  \\\n",
       "\n",
       "                                            name_trans  \n",
       "102  T7.5 Campos seminaturales, modificados y aband...  "
      ]
     },
     "execution_count": 6,
     "metadata": {},
     "output_type": "execute_result"
    }
   ],
   "source": [
    "df1=df.query(\"code=='T7.5'\")\n",
    "df1"
   ]
  },
  {
   "cell_type": "markdown",
   "id": "d140791f-78a1-4dca-b7b7-e204248fc94d",
   "metadata": {},
   "source": [
    "## List of biome names"
   ]
  },
  {
   "cell_type": "code",
   "execution_count": 7,
   "id": "a597023f-916d-40d5-b382-8e030523381c",
   "metadata": {},
   "outputs": [],
   "source": [
    "qry=\"\"\"\n",
    "SELECT biome_code, t.language, f.name, t.name\n",
    "FROM  biome_translations t\n",
    "LEFT JOIN biomes f\n",
    "USING (biome_code)\n",
    "WHERE language = 'es'\n",
    "\"\"\";\n",
    "cur.execute(qry)\n",
    "biome_names=cur.fetchall()"
   ]
  },
  {
   "cell_type": "code",
   "execution_count": 8,
   "id": "eb17f306-f0b5-47cf-bfa0-7f1bf406c263",
   "metadata": {},
   "outputs": [
    {
     "data": {
      "text/html": [
       "<div>\n",
       "<style scoped>\n",
       "    .dataframe tbody tr th:only-of-type {\n",
       "        vertical-align: middle;\n",
       "    }\n",
       "\n",
       "    .dataframe tbody tr th {\n",
       "        vertical-align: top;\n",
       "    }\n",
       "\n",
       "    .dataframe thead th {\n",
       "        text-align: right;\n",
       "    }\n",
       "</style>\n",
       "<table border=\"1\" class=\"dataframe\">\n",
       "  <thead>\n",
       "    <tr style=\"text-align: right;\">\n",
       "      <th></th>\n",
       "      <th>code</th>\n",
       "      <th>language</th>\n",
       "      <th>name_orig</th>\n",
       "      <th>name_trans</th>\n",
       "    </tr>\n",
       "  </thead>\n",
       "  <tbody>\n",
       "    <tr>\n",
       "      <th>0</th>\n",
       "      <td>F1</td>\n",
       "      <td>es</td>\n",
       "      <td>F1. Rivers and streams biome</td>\n",
       "      <td>F1. Bioma de ríos y arroyos</td>\n",
       "    </tr>\n",
       "    <tr>\n",
       "      <th>1</th>\n",
       "      <td>F2</td>\n",
       "      <td>es</td>\n",
       "      <td>F2. Lakes biome</td>\n",
       "      <td>F2. Bioma de lagos</td>\n",
       "    </tr>\n",
       "    <tr>\n",
       "      <th>2</th>\n",
       "      <td>F3</td>\n",
       "      <td>es</td>\n",
       "      <td>F3. Artificial wetlands biome</td>\n",
       "      <td>F3. Bioma de humedales artificiales</td>\n",
       "    </tr>\n",
       "    <tr>\n",
       "      <th>3</th>\n",
       "      <td>FM1</td>\n",
       "      <td>es</td>\n",
       "      <td>FM1. Semi-confined transitional waters biome</td>\n",
       "      <td>FM1. Bioma de aguas de transición semiconfinadas</td>\n",
       "    </tr>\n",
       "    <tr>\n",
       "      <th>4</th>\n",
       "      <td>M1</td>\n",
       "      <td>es</td>\n",
       "      <td>M1. Marine shelf biome</td>\n",
       "      <td>M1. Bioma de plataforma marina</td>\n",
       "    </tr>\n",
       "    <tr>\n",
       "      <th>5</th>\n",
       "      <td>M2</td>\n",
       "      <td>es</td>\n",
       "      <td>M2. Pelagic ocean waters biome</td>\n",
       "      <td>M2. Bioma de aguas oceánicas pelágicas</td>\n",
       "    </tr>\n",
       "    <tr>\n",
       "      <th>6</th>\n",
       "      <td>M3</td>\n",
       "      <td>es</td>\n",
       "      <td>M3. Deep sea floors biome</td>\n",
       "      <td>M3. Bioma de los fondos marinos profundos</td>\n",
       "    </tr>\n",
       "    <tr>\n",
       "      <th>7</th>\n",
       "      <td>M4</td>\n",
       "      <td>es</td>\n",
       "      <td>M4. Anthropogenic marine biome</td>\n",
       "      <td>M4. Bioma marino antropogénico</td>\n",
       "    </tr>\n",
       "    <tr>\n",
       "      <th>8</th>\n",
       "      <td>MFT1</td>\n",
       "      <td>es</td>\n",
       "      <td>MFT1. Brackish tidal biome</td>\n",
       "      <td>MFT1. Bioma de mareas salobres</td>\n",
       "    </tr>\n",
       "    <tr>\n",
       "      <th>9</th>\n",
       "      <td>MT1</td>\n",
       "      <td>es</td>\n",
       "      <td>MT1. Shorelines biome</td>\n",
       "      <td>MT1. Bioma de las costas</td>\n",
       "    </tr>\n",
       "    <tr>\n",
       "      <th>10</th>\n",
       "      <td>MT2</td>\n",
       "      <td>es</td>\n",
       "      <td>MT2. Supralittoral coastal biome</td>\n",
       "      <td>MT2. Bioma costero supralitoral</td>\n",
       "    </tr>\n",
       "    <tr>\n",
       "      <th>11</th>\n",
       "      <td>MT3</td>\n",
       "      <td>es</td>\n",
       "      <td>MT3. Anthropogenic shorelines biome</td>\n",
       "      <td>MT3. Bioma de costas antropogénicas</td>\n",
       "    </tr>\n",
       "    <tr>\n",
       "      <th>12</th>\n",
       "      <td>S1</td>\n",
       "      <td>es</td>\n",
       "      <td>S1. Subterranean lithic biome</td>\n",
       "      <td>S1. Bioma lítico subterráneo</td>\n",
       "    </tr>\n",
       "    <tr>\n",
       "      <th>13</th>\n",
       "      <td>S2</td>\n",
       "      <td>es</td>\n",
       "      <td>S2. Anthropogenic subterranean voids biome</td>\n",
       "      <td>S2. Bioma de espacios subterráneos antropogénicos</td>\n",
       "    </tr>\n",
       "    <tr>\n",
       "      <th>14</th>\n",
       "      <td>SF1</td>\n",
       "      <td>es</td>\n",
       "      <td>SF1. Subterranean freshwaters biome</td>\n",
       "      <td>SF1. Bioma de aguas dulces subterráneas</td>\n",
       "    </tr>\n",
       "    <tr>\n",
       "      <th>15</th>\n",
       "      <td>SF2</td>\n",
       "      <td>es</td>\n",
       "      <td>SF2. Anthropogenic subterranean freshwaters biome</td>\n",
       "      <td>SF2. Bioma de aguas dulces subterráneas antrop...</td>\n",
       "    </tr>\n",
       "    <tr>\n",
       "      <th>16</th>\n",
       "      <td>SM1</td>\n",
       "      <td>es</td>\n",
       "      <td>SM1. Subterranean tidal biome</td>\n",
       "      <td>SM1. Bioma subterráneo mareal</td>\n",
       "    </tr>\n",
       "    <tr>\n",
       "      <th>17</th>\n",
       "      <td>T1</td>\n",
       "      <td>es</td>\n",
       "      <td>T1. Tropical-subtropical forests biome</td>\n",
       "      <td>T1. Bioma de bosques tropicales y subtropicales</td>\n",
       "    </tr>\n",
       "    <tr>\n",
       "      <th>18</th>\n",
       "      <td>T2</td>\n",
       "      <td>es</td>\n",
       "      <td>T2. Temperate-boreal forests and woodlands biome</td>\n",
       "      <td>T2. Bioma de bosques templados y boreales</td>\n",
       "    </tr>\n",
       "    <tr>\n",
       "      <th>19</th>\n",
       "      <td>T3</td>\n",
       "      <td>es</td>\n",
       "      <td>T3. Shrublands and shrubby woodlands biome</td>\n",
       "      <td>T3. Bioma de arbustales y matorrales</td>\n",
       "    </tr>\n",
       "    <tr>\n",
       "      <th>20</th>\n",
       "      <td>T4</td>\n",
       "      <td>es</td>\n",
       "      <td>T4. Savannas and grasslands biome</td>\n",
       "      <td>T4. Bioma de sabanas y pastizales</td>\n",
       "    </tr>\n",
       "    <tr>\n",
       "      <th>21</th>\n",
       "      <td>T5</td>\n",
       "      <td>es</td>\n",
       "      <td>T5. Deserts and semi-deserts biome</td>\n",
       "      <td>T5. Bioma de desiertos y semidesiertos</td>\n",
       "    </tr>\n",
       "    <tr>\n",
       "      <th>22</th>\n",
       "      <td>T6</td>\n",
       "      <td>es</td>\n",
       "      <td>T6. Polar/alpine (cryogenic) biome</td>\n",
       "      <td>T6. Bioma polar/alpino (criogénico)</td>\n",
       "    </tr>\n",
       "    <tr>\n",
       "      <th>23</th>\n",
       "      <td>T7</td>\n",
       "      <td>es</td>\n",
       "      <td>T7. Intensive land-use biome</td>\n",
       "      <td>T7. Bioma de uso intensivo de la tierra</td>\n",
       "    </tr>\n",
       "    <tr>\n",
       "      <th>24</th>\n",
       "      <td>TF1</td>\n",
       "      <td>es</td>\n",
       "      <td>TF1. Palustrine wetlands biome</td>\n",
       "      <td>TF1. Bioma de humedales palustres</td>\n",
       "    </tr>\n",
       "  </tbody>\n",
       "</table>\n",
       "</div>"
      ],
      "text/plain": [
       "    code language                                          name_orig   \n",
       "0     F1       es                       F1. Rivers and streams biome  \\\n",
       "1     F2       es                                    F2. Lakes biome   \n",
       "2     F3       es                      F3. Artificial wetlands biome   \n",
       "3    FM1       es       FM1. Semi-confined transitional waters biome   \n",
       "4     M1       es                             M1. Marine shelf biome   \n",
       "5     M2       es                     M2. Pelagic ocean waters biome   \n",
       "6     M3       es                          M3. Deep sea floors biome   \n",
       "7     M4       es                     M4. Anthropogenic marine biome   \n",
       "8   MFT1       es                         MFT1. Brackish tidal biome   \n",
       "9    MT1       es                              MT1. Shorelines biome   \n",
       "10   MT2       es                   MT2. Supralittoral coastal biome   \n",
       "11   MT3       es                MT3. Anthropogenic shorelines biome   \n",
       "12    S1       es                      S1. Subterranean lithic biome   \n",
       "13    S2       es         S2. Anthropogenic subterranean voids biome   \n",
       "14   SF1       es                SF1. Subterranean freshwaters biome   \n",
       "15   SF2       es  SF2. Anthropogenic subterranean freshwaters biome   \n",
       "16   SM1       es                      SM1. Subterranean tidal biome   \n",
       "17    T1       es             T1. Tropical-subtropical forests biome   \n",
       "18    T2       es   T2. Temperate-boreal forests and woodlands biome   \n",
       "19    T3       es         T3. Shrublands and shrubby woodlands biome   \n",
       "20    T4       es                  T4. Savannas and grasslands biome   \n",
       "21    T5       es                 T5. Deserts and semi-deserts biome   \n",
       "22    T6       es                 T6. Polar/alpine (cryogenic) biome   \n",
       "23    T7       es                       T7. Intensive land-use biome   \n",
       "24   TF1       es                     TF1. Palustrine wetlands biome   \n",
       "\n",
       "                                           name_trans  \n",
       "0                         F1. Bioma de ríos y arroyos  \n",
       "1                                  F2. Bioma de lagos  \n",
       "2                 F3. Bioma de humedales artificiales  \n",
       "3    FM1. Bioma de aguas de transición semiconfinadas  \n",
       "4                      M1. Bioma de plataforma marina  \n",
       "5              M2. Bioma de aguas oceánicas pelágicas  \n",
       "6           M3. Bioma de los fondos marinos profundos  \n",
       "7                      M4. Bioma marino antropogénico  \n",
       "8                      MFT1. Bioma de mareas salobres  \n",
       "9                            MT1. Bioma de las costas  \n",
       "10                    MT2. Bioma costero supralitoral  \n",
       "11                MT3. Bioma de costas antropogénicas  \n",
       "12                       S1. Bioma lítico subterráneo  \n",
       "13  S2. Bioma de espacios subterráneos antropogénicos  \n",
       "14            SF1. Bioma de aguas dulces subterráneas  \n",
       "15  SF2. Bioma de aguas dulces subterráneas antrop...  \n",
       "16                      SM1. Bioma subterráneo mareal  \n",
       "17    T1. Bioma de bosques tropicales y subtropicales  \n",
       "18          T2. Bioma de bosques templados y boreales  \n",
       "19               T3. Bioma de arbustales y matorrales  \n",
       "20                  T4. Bioma de sabanas y pastizales  \n",
       "21             T5. Bioma de desiertos y semidesiertos  \n",
       "22                T6. Bioma polar/alpino (criogénico)  \n",
       "23            T7. Bioma de uso intensivo de la tierra  \n",
       "24                  TF1. Bioma de humedales palustres  "
      ]
     },
     "execution_count": 8,
     "metadata": {},
     "output_type": "execute_result"
    }
   ],
   "source": [
    "\n",
    "df2=pd.DataFrame(biome_names,columns=['code','language', 'name_orig', 'name_trans'])\n",
    "df2"
   ]
  },
  {
   "cell_type": "markdown",
   "id": "d84ff4c8-a956-4785-a92b-fd4642767a6d",
   "metadata": {},
   "source": [
    "## Read json files"
   ]
  },
  {
   "cell_type": "markdown",
   "id": "d88f5a67-f054-41aa-975c-ba2262b20544",
   "metadata": {},
   "source": [
    "Read json file"
   ]
  },
  {
   "cell_type": "code",
   "execution_count": 9,
   "id": "19efa48d-1360-4206-8da8-e878433daac4",
   "metadata": {},
   "outputs": [],
   "source": [
    "#config.json <- read_json(sprintf(\"%s/data/config/groups.json\", Sys.getenv(\"WEBDATAREPO\")))\n",
    "home = os.environ.get('HOME')\n",
    "webdatarepo = os.environ.get('WEBDATAREPO', home + '/proyectos/typology-website/typology-map-data')\n"
   ]
  },
  {
   "cell_type": "code",
   "execution_count": 10,
   "id": "6e2129ce-ae7d-414c-83e7-fa42eb0cd33b",
   "metadata": {},
   "outputs": [
    {
     "data": {
      "text/plain": [
       "PosixPath('/Users/z3529065/proyectos/typology-website/typology-map-data')"
      ]
     },
     "execution_count": 10,
     "metadata": {},
     "output_type": "execute_result"
    }
   ],
   "source": [
    "Path(webdatarepo)"
   ]
  },
  {
   "cell_type": "code",
   "execution_count": 11,
   "id": "482a01fe-e110-422c-8fe2-f695dac984f2",
   "metadata": {},
   "outputs": [],
   "source": [
    "web_config_groups = Path(webdatarepo) / 'data/config/groups.json'\n",
    "with open(web_config_groups) as f:\n",
    "    groups_json = json.load(f)\n",
    "\n",
    "web_config_biomes = Path(webdatarepo) / 'data/config/biomes.json'\n",
    "with open(web_config_biomes) as f:\n",
    "    biome_json = json.load(f)\n",
    "\n",
    "\n"
   ]
  },
  {
   "cell_type": "code",
   "execution_count": 12,
   "id": "8d626624-9203-41ec-87af-280bf49789d0",
   "metadata": {},
   "outputs": [
    {
     "data": {
      "text/plain": [
       "{'id': 'MT2',\n",
       " 'path': 'mt_2',\n",
       " 'realm': 'MT',\n",
       " 'title': {'en': 'Supralittoral coastal biome',\n",
       "  'es': 'Bioma costero supralitoral'},\n",
       " 'image': {'credit': {'en': 'Jo Hiscock, New Zealand Department of Conservation, CC BY 4.0'},\n",
       "  'caption': {'en': 'Auckland Islands sea cliff heath and rookery'}}}"
      ]
     },
     "execution_count": 12,
     "metadata": {},
     "output_type": "execute_result"
    }
   ],
   "source": [
    "biome_json[10]"
   ]
  },
  {
   "cell_type": "code",
   "execution_count": 13,
   "id": "84fefbd8-0304-4b01-8897-7a69d0ff28ef",
   "metadata": {},
   "outputs": [],
   "source": [
    "for r in groups_json:\n",
    "    efg=r['id']\n",
    "    if 'title' in r.keys():\n",
    "        nombre = df.loc[df['code'] == efg, 'name_trans'].item()\n",
    "        r['title']['es']=re.sub(r\"^[TSFM0-9\\.]+ \", \"\", nombre)"
   ]
  },
  {
   "cell_type": "code",
   "execution_count": 14,
   "id": "282e238d-9d24-48e2-94fe-35bb3b68eda0",
   "metadata": {},
   "outputs": [],
   "source": [
    "for r in biome_json:\n",
    "    efg=r['id']\n",
    "    if 'title' in r.keys():\n",
    "        nombre = df2.loc[df2['code'] == efg, 'name_trans'].item()\n",
    "        r['title']['es']=re.sub(r\"^[TSFM0-9\\.]+ \", \"\", nombre)"
   ]
  },
  {
   "cell_type": "code",
   "execution_count": 15,
   "id": "370268a6-eef8-4702-9ff5-5a2cc083e82b",
   "metadata": {},
   "outputs": [
    {
     "data": {
      "text/plain": [
       "{'id': 'T7.3',\n",
       " 'path': 't_7_3',\n",
       " 'biome': 'T7',\n",
       " 'layer': {'source': 'mapbox',\n",
       "  'type': 'raster',\n",
       "  'tileset': 'jrfep.T7_3_web_alt',\n",
       "  'extent': {'N': '90', 'S': '90', 'W': '180', 'E': '180'}},\n",
       " 'title': {'en': 'Plantations', 'es': 'Plantaciones'},\n",
       " 'image': {'credit': {'en': 'Prashant Y on Flickr, CC BY 2.0'},\n",
       "  'caption': {'en': 'Multi-species plantation (shade coffee), Chikmagalur, India'}}}"
      ]
     },
     "execution_count": 15,
     "metadata": {},
     "output_type": "execute_result"
    }
   ],
   "source": [
    "groups_json[100]\n",
    "                "
   ]
  },
  {
   "cell_type": "code",
   "execution_count": 16,
   "id": "9e19e55b-88d2-4a5c-b5ac-daf4238966b0",
   "metadata": {},
   "outputs": [
    {
     "data": {
      "text/plain": [
       "{'id': 'MT2',\n",
       " 'path': 'mt_2',\n",
       " 'realm': 'MT',\n",
       " 'title': {'en': 'Supralittoral coastal biome',\n",
       "  'es': 'Bioma costero supralitoral'},\n",
       " 'image': {'credit': {'en': 'Jo Hiscock, New Zealand Department of Conservation, CC BY 4.0'},\n",
       "  'caption': {'en': 'Auckland Islands sea cliff heath and rookery'}}}"
      ]
     },
     "execution_count": 16,
     "metadata": {},
     "output_type": "execute_result"
    }
   ],
   "source": [
    "biome_json[10]"
   ]
  },
  {
   "cell_type": "code",
   "execution_count": 17,
   "id": "191f9c78-2276-4344-8659-a745ce85bc4e",
   "metadata": {},
   "outputs": [],
   "source": [
    "with open(web_config_groups,\"w\", encoding='utf8') as f:\n",
    "    json.dump(groups_json, f, ensure_ascii=False, indent = 2)\n"
   ]
  },
  {
   "cell_type": "code",
   "execution_count": 18,
   "id": "9382d318-8223-41a7-8dc9-6d242bdce3ae",
   "metadata": {},
   "outputs": [],
   "source": [
    "with open(web_config_biomes,\"w\", encoding='utf8') as f:\n",
    "    json.dump(biome_json, f, ensure_ascii=False, indent = 2)\n"
   ]
  },
  {
   "cell_type": "markdown",
   "id": "caf04bf9-ab1c-4641-97f6-4a19dee5af5c",
   "metadata": {},
   "source": [
    "## That's it\n",
    "\n",
    "Let's close the connection:"
   ]
  },
  {
   "cell_type": "code",
   "execution_count": 19,
   "id": "4b7de923-860f-4682-854b-dce7fb0da7c0",
   "metadata": {},
   "outputs": [
    {
     "name": "stdout",
     "output_type": "stream",
     "text": [
      "Database connection closed.\n"
     ]
    }
   ],
   "source": [
    "\n",
    "cur.close()\n",
    "        \n",
    "if conn is not None:\n",
    "    conn.close()\n",
    "    print('Database connection closed.')"
   ]
  },
  {
   "cell_type": "code",
   "execution_count": null,
   "id": "522c7f75-a1da-4212-a4ff-b84666ada4ef",
   "metadata": {},
   "outputs": [],
   "source": []
  }
 ],
 "metadata": {
  "kernelspec": {
   "display_name": "Python 3 (ipykernel)",
   "language": "python",
   "name": "python3"
  },
  "language_info": {
   "codemirror_mode": {
    "name": "ipython",
    "version": 3
   },
   "file_extension": ".py",
   "mimetype": "text/x-python",
   "name": "python",
   "nbconvert_exporter": "python",
   "pygments_lexer": "ipython3",
   "version": "3.11.3"
  }
 },
 "nbformat": 4,
 "nbformat_minor": 5
}

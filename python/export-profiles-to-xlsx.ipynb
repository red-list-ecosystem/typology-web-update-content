{
 "cells": [
  {
   "cell_type": "code",
   "execution_count": 1,
   "id": "fdbbc141-99b4-4937-a029-16924160c016",
   "metadata": {},
   "outputs": [],
   "source": [
    "import os\n",
    "from pathlib import Path\n",
    "import re\n",
    "from datetime import date,datetime\n",
    "from configparser import ConfigParser\n",
    "import psycopg2\n",
    "from psycopg2.extensions import AsIs\n",
    "import pandas as pd"
   ]
  },
  {
   "cell_type": "code",
   "execution_count": 49,
   "id": "8cc2583f-0352-45cc-930f-d9158d2777cd",
   "metadata": {},
   "outputs": [],
   "source": [
    "# work with xlsx workbooks\n",
    "import openpyxl\n",
    "from openpyxl import Workbook\n",
    "from openpyxl.worksheet.table import Table, TableStyleInfo\n",
    "from openpyxl.styles import Alignment, PatternFill, Border, Font # Side, Alignment, Protection,\n",
    "from openpyxl.formatting import Rule\n",
    "from openpyxl.styles.differential import DifferentialStyle\n",
    "from openpyxl.worksheet.datavalidation import DataValidation\n",
    "from openpyxl.comments import Comment\n",
    "from openpyxl.utils.dataframe import dataframe_to_rows\n",
    "from openpyxl.utils import get_column_letter"
   ]
  },
  {
   "cell_type": "code",
   "execution_count": 2,
   "id": "3f277355-9530-4012-952a-39be767a8233",
   "metadata": {},
   "outputs": [],
   "source": [
    "import pyprojroot\n",
    "repodir = pyprojroot.find_root(pyprojroot.has_dir(\".git\"))"
   ]
  },
  {
   "cell_type": "code",
   "execution_count": 3,
   "id": "865edf01-82d6-4b65-8e80-a3127395c19f",
   "metadata": {},
   "outputs": [],
   "source": [
    "filename = Path(os.path.expanduser('~')) / \".database.ini\"\n",
    "section = 'iucnecoadm'\n",
    "\n",
    "parser = ConfigParser()\n",
    "parser.read(filename)\n",
    "db = {}\n",
    "if parser.has_section(section):\n",
    "    params = parser.items(section)\n",
    "    for param in params:\n",
    "        db[param[0]] = param[1]\n",
    "else:\n",
    "    raise Exception('Section {0} not found in the {1} file'.format(section, filename))\n",
    "\n",
    "params = db"
   ]
  },
  {
   "cell_type": "code",
   "execution_count": 4,
   "id": "8280851b-ab3a-46a2-8dd5-09b402bbb215",
   "metadata": {},
   "outputs": [],
   "source": [
    "conn = psycopg2.connect(**db)\n",
    "cur = conn.cursor()"
   ]
  },
  {
   "cell_type": "code",
   "execution_count": 5,
   "id": "8e885469-41fd-4b38-8475-f4350b4c02ec",
   "metadata": {},
   "outputs": [],
   "source": [
    "qry = \"\"\"\n",
    "SELECT code, biome_code, name, shortname, update, shortdesc, keyfeatures, distdesc \n",
    "FROM functional_groups \n",
    "ORDER BY biome_code ;\"\"\"\n",
    "cur.execute(qry )\n",
    "short_table = cur.fetchall()"
   ]
  },
  {
   "cell_type": "code",
   "execution_count": 6,
   "id": "375007e1-6b04-444c-97f3-fbad653543ad",
   "metadata": {},
   "outputs": [],
   "source": [
    "qry = \"\"\"\n",
    "SELECT code, name,\n",
    "et.description as traits, k.description as key_drivers, d.description as distribution, \n",
    "array_to_string(contributors,' :: '), 'Content version ' || version || ' updated ' || date(k.update)\n",
    "FROM efg_key_ecological_drivers as k\n",
    "LEFT JOIN efg_ecological_traits as et\n",
    "    USING (code,language,version,contributors)\n",
    "LEFT JOIN efg_distribution as d\n",
    "    USING (code,language,version,contributors)\n",
    "LEFT JOIN functional_groups\n",
    "    USING(code)\n",
    "WHERE language = 'en' AND version = 'v2.1';\"\"\"\n",
    "cur.execute(qry )\n",
    "long_table = cur.fetchall()"
   ]
  },
  {
   "cell_type": "code",
   "execution_count": 7,
   "id": "028ac1e1-b019-4dea-a378-c0a724483dd1",
   "metadata": {},
   "outputs": [],
   "source": [
    "qry = \"\"\"\n",
    "SELECT code, ref_code, ref_cite, author_list,date,title,post_title,doi\n",
    "FROM efg_references \n",
    "LEFT JOIN ref_list \n",
    "    USING (ref_code)\n",
    "ORDER BY code;\n",
    "\"\"\"\n",
    "cur.execute(qry )\n",
    "references = cur.fetchall()"
   ]
  },
  {
   "cell_type": "code",
   "execution_count": 8,
   "id": "42390d7e-38b7-4ba0-9ecf-0f130cc24723",
   "metadata": {},
   "outputs": [
    {
     "name": "stdout",
     "output_type": "stream",
     "text": [
      "Database connection closed.\n"
     ]
    }
   ],
   "source": [
    "cur.close()\n",
    "conn.commit()\n",
    "if conn is not None:\n",
    "    conn.close()\n",
    "    print('Database connection closed.')"
   ]
  },
  {
   "cell_type": "code",
   "execution_count": 9,
   "id": "866b84c3-0296-4bc1-a9e7-89fea3196f56",
   "metadata": {},
   "outputs": [],
   "source": [
    "short_table_df = pd.DataFrame(short_table,\n",
    "                           columns=(\"code\",\"biome code\", \"name\", \"short name\", \"update\", \"short description\", \"key features\", \"distribution summary\"))"
   ]
  },
  {
   "cell_type": "code",
   "execution_count": 43,
   "id": "9940f60c-9152-4c54-a47f-55d3ae75b006",
   "metadata": {},
   "outputs": [],
   "source": [
    "# \"\" % short_table_df['code']\n",
    "urlstr = \"https://global-ecosystems.org/explore/groups/%s\"\n",
    "short_table_df['url'] = short_table_df.apply(lambda row: urlstr % row['code'], axis=1)"
   ]
  },
  {
   "cell_type": "code",
   "execution_count": 44,
   "id": "baa74a40-d381-4c50-a197-cbaab0b67f90",
   "metadata": {},
   "outputs": [
    {
     "data": {
      "text/plain": [
       "'https://global-ecosystems.org/explore/groups/F1.4'"
      ]
     },
     "execution_count": 44,
     "metadata": {},
     "output_type": "execute_result"
    }
   ],
   "source": [
    "short_table_df.iloc[1]['url']"
   ]
  },
  {
   "cell_type": "code",
   "execution_count": 45,
   "id": "bb6f4c61-420c-43c9-9d96-f0ff807554f5",
   "metadata": {},
   "outputs": [],
   "source": [
    "long_table_df = pd.DataFrame(long_table,\n",
    "             columns=(\"code\", \"name\", \"ecosystem properties\", \"ecological drivers\", \"distribution\", \"contributors\",\"update\"))"
   ]
  },
  {
   "cell_type": "code",
   "execution_count": 46,
   "id": "64221f87-6d73-47b6-acb6-bbc57f4a376a",
   "metadata": {},
   "outputs": [],
   "source": [
    "refs_df = pd.DataFrame(references,\n",
    "             columns=(\"code\", \"citation\", \"full reference\", \"author list\", \"date\", \"title\", \"post title\",\"doi\"))"
   ]
  },
  {
   "cell_type": "code",
   "execution_count": 47,
   "id": "f0a36580-6d8a-40e6-824e-2103a347a580",
   "metadata": {},
   "outputs": [
    {
     "data": {
      "text/html": [
       "<div>\n",
       "<style scoped>\n",
       "    .dataframe tbody tr th:only-of-type {\n",
       "        vertical-align: middle;\n",
       "    }\n",
       "\n",
       "    .dataframe tbody tr th {\n",
       "        vertical-align: top;\n",
       "    }\n",
       "\n",
       "    .dataframe thead th {\n",
       "        text-align: right;\n",
       "    }\n",
       "</style>\n",
       "<table border=\"1\" class=\"dataframe\">\n",
       "  <thead>\n",
       "    <tr style=\"text-align: right;\">\n",
       "      <th></th>\n",
       "      <th>code</th>\n",
       "      <th>citation</th>\n",
       "      <th>full reference</th>\n",
       "      <th>author list</th>\n",
       "      <th>date</th>\n",
       "      <th>title</th>\n",
       "      <th>post title</th>\n",
       "      <th>doi</th>\n",
       "    </tr>\n",
       "  </thead>\n",
       "  <tbody>\n",
       "    <tr>\n",
       "      <th>0</th>\n",
       "      <td>F1.1</td>\n",
       "      <td>Meyer JL, Strayer DL, Wallace JB, Eggert SL, H...</td>\n",
       "      <td>Meyer JL, Strayer DL, Wallace JB, Eggert SL, H...</td>\n",
       "      <td>Meyer JL, Strayer DL, Wallace JB, Eggert SL, H...</td>\n",
       "      <td>2007</td>\n",
       "      <td>The contribution of headwater streams to biodi...</td>\n",
       "      <td>43: 86–103</td>\n",
       "      <td>10.1111/j.1752-1688.2007.00008.x</td>\n",
       "    </tr>\n",
       "    <tr>\n",
       "      <th>1</th>\n",
       "      <td>F1.1</td>\n",
       "      <td>Meyer JL, Wallace JB  2001</td>\n",
       "      <td>Meyer JL, Wallace JB (2001) **Lost linkages an...</td>\n",
       "      <td>Meyer JL, Wallace JB</td>\n",
       "      <td>2001</td>\n",
       "      <td>None</td>\n",
       "      <td>Blackwell, Oxford</td>\n",
       "      <td>None</td>\n",
       "    </tr>\n",
       "    <tr>\n",
       "      <th>2</th>\n",
       "      <td>F1.1</td>\n",
       "      <td>Giller PS., Giller P., Malmqvist B  1998</td>\n",
       "      <td>Giller PS., Giller P., Malmqvist B (1998) **Th...</td>\n",
       "      <td>Giller PS., Giller P., Malmqvist B</td>\n",
       "      <td>1998</td>\n",
       "      <td>None</td>\n",
       "      <td>Oxford University Press, Oxford</td>\n",
       "      <td>None</td>\n",
       "    </tr>\n",
       "    <tr>\n",
       "      <th>3</th>\n",
       "      <td>F1.2</td>\n",
       "      <td>Tockner K, Malard, F, Ward JV  2000</td>\n",
       "      <td>Tockner K, Malard, F, Ward JV (2000) An extens...</td>\n",
       "      <td>Tockner K, Malard, F, Ward JV</td>\n",
       "      <td>2000</td>\n",
       "      <td>An extension of the flood pulse concept</td>\n",
       "      <td>14: 2861-2883</td>\n",
       "      <td>10.1002/1099-1085(200011/12)14:16/17&lt;2861::aid...</td>\n",
       "    </tr>\n",
       "    <tr>\n",
       "      <th>4</th>\n",
       "      <td>F1.3</td>\n",
       "      <td>Olsson TI  1981</td>\n",
       "      <td>Olsson TI (1981) Overwintering of benthic macr...</td>\n",
       "      <td>Olsson TI</td>\n",
       "      <td>1981</td>\n",
       "      <td>Overwintering of benthic macroinvertebrates in...</td>\n",
       "      <td>4: 161-166</td>\n",
       "      <td>10.1111/j.1600-0587.1981.tb00993.x</td>\n",
       "    </tr>\n",
       "  </tbody>\n",
       "</table>\n",
       "</div>"
      ],
      "text/plain": [
       "   code                                           citation  \\\n",
       "0  F1.1  Meyer JL, Strayer DL, Wallace JB, Eggert SL, H...   \n",
       "1  F1.1                         Meyer JL, Wallace JB  2001   \n",
       "2  F1.1           Giller PS., Giller P., Malmqvist B  1998   \n",
       "3  F1.2                Tockner K, Malard, F, Ward JV  2000   \n",
       "4  F1.3                                    Olsson TI  1981   \n",
       "\n",
       "                                      full reference  \\\n",
       "0  Meyer JL, Strayer DL, Wallace JB, Eggert SL, H...   \n",
       "1  Meyer JL, Wallace JB (2001) **Lost linkages an...   \n",
       "2  Giller PS., Giller P., Malmqvist B (1998) **Th...   \n",
       "3  Tockner K, Malard, F, Ward JV (2000) An extens...   \n",
       "4  Olsson TI (1981) Overwintering of benthic macr...   \n",
       "\n",
       "                                         author list  date  \\\n",
       "0  Meyer JL, Strayer DL, Wallace JB, Eggert SL, H...  2007   \n",
       "1                              Meyer JL, Wallace JB   2001   \n",
       "2                Giller PS., Giller P., Malmqvist B   1998   \n",
       "3                     Tockner K, Malard, F, Ward JV   2000   \n",
       "4                                         Olsson TI   1981   \n",
       "\n",
       "                                               title  \\\n",
       "0  The contribution of headwater streams to biodi...   \n",
       "1                                               None   \n",
       "2                                               None   \n",
       "3            An extension of the flood pulse concept   \n",
       "4  Overwintering of benthic macroinvertebrates in...   \n",
       "\n",
       "                        post title  \\\n",
       "0                       43: 86–103   \n",
       "1                Blackwell, Oxford   \n",
       "2  Oxford University Press, Oxford   \n",
       "3                    14: 2861-2883   \n",
       "4                       4: 161-166   \n",
       "\n",
       "                                                 doi  \n",
       "0                   10.1111/j.1752-1688.2007.00008.x  \n",
       "1                                               None  \n",
       "2                                               None  \n",
       "3  10.1002/1099-1085(200011/12)14:16/17<2861::aid...  \n",
       "4                 10.1111/j.1600-0587.1981.tb00993.x  "
      ]
     },
     "execution_count": 47,
     "metadata": {},
     "output_type": "execute_result"
    }
   ],
   "source": [
    "refs_df.head()"
   ]
  },
  {
   "cell_type": "code",
   "execution_count": 48,
   "id": "13684602-32d9-4471-9b40-daf94518dfd9",
   "metadata": {},
   "outputs": [],
   "source": [
    "outfile = \"IUCN-GET-profiles-exported-%s.xlsx\" % date.today()"
   ]
  },
  {
   "cell_type": "markdown",
   "id": "659bb8e8-ec8d-4c1e-98c9-3e5078899752",
   "metadata": {},
   "source": [
    "Should include a tab with following info, and conditions:\n",
    "Worksheet 1 includes code, name, short name and short descriptions and summaries, Worksheet 2 contains the complete text for three sections of the profile and names of profile authors, Worksheet 3 contains the list of references for each unit. Use column 'code' to join content from different worksheets. \n",
    "\n",
    "Also add one column with fully formatted citation and weblink to facilitate reuse."
   ]
  },
  {
   "cell_type": "code",
   "execution_count": 50,
   "id": "2e8f847a-6506-4c1b-a847-b1d9d129afd7",
   "metadata": {},
   "outputs": [],
   "source": [
    "cent_align=Alignment(horizontal='center', vertical='center', wrap_text=False)\n",
    "wrap_align=Alignment(horizontal='left', vertical='top', wrap_text=True)\n",
    "\n",
    "fontSmall = Font(size = \"9\")\n",
    "\n",
    "\n",
    "sheet_colors = {\"intro\": \"1072BA\" , \"summary\": \"5AFF5A\", \"default\":\"505050\", \"addentry\": \"20CA82\"}\n",
    "\n",
    "table_style={\"Instructions\":TableStyleInfo(name=\"TableStyleMedium9\", showFirstColumn=True, showLastColumn=False, \n",
    "                                           showRowStripes=True, showColumnStripes=False),\n",
    "\n",
    "             }"
   ]
  },
  {
   "cell_type": "code",
   "execution_count": 51,
   "id": "ecfbe8f1-41f3-473a-8b8b-6bafb14b00d2",
   "metadata": {},
   "outputs": [],
   "source": [
    "wb = Workbook()\n",
    "ws = wb.active\n",
    "item = {\"title\": \"About\", \"colWidths\":[(\"A\",90),(\"B\",40)], \"tabColor\":\"intro\",\"active\":True}\n",
    "ws.title = item['title']\n",
    "for k in item['colWidths']:\n",
    "    for j in k[0]:\n",
    "        ws.column_dimensions[j].width = k[1]\n",
    "ws.sheet_properties.tabColor = sheet_colors[item[\"tabColor\"]]"
   ]
  },
  {
   "cell_type": "code",
   "execution_count": 52,
   "id": "11130fc7-bc13-4b04-8c7b-605d5a020f32",
   "metadata": {
    "tags": []
   },
   "outputs": [],
   "source": [
    "info = (\"Profiles of IUCN Global Ecosystem Typology Level 3 units\",\n",
    "        \"Version 2.1 (June 2022)\",\n",
    "        \"This data export reflects the status of the database on the %s\" % date.today().strftime('%d %b %Y'),\n",
    "        \"Please cite the source of this work as:\",\n",
    "        \"Keith, D. A., J. R. Ferrer-Paris, E. Nicholson, M. Bishop, B. A, Polidoro, E. Ramirez-Llodra, M. G. Tozer, J. L. Nel, R. Mac Nally, E. J. Gregr, K. E. Watermeyer, F. Essl, D. Faber-Langendoen, J. Franklin, C. E. R. Lehmann, A. Etter, D. J. Roux, J. S. Stark, J. A. Rowland, N. A. Brummitt, U. C. Fernandez-Arcaya, I. M. Suthers, S. K. Wiser, I. Donohue, L. J. Jackson, R. T. Pennington, N. Pettorelli, A. Andrade, A. Lindgaard, T. Tahvanainen, A. Terauds, M. A. Chadwick, N. J. Murray, J. Moat, P. Pliscoff, I. Zager, and R. T. Kingsford (2022) A function-based typology for Earth’s ecosystems Nature 610, 513–518. DOI:10.1038/s41586-022-05318-4.\", \n",
    "        \"On line at https://global-ecosystems.org/\",\n",
    "        \"DESCRIPTION:\",\n",
    "        \"Workbook with profile content for 110 Ecosystem Functional Groups of the IUCN Global Ecosystem Typology (Level 3 units).\",\n",
    "        \"CONDITIONS:\",\n",
    "        \"To reuse this content in other on-line resources you have to agree with these three conditions:\",\n",
    "        \"1) acknowledge primary sources with citations & web links (https://global-ecosystems.org/)\",\n",
    "        \"2) include version number and update with new versions whenever possible\",\n",
    "        \"3) no modifications without agreement from IUCN Commission on Ecosystem Management or the relevant Working/Thematic Group\",\n",
    "        \"CONTENT:\",\n",
    "        \"Worksheet 1 (Short description) includes code, name, short name and short descriptions and summaries\",\n",
    "        \"Worksheet 2 (Profile text) contains the complete text for three sections of the profile and names of profile authors\",\n",
    "        \"Worksheet 3 (List of references) contains the list of references for each unit. \",\n",
    "        \"Use column 'code' to join content from different worksheets.\"\n",
    "        )\n",
    "\n",
    "k = 1\n",
    "for row in info:\n",
    "    ws.cell(k,1,value=row)\n",
    "    ws.cell(k,1).alignment=wrap_align\n",
    "    k=k+1\n",
    "    \n",
    "ws.cell(1,1).style='Title'\n",
    "ws.cell(6,1).hyperlink='https://global-ecosystems.org/'\n",
    "ws.cell(6,1).style='Hyperlink'\n",
    "\n",
    "# Disclaimer\n",
    "ws.cell(9,1).font=Font(color=\"FF0000\", bold=True,italic=False) \n",
    "ws.cell(11,1).font=Font(color=\"FF0000\", italic=True) \n",
    "ws.cell(12,1).font=Font(color=\"FF0000\", italic=True) \n",
    "ws.cell(13,1).font=Font(color=\"FF0000\", italic=True) \n",
    "\n",
    "\n",
    "supporters = (\n",
    "    {'institution':\"International Union for the Conservation of Nature\",'url':\"https://www.iucn.org/\"},\n",
    "    {'institution':\"IUCN Commission on Ecosystem Management\",'url':\"https://www.iucn.org/commissions/commission-ecosystem-management\"},\n",
    "    {'institution':\"IUCN Red List of Ecosystems Thematic Group\",'url':\"https://iucnrle.org/\"},\n",
    "    {'institution':\"University of New South Wales\",'url':\"https://www.unsw.edu.au/\"},\n",
    "    {'institution':\"UNSW Centre for Ecosystem Science\",'url':\"https://www.ecosystem.unsw.edu.au/\"},\n",
    " )\n",
    "    \n",
    "\n",
    "k=k+2\n",
    "ws.cell(k-1,1,value=\"Links:\")\n",
    "for item in supporters:\n",
    "    cell=ws.cell(k,1)\n",
    "    cell.value=item['institution']\n",
    "    cell.hyperlink=item['url']\n",
    "    cell.style = \"Hyperlink\"\n",
    "    k=k+1\n"
   ]
  },
  {
   "cell_type": "code",
   "execution_count": 53,
   "id": "631f0b25-0c30-41ff-bfa5-c2cd82ed3235",
   "metadata": {},
   "outputs": [],
   "source": [
    "wb.save(repodir / 'data' / outfile)"
   ]
  },
  {
   "cell_type": "markdown",
   "id": "9955ed50-de99-4621-bb84-46e683c949c4",
   "metadata": {},
   "source": [
    "We then add the other worksheets with pandas:"
   ]
  },
  {
   "cell_type": "code",
   "execution_count": 54,
   "id": "e90b7492-1a09-4913-bb1f-9fa8b7e557cb",
   "metadata": {},
   "outputs": [],
   "source": [
    "with pd.ExcelWriter(repodir / 'data' / outfile, mode=\"a\") as writer:  \n",
    "    short_table_df.to_excel(writer, sheet_name='Short description', index=False, freeze_panes=(1,1))\n",
    "    long_table_df.to_excel(writer, sheet_name='Profile text', index=False, freeze_panes=(1,1))\n",
    "    refs_df.to_excel(writer, sheet_name='List of References', index=False, freeze_panes=(1,2))"
   ]
  }
 ],
 "metadata": {
  "kernelspec": {
   "display_name": "Python 3 (ipykernel)",
   "language": "python",
   "name": "python3"
  },
  "language_info": {
   "codemirror_mode": {
    "name": "ipython",
    "version": 3
   },
   "file_extension": ".py",
   "mimetype": "text/x-python",
   "name": "python",
   "nbconvert_exporter": "python",
   "pygments_lexer": "ipython3",
   "version": "3.11.8"
  }
 },
 "nbformat": 4,
 "nbformat_minor": 5
}

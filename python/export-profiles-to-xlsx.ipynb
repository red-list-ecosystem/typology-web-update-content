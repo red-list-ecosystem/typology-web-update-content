{
 "cells": [
  {
   "cell_type": "code",
   "execution_count": 1,
   "id": "fdbbc141-99b4-4937-a029-16924160c016",
   "metadata": {},
   "outputs": [],
   "source": [
    "import os\n",
    "from pathlib import Path\n",
    "import re\n",
    "from datetime import date,datetime\n",
    "from configparser import ConfigParser\n",
    "import psycopg2\n",
    "from psycopg2.extensions import AsIs\n",
    "import pandas as pd\n",
    "import pyprojroot"
   ]
  },
  {
   "cell_type": "code",
   "execution_count": 2,
   "id": "3f277355-9530-4012-952a-39be767a8233",
   "metadata": {},
   "outputs": [],
   "source": [
    "repodir = pyprojroot.find_root(pyprojroot.has_dir(\".git\"))"
   ]
  },
  {
   "cell_type": "code",
   "execution_count": 3,
   "id": "865edf01-82d6-4b65-8e80-a3127395c19f",
   "metadata": {},
   "outputs": [],
   "source": [
    "filename = Path(os.path.expanduser('~')) / \".database.ini\"\n",
    "section = 'iucnecoadm'\n",
    "\n",
    "parser = ConfigParser()\n",
    "parser.read(filename)\n",
    "db = {}\n",
    "if parser.has_section(section):\n",
    "    params = parser.items(section)\n",
    "    for param in params:\n",
    "        db[param[0]] = param[1]\n",
    "else:\n",
    "    raise Exception('Section {0} not found in the {1} file'.format(section, filename))\n",
    "\n",
    "params = db"
   ]
  },
  {
   "cell_type": "code",
   "execution_count": 4,
   "id": "8280851b-ab3a-46a2-8dd5-09b402bbb215",
   "metadata": {},
   "outputs": [],
   "source": [
    "conn = psycopg2.connect(**db)\n",
    "cur = conn.cursor()"
   ]
  },
  {
   "cell_type": "code",
   "execution_count": 5,
   "id": "8e885469-41fd-4b38-8475-f4350b4c02ec",
   "metadata": {},
   "outputs": [],
   "source": [
    "qry = \"\"\"\n",
    "SELECT code, biome_code, name, shortname, update, shortdesc, keyfeatures, distdesc \n",
    "FROM functional_groups \n",
    "ORDER BY biome_code ;\"\"\"\n",
    "cur.execute(qry )\n",
    "short_table = cur.fetchall()"
   ]
  },
  {
   "cell_type": "code",
   "execution_count": 6,
   "id": "375007e1-6b04-444c-97f3-fbad653543ad",
   "metadata": {},
   "outputs": [],
   "source": [
    "qry = \"\"\"\n",
    "SELECT code, name,\n",
    "et.description as traits, k.description as key_drivers, d.description as distribution, \n",
    "array_to_string(contributors,' :: '), 'Content version ' || version || ' updated ' || date(k.update)\n",
    "FROM efg_key_ecological_drivers as k\n",
    "LEFT JOIN efg_ecological_traits as et\n",
    "    USING (code,language,version,contributors)\n",
    "LEFT JOIN efg_distribution as d\n",
    "    USING (code,language,version,contributors)\n",
    "LEFT JOIN functional_groups\n",
    "    USING(code)\n",
    "WHERE language = 'en' AND version = 'v2.1';\"\"\"\n",
    "cur.execute(qry )\n",
    "long_table = cur.fetchall()"
   ]
  },
  {
   "cell_type": "code",
   "execution_count": 7,
   "id": "028ac1e1-b019-4dea-a378-c0a724483dd1",
   "metadata": {},
   "outputs": [],
   "source": [
    "qry = \"\"\"\n",
    "SELECT code, ref_code, ref_cite, author_list,date,title,post_title,doi\n",
    "FROM efg_references \n",
    "LEFT JOIN ref_list \n",
    "    USING (ref_code)\n",
    "ORDER BY code;\n",
    "\"\"\"\n",
    "cur.execute(qry )\n",
    "references = cur.fetchall()"
   ]
  },
  {
   "cell_type": "code",
   "execution_count": 8,
   "id": "42390d7e-38b7-4ba0-9ecf-0f130cc24723",
   "metadata": {},
   "outputs": [
    {
     "name": "stdout",
     "output_type": "stream",
     "text": [
      "Database connection closed.\n"
     ]
    }
   ],
   "source": [
    "cur.close()\n",
    "conn.commit()\n",
    "if conn is not None:\n",
    "    conn.close()\n",
    "    print('Database connection closed.')"
   ]
  },
  {
   "cell_type": "code",
   "execution_count": 9,
   "id": "866b84c3-0296-4bc1-a9e7-89fea3196f56",
   "metadata": {},
   "outputs": [],
   "source": [
    "short_table_df = pd.DataFrame(short_table,\n",
    "                           columns=(\"code\",\"biome code\", \"name\", \"short name\", \"update\", \"short description\", \"key features\", \"distribution summary\"))"
   ]
  },
  {
   "cell_type": "code",
   "execution_count": 10,
   "id": "bb6f4c61-420c-43c9-9d96-f0ff807554f5",
   "metadata": {},
   "outputs": [],
   "source": [
    "long_table_df = pd.DataFrame(long_table,\n",
    "             columns=(\"code\", \"name\", \"ecosystem properties\", \"ecological drivers\", \"distribution\", \"contributors\",\"update\"))"
   ]
  },
  {
   "cell_type": "code",
   "execution_count": 11,
   "id": "64221f87-6d73-47b6-acb6-bbc57f4a376a",
   "metadata": {},
   "outputs": [],
   "source": [
    "refs_df = pd.DataFrame(references,\n",
    "             columns=(\"code\", \"citation\", \"full reference\", \"author list\", \"date\", \"title\", \"post title\",\"doi\"))"
   ]
  },
  {
   "cell_type": "code",
   "execution_count": 12,
   "id": "f0a36580-6d8a-40e6-824e-2103a347a580",
   "metadata": {},
   "outputs": [
    {
     "data": {
      "text/html": [
       "<div>\n",
       "<style scoped>\n",
       "    .dataframe tbody tr th:only-of-type {\n",
       "        vertical-align: middle;\n",
       "    }\n",
       "\n",
       "    .dataframe tbody tr th {\n",
       "        vertical-align: top;\n",
       "    }\n",
       "\n",
       "    .dataframe thead th {\n",
       "        text-align: right;\n",
       "    }\n",
       "</style>\n",
       "<table border=\"1\" class=\"dataframe\">\n",
       "  <thead>\n",
       "    <tr style=\"text-align: right;\">\n",
       "      <th></th>\n",
       "      <th>code</th>\n",
       "      <th>citation</th>\n",
       "      <th>full reference</th>\n",
       "      <th>author list</th>\n",
       "      <th>date</th>\n",
       "      <th>title</th>\n",
       "      <th>post title</th>\n",
       "      <th>doi</th>\n",
       "    </tr>\n",
       "  </thead>\n",
       "  <tbody>\n",
       "    <tr>\n",
       "      <th>0</th>\n",
       "      <td>F1.1</td>\n",
       "      <td>Meyer JL, Strayer DL, Wallace JB, Eggert SL, H...</td>\n",
       "      <td>Meyer JL, Strayer DL, Wallace JB, Eggert SL, H...</td>\n",
       "      <td>Meyer JL, Strayer DL, Wallace JB, Eggert SL, H...</td>\n",
       "      <td>2007</td>\n",
       "      <td>The contribution of headwater streams to biodi...</td>\n",
       "      <td>43: 86–103</td>\n",
       "      <td>10.1111/j.1752-1688.2007.00008.x</td>\n",
       "    </tr>\n",
       "    <tr>\n",
       "      <th>1</th>\n",
       "      <td>F1.1</td>\n",
       "      <td>Meyer JL, Wallace JB  2001</td>\n",
       "      <td>Meyer JL, Wallace JB (2001) **Lost linkages an...</td>\n",
       "      <td>Meyer JL, Wallace JB</td>\n",
       "      <td>2001</td>\n",
       "      <td>None</td>\n",
       "      <td>Blackwell, Oxford</td>\n",
       "      <td>None</td>\n",
       "    </tr>\n",
       "    <tr>\n",
       "      <th>2</th>\n",
       "      <td>F1.1</td>\n",
       "      <td>Giller PS., Giller P., Malmqvist B  1998</td>\n",
       "      <td>Giller PS., Giller P., Malmqvist B (1998) **Th...</td>\n",
       "      <td>Giller PS., Giller P., Malmqvist B</td>\n",
       "      <td>1998</td>\n",
       "      <td>None</td>\n",
       "      <td>Oxford University Press, Oxford</td>\n",
       "      <td>None</td>\n",
       "    </tr>\n",
       "    <tr>\n",
       "      <th>3</th>\n",
       "      <td>F1.2</td>\n",
       "      <td>Tockner K, Malard, F, Ward JV  2000</td>\n",
       "      <td>Tockner K, Malard, F, Ward JV (2000) An extens...</td>\n",
       "      <td>Tockner K, Malard, F, Ward JV</td>\n",
       "      <td>2000</td>\n",
       "      <td>An extension of the flood pulse concept</td>\n",
       "      <td>14: 2861-2883</td>\n",
       "      <td>10.1002/1099-1085(200011/12)14:16/17&lt;2861::aid...</td>\n",
       "    </tr>\n",
       "    <tr>\n",
       "      <th>4</th>\n",
       "      <td>F1.3</td>\n",
       "      <td>Olsson TI  1981</td>\n",
       "      <td>Olsson TI (1981) Overwintering of benthic macr...</td>\n",
       "      <td>Olsson TI</td>\n",
       "      <td>1981</td>\n",
       "      <td>Overwintering of benthic macroinvertebrates in...</td>\n",
       "      <td>4: 161-166</td>\n",
       "      <td>10.1111/j.1600-0587.1981.tb00993.x</td>\n",
       "    </tr>\n",
       "  </tbody>\n",
       "</table>\n",
       "</div>"
      ],
      "text/plain": [
       "   code                                           citation  \\\n",
       "0  F1.1  Meyer JL, Strayer DL, Wallace JB, Eggert SL, H...   \n",
       "1  F1.1                         Meyer JL, Wallace JB  2001   \n",
       "2  F1.1           Giller PS., Giller P., Malmqvist B  1998   \n",
       "3  F1.2                Tockner K, Malard, F, Ward JV  2000   \n",
       "4  F1.3                                    Olsson TI  1981   \n",
       "\n",
       "                                      full reference  \\\n",
       "0  Meyer JL, Strayer DL, Wallace JB, Eggert SL, H...   \n",
       "1  Meyer JL, Wallace JB (2001) **Lost linkages an...   \n",
       "2  Giller PS., Giller P., Malmqvist B (1998) **Th...   \n",
       "3  Tockner K, Malard, F, Ward JV (2000) An extens...   \n",
       "4  Olsson TI (1981) Overwintering of benthic macr...   \n",
       "\n",
       "                                         author list  date  \\\n",
       "0  Meyer JL, Strayer DL, Wallace JB, Eggert SL, H...  2007   \n",
       "1                              Meyer JL, Wallace JB   2001   \n",
       "2                Giller PS., Giller P., Malmqvist B   1998   \n",
       "3                     Tockner K, Malard, F, Ward JV   2000   \n",
       "4                                         Olsson TI   1981   \n",
       "\n",
       "                                               title  \\\n",
       "0  The contribution of headwater streams to biodi...   \n",
       "1                                               None   \n",
       "2                                               None   \n",
       "3            An extension of the flood pulse concept   \n",
       "4  Overwintering of benthic macroinvertebrates in...   \n",
       "\n",
       "                        post title  \\\n",
       "0                       43: 86–103   \n",
       "1                Blackwell, Oxford   \n",
       "2  Oxford University Press, Oxford   \n",
       "3                    14: 2861-2883   \n",
       "4                       4: 161-166   \n",
       "\n",
       "                                                 doi  \n",
       "0                   10.1111/j.1752-1688.2007.00008.x  \n",
       "1                                               None  \n",
       "2                                               None  \n",
       "3  10.1002/1099-1085(200011/12)14:16/17<2861::aid...  \n",
       "4                 10.1111/j.1600-0587.1981.tb00993.x  "
      ]
     },
     "execution_count": 12,
     "metadata": {},
     "output_type": "execute_result"
    }
   ],
   "source": [
    "refs_df.head()"
   ]
  },
  {
   "cell_type": "code",
   "execution_count": 13,
   "id": "13684602-32d9-4471-9b40-daf94518dfd9",
   "metadata": {},
   "outputs": [],
   "source": [
    "outfile = \"IUCN-GET-profiles-exported-%s.xlsx\" % date.today()"
   ]
  },
  {
   "cell_type": "code",
   "execution_count": 14,
   "id": "e90b7492-1a09-4913-bb1f-9fa8b7e557cb",
   "metadata": {},
   "outputs": [],
   "source": [
    "with pd.ExcelWriter(repodir / 'data' / outfile) as writer:  \n",
    "    short_table_df.to_excel(writer, sheet_name='Short description', index=False, freeze_panes=(1,1))\n",
    "    long_table_df.to_excel(writer, sheet_name='Profile text', index=False, freeze_panes=(1,1))\n",
    "    refs_df.to_excel(writer, sheet_name='List of References', index=False, freeze_panes=(1,2))"
   ]
  },
  {
   "cell_type": "code",
   "execution_count": null,
   "id": "8cc2583f-0352-45cc-930f-d9158d2777cd",
   "metadata": {},
   "outputs": [],
   "source": []
  },
  {
   "cell_type": "code",
   "execution_count": null,
   "id": "1fd7d2af-7a7e-4550-9015-c775ccc0d71f",
   "metadata": {},
   "outputs": [],
   "source": []
  }
 ],
 "metadata": {
  "kernelspec": {
   "display_name": "Python 3 (ipykernel)",
   "language": "python",
   "name": "python3"
  },
  "language_info": {
   "codemirror_mode": {
    "name": "ipython",
    "version": 3
   },
   "file_extension": ".py",
   "mimetype": "text/x-python",
   "name": "python",
   "nbconvert_exporter": "python",
   "pygments_lexer": "ipython3",
   "version": "3.10.11"
  }
 },
 "nbformat": 4,
 "nbformat_minor": 5
}
